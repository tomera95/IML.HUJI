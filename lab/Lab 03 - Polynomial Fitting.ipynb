{
 "cells": [
  {
   "cell_type": "markdown",
   "metadata": {
    "collapsed": true,
    "pycharm": {
     "name": "#%% md\n"
    }
   },
   "source": [
    "# Lab 03 - Polynomial Fitting\n",
    "In the previous lab we discussed linear regression and the OLS estimator for solving the minimization of the RSS. As we\n",
    "mentioned, regression problems are a very wide family of settings and algorithms which we use to try to estimate the relation between a set of explanatory variables and a **continuous** response (i.e. $\\mathcal{Y}\\in\\mathbb{R}^p$). In the following lab we will discuss one such setting called \"Polynomial Fitting\". \n",
    "\n",
    "Sometimes, the data (and the relation between the explanatory variables and response) can be described by some polynomial\n",
    "of some degree. Here, we only focus on the case where it is a polynomial of a single variable. That is: \n",
    "$$ p_k\\left(x\\right)=\\sum_{i=0}^{k}\\alpha_i x^i\\quad\\alpha_0,\\ldots,\\alpha_k\\in\\mathbb{R} $$\n",
    "\n",
    "So our hypothesis class is of the form:\n",
    "$$ \\mathcal{H}^k_{poly}=\\left\\{p_k\\,\\Big|\\, p_k\\left(x\\right)=\\sum_{i=0}^{k}\\alpha_i x^i\\quad\\alpha_0,\\ldots,\\alpha_k\\in\\mathbb{R}\\right\\} $$\n",
    "\n",
    "Notice that similar to linear regression, each hypothesis in the class is defined by a coefficients vector. Below are two\n",
    "examples (simulated and real) for datasets where the relation between the explanatory variable and response is polynomial."
   ]
  },
  {
   "cell_type": "code",
   "execution_count": 13,
   "metadata": {},
   "outputs": [],
   "source": [
    "import sys\n",
    "sys.path.append(\"../\")\n",
    "from utils import *"
   ]
  },
  {
   "cell_type": "code",
   "execution_count": 14,
   "metadata": {
    "pycharm": {
     "name": "#%%\n"
    }
   },
   "outputs": [
    {
     "data": {
      "application/vnd.plotly.v1+json": {
       "data": [
        {
         "marker": {
          "color": "black",
          "opacity": 0.7
         },
         "mode": "markers",
         "showlegend": false,
         "x": [
          -1.2,
          -1.0358974358974358,
          -0.8717948717948718,
          -0.7076923076923076,
          -0.5435897435897435,
          -0.37948717948717947,
          -0.21538461538461529,
          -0.05128205128205132,
          0.11282051282051286,
          0.27692307692307705,
          0.441025641025641,
          0.6051282051282052,
          0.7692307692307694,
          0.9333333333333333,
          1.0974358974358973,
          1.2615384615384617,
          1.4256410256410257,
          1.5897435897435896,
          1.753846153846154,
          1.917948717948718
         ],
         "y": [
          5.8096,
          3.8381753317244733,
          2.522800884051074,
          1.7092797030916282,
          1.2608197821340592,
          1.058034061642376,
          0.9989404292566787,
          0.9989617197931566,
          0.9909257152440888,
          0.9250651447778439,
          0.7690176847388803,
          0.5078259586477458,
          0.14393753720107805,
          -0.3027950617283952,
          -0.7951143730918573,
          -1.278357984664403,
          -1.6804585370450331,
          -1.911943723656666,
          -1.8659362907461214,
          -1.418154037384138
         ],
         "type": "scatter",
         "xaxis": "x",
         "yaxis": "y"
        },
        {
         "marker": {
          "color": "black",
          "opacity": 0.7
         },
         "mode": "markers",
         "showlegend": false,
         "x": [
          "Business Analyst",
          "Junior Consultant",
          "Senior Consultant",
          "Manager",
          "Country Manager",
          "Region Manager",
          "Partner",
          "Senior Partner",
          "C-level",
          "CEO"
         ],
         "y": [
          45000,
          50000,
          60000,
          80000,
          110000,
          150000,
          200000,
          300000,
          500000,
          1000000
         ],
         "type": "scatter",
         "xaxis": "x2",
         "yaxis": "y2"
        }
       ],
       "layout": {
        "template": {
         "data": {
          "barpolar": [
           {
            "marker": {
             "line": {
              "color": "white",
              "width": 0.5
             },
             "pattern": {
              "fillmode": "overlay",
              "size": 10,
              "solidity": 0.2
             }
            },
            "type": "barpolar"
           }
          ],
          "bar": [
           {
            "error_x": {
             "color": "rgb(36,36,36)"
            },
            "error_y": {
             "color": "rgb(36,36,36)"
            },
            "marker": {
             "line": {
              "color": "white",
              "width": 0.5
             },
             "pattern": {
              "fillmode": "overlay",
              "size": 10,
              "solidity": 0.2
             }
            },
            "type": "bar"
           }
          ],
          "carpet": [
           {
            "aaxis": {
             "endlinecolor": "rgb(36,36,36)",
             "gridcolor": "white",
             "linecolor": "white",
             "minorgridcolor": "white",
             "startlinecolor": "rgb(36,36,36)"
            },
            "baxis": {
             "endlinecolor": "rgb(36,36,36)",
             "gridcolor": "white",
             "linecolor": "white",
             "minorgridcolor": "white",
             "startlinecolor": "rgb(36,36,36)"
            },
            "type": "carpet"
           }
          ],
          "choropleth": [
           {
            "colorbar": {
             "outlinewidth": 1,
             "tickcolor": "rgb(36,36,36)",
             "ticks": "outside"
            },
            "type": "choropleth"
           }
          ],
          "contourcarpet": [
           {
            "colorbar": {
             "outlinewidth": 1,
             "tickcolor": "rgb(36,36,36)",
             "ticks": "outside"
            },
            "type": "contourcarpet"
           }
          ],
          "contour": [
           {
            "colorbar": {
             "outlinewidth": 1,
             "tickcolor": "rgb(36,36,36)",
             "ticks": "outside"
            },
            "colorscale": [
             [
              0.0,
              "#440154"
             ],
             [
              0.1111111111111111,
              "#482878"
             ],
             [
              0.2222222222222222,
              "#3e4989"
             ],
             [
              0.3333333333333333,
              "#31688e"
             ],
             [
              0.4444444444444444,
              "#26828e"
             ],
             [
              0.5555555555555556,
              "#1f9e89"
             ],
             [
              0.6666666666666666,
              "#35b779"
             ],
             [
              0.7777777777777778,
              "#6ece58"
             ],
             [
              0.8888888888888888,
              "#b5de2b"
             ],
             [
              1.0,
              "#fde725"
             ]
            ],
            "type": "contour"
           }
          ],
          "heatmapgl": [
           {
            "colorbar": {
             "outlinewidth": 1,
             "tickcolor": "rgb(36,36,36)",
             "ticks": "outside"
            },
            "colorscale": [
             [
              0.0,
              "#440154"
             ],
             [
              0.1111111111111111,
              "#482878"
             ],
             [
              0.2222222222222222,
              "#3e4989"
             ],
             [
              0.3333333333333333,
              "#31688e"
             ],
             [
              0.4444444444444444,
              "#26828e"
             ],
             [
              0.5555555555555556,
              "#1f9e89"
             ],
             [
              0.6666666666666666,
              "#35b779"
             ],
             [
              0.7777777777777778,
              "#6ece58"
             ],
             [
              0.8888888888888888,
              "#b5de2b"
             ],
             [
              1.0,
              "#fde725"
             ]
            ],
            "type": "heatmapgl"
           }
          ],
          "heatmap": [
           {
            "colorbar": {
             "outlinewidth": 1,
             "tickcolor": "rgb(36,36,36)",
             "ticks": "outside"
            },
            "colorscale": [
             [
              0.0,
              "#440154"
             ],
             [
              0.1111111111111111,
              "#482878"
             ],
             [
              0.2222222222222222,
              "#3e4989"
             ],
             [
              0.3333333333333333,
              "#31688e"
             ],
             [
              0.4444444444444444,
              "#26828e"
             ],
             [
              0.5555555555555556,
              "#1f9e89"
             ],
             [
              0.6666666666666666,
              "#35b779"
             ],
             [
              0.7777777777777778,
              "#6ece58"
             ],
             [
              0.8888888888888888,
              "#b5de2b"
             ],
             [
              1.0,
              "#fde725"
             ]
            ],
            "type": "heatmap"
           }
          ],
          "histogram2dcontour": [
           {
            "colorbar": {
             "outlinewidth": 1,
             "tickcolor": "rgb(36,36,36)",
             "ticks": "outside"
            },
            "colorscale": [
             [
              0.0,
              "#440154"
             ],
             [
              0.1111111111111111,
              "#482878"
             ],
             [
              0.2222222222222222,
              "#3e4989"
             ],
             [
              0.3333333333333333,
              "#31688e"
             ],
             [
              0.4444444444444444,
              "#26828e"
             ],
             [
              0.5555555555555556,
              "#1f9e89"
             ],
             [
              0.6666666666666666,
              "#35b779"
             ],
             [
              0.7777777777777778,
              "#6ece58"
             ],
             [
              0.8888888888888888,
              "#b5de2b"
             ],
             [
              1.0,
              "#fde725"
             ]
            ],
            "type": "histogram2dcontour"
           }
          ],
          "histogram2d": [
           {
            "colorbar": {
             "outlinewidth": 1,
             "tickcolor": "rgb(36,36,36)",
             "ticks": "outside"
            },
            "colorscale": [
             [
              0.0,
              "#440154"
             ],
             [
              0.1111111111111111,
              "#482878"
             ],
             [
              0.2222222222222222,
              "#3e4989"
             ],
             [
              0.3333333333333333,
              "#31688e"
             ],
             [
              0.4444444444444444,
              "#26828e"
             ],
             [
              0.5555555555555556,
              "#1f9e89"
             ],
             [
              0.6666666666666666,
              "#35b779"
             ],
             [
              0.7777777777777778,
              "#6ece58"
             ],
             [
              0.8888888888888888,
              "#b5de2b"
             ],
             [
              1.0,
              "#fde725"
             ]
            ],
            "type": "histogram2d"
           }
          ],
          "histogram": [
           {
            "marker": {
             "line": {
              "color": "white",
              "width": 0.6
             }
            },
            "type": "histogram"
           }
          ],
          "mesh3d": [
           {
            "colorbar": {
             "outlinewidth": 1,
             "tickcolor": "rgb(36,36,36)",
             "ticks": "outside"
            },
            "type": "mesh3d"
           }
          ],
          "parcoords": [
           {
            "line": {
             "colorbar": {
              "outlinewidth": 1,
              "tickcolor": "rgb(36,36,36)",
              "ticks": "outside"
             }
            },
            "type": "parcoords"
           }
          ],
          "pie": [
           {
            "automargin": true,
            "type": "pie"
           }
          ],
          "scatter3d": [
           {
            "line": {
             "colorbar": {
              "outlinewidth": 1,
              "tickcolor": "rgb(36,36,36)",
              "ticks": "outside"
             }
            },
            "marker": {
             "colorbar": {
              "outlinewidth": 1,
              "tickcolor": "rgb(36,36,36)",
              "ticks": "outside"
             }
            },
            "type": "scatter3d"
           }
          ],
          "scattercarpet": [
           {
            "marker": {
             "colorbar": {
              "outlinewidth": 1,
              "tickcolor": "rgb(36,36,36)",
              "ticks": "outside"
             }
            },
            "type": "scattercarpet"
           }
          ],
          "scattergeo": [
           {
            "marker": {
             "colorbar": {
              "outlinewidth": 1,
              "tickcolor": "rgb(36,36,36)",
              "ticks": "outside"
             }
            },
            "type": "scattergeo"
           }
          ],
          "scattergl": [
           {
            "marker": {
             "colorbar": {
              "outlinewidth": 1,
              "tickcolor": "rgb(36,36,36)",
              "ticks": "outside"
             }
            },
            "type": "scattergl"
           }
          ],
          "scattermapbox": [
           {
            "marker": {
             "colorbar": {
              "outlinewidth": 1,
              "tickcolor": "rgb(36,36,36)",
              "ticks": "outside"
             }
            },
            "type": "scattermapbox"
           }
          ],
          "scatterpolargl": [
           {
            "marker": {
             "colorbar": {
              "outlinewidth": 1,
              "tickcolor": "rgb(36,36,36)",
              "ticks": "outside"
             }
            },
            "type": "scatterpolargl"
           }
          ],
          "scatterpolar": [
           {
            "marker": {
             "colorbar": {
              "outlinewidth": 1,
              "tickcolor": "rgb(36,36,36)",
              "ticks": "outside"
             }
            },
            "type": "scatterpolar"
           }
          ],
          "scatter": [
           {
            "marker": {
             "colorbar": {
              "outlinewidth": 1,
              "tickcolor": "rgb(36,36,36)",
              "ticks": "outside"
             }
            },
            "type": "scatter"
           }
          ],
          "scatterternary": [
           {
            "marker": {
             "colorbar": {
              "outlinewidth": 1,
              "tickcolor": "rgb(36,36,36)",
              "ticks": "outside"
             }
            },
            "type": "scatterternary"
           }
          ],
          "surface": [
           {
            "colorbar": {
             "outlinewidth": 1,
             "tickcolor": "rgb(36,36,36)",
             "ticks": "outside"
            },
            "colorscale": [
             [
              0.0,
              "#440154"
             ],
             [
              0.1111111111111111,
              "#482878"
             ],
             [
              0.2222222222222222,
              "#3e4989"
             ],
             [
              0.3333333333333333,
              "#31688e"
             ],
             [
              0.4444444444444444,
              "#26828e"
             ],
             [
              0.5555555555555556,
              "#1f9e89"
             ],
             [
              0.6666666666666666,
              "#35b779"
             ],
             [
              0.7777777777777778,
              "#6ece58"
             ],
             [
              0.8888888888888888,
              "#b5de2b"
             ],
             [
              1.0,
              "#fde725"
             ]
            ],
            "type": "surface"
           }
          ],
          "table": [
           {
            "cells": {
             "fill": {
              "color": "rgb(237,237,237)"
             },
             "line": {
              "color": "white"
             }
            },
            "header": {
             "fill": {
              "color": "rgb(217,217,217)"
             },
             "line": {
              "color": "white"
             }
            },
            "type": "table"
           }
          ]
         },
         "layout": {
          "annotationdefaults": {
           "arrowhead": 0,
           "arrowwidth": 1
          },
          "autotypenumbers": "strict",
          "coloraxis": {
           "colorbar": {
            "outlinewidth": 1,
            "tickcolor": "rgb(36,36,36)",
            "ticks": "outside"
           }
          },
          "colorscale": {
           "diverging": [
            [
             0.0,
             "rgb(103,0,31)"
            ],
            [
             0.1,
             "rgb(178,24,43)"
            ],
            [
             0.2,
             "rgb(214,96,77)"
            ],
            [
             0.3,
             "rgb(244,165,130)"
            ],
            [
             0.4,
             "rgb(253,219,199)"
            ],
            [
             0.5,
             "rgb(247,247,247)"
            ],
            [
             0.6,
             "rgb(209,229,240)"
            ],
            [
             0.7,
             "rgb(146,197,222)"
            ],
            [
             0.8,
             "rgb(67,147,195)"
            ],
            [
             0.9,
             "rgb(33,102,172)"
            ],
            [
             1.0,
             "rgb(5,48,97)"
            ]
           ],
           "sequential": [
            [
             0.0,
             "#440154"
            ],
            [
             0.1111111111111111,
             "#482878"
            ],
            [
             0.2222222222222222,
             "#3e4989"
            ],
            [
             0.3333333333333333,
             "#31688e"
            ],
            [
             0.4444444444444444,
             "#26828e"
            ],
            [
             0.5555555555555556,
             "#1f9e89"
            ],
            [
             0.6666666666666666,
             "#35b779"
            ],
            [
             0.7777777777777778,
             "#6ece58"
            ],
            [
             0.8888888888888888,
             "#b5de2b"
            ],
            [
             1.0,
             "#fde725"
            ]
           ],
           "sequentialminus": [
            [
             0.0,
             "#440154"
            ],
            [
             0.1111111111111111,
             "#482878"
            ],
            [
             0.2222222222222222,
             "#3e4989"
            ],
            [
             0.3333333333333333,
             "#31688e"
            ],
            [
             0.4444444444444444,
             "#26828e"
            ],
            [
             0.5555555555555556,
             "#1f9e89"
            ],
            [
             0.6666666666666666,
             "#35b779"
            ],
            [
             0.7777777777777778,
             "#6ece58"
            ],
            [
             0.8888888888888888,
             "#b5de2b"
            ],
            [
             1.0,
             "#fde725"
            ]
           ]
          },
          "colorway": [
           "#1F77B4",
           "#FF7F0E",
           "#2CA02C",
           "#D62728",
           "#9467BD",
           "#8C564B",
           "#E377C2",
           "#7F7F7F",
           "#BCBD22",
           "#17BECF"
          ],
          "font": {
           "color": "rgb(36,36,36)"
          },
          "geo": {
           "bgcolor": "white",
           "lakecolor": "white",
           "landcolor": "white",
           "showlakes": true,
           "showland": true,
           "subunitcolor": "white"
          },
          "hoverlabel": {
           "align": "left"
          },
          "hovermode": "closest",
          "mapbox": {
           "style": "light"
          },
          "paper_bgcolor": "white",
          "plot_bgcolor": "white",
          "polar": {
           "angularaxis": {
            "gridcolor": "rgb(232,232,232)",
            "linecolor": "rgb(36,36,36)",
            "showgrid": false,
            "showline": true,
            "ticks": "outside"
           },
           "bgcolor": "white",
           "radialaxis": {
            "gridcolor": "rgb(232,232,232)",
            "linecolor": "rgb(36,36,36)",
            "showgrid": false,
            "showline": true,
            "ticks": "outside"
           }
          },
          "scene": {
           "xaxis": {
            "backgroundcolor": "white",
            "gridcolor": "rgb(232,232,232)",
            "gridwidth": 2,
            "linecolor": "rgb(36,36,36)",
            "showbackground": true,
            "showgrid": false,
            "showline": true,
            "ticks": "outside",
            "zeroline": false,
            "zerolinecolor": "rgb(36,36,36)"
           },
           "yaxis": {
            "backgroundcolor": "white",
            "gridcolor": "rgb(232,232,232)",
            "gridwidth": 2,
            "linecolor": "rgb(36,36,36)",
            "showbackground": true,
            "showgrid": false,
            "showline": true,
            "ticks": "outside",
            "zeroline": false,
            "zerolinecolor": "rgb(36,36,36)"
           },
           "zaxis": {
            "backgroundcolor": "white",
            "gridcolor": "rgb(232,232,232)",
            "gridwidth": 2,
            "linecolor": "rgb(36,36,36)",
            "showbackground": true,
            "showgrid": false,
            "showline": true,
            "ticks": "outside",
            "zeroline": false,
            "zerolinecolor": "rgb(36,36,36)"
           }
          },
          "shapedefaults": {
           "fillcolor": "black",
           "line": {
            "width": 0
           },
           "opacity": 0.3
          },
          "ternary": {
           "aaxis": {
            "gridcolor": "rgb(232,232,232)",
            "linecolor": "rgb(36,36,36)",
            "showgrid": false,
            "showline": true,
            "ticks": "outside"
           },
           "baxis": {
            "gridcolor": "rgb(232,232,232)",
            "linecolor": "rgb(36,36,36)",
            "showgrid": false,
            "showline": true,
            "ticks": "outside"
           },
           "bgcolor": "white",
           "caxis": {
            "gridcolor": "rgb(232,232,232)",
            "linecolor": "rgb(36,36,36)",
            "showgrid": false,
            "showline": true,
            "ticks": "outside"
           }
          },
          "title": {
           "x": 0.05
          },
          "xaxis": {
           "automargin": true,
           "gridcolor": "rgb(232,232,232)",
           "linecolor": "rgb(36,36,36)",
           "showgrid": false,
           "showline": true,
           "ticks": "outside",
           "title": {
            "standoff": 15
           },
           "zeroline": false,
           "zerolinecolor": "rgb(36,36,36)"
          },
          "yaxis": {
           "automargin": true,
           "gridcolor": "rgb(232,232,232)",
           "linecolor": "rgb(36,36,36)",
           "showgrid": false,
           "showline": true,
           "ticks": "outside",
           "title": {
            "standoff": 15
           },
           "zeroline": false,
           "zerolinecolor": "rgb(36,36,36)"
          },
          "margin": {
           "b": 0,
           "l": 20,
           "r": 20,
           "t": 40
          }
         }
        },
        "xaxis": {
         "anchor": "y",
         "domain": [
          0.0,
          0.45
         ]
        },
        "yaxis": {
         "anchor": "x",
         "domain": [
          0.0,
          1.0
         ]
        },
        "xaxis2": {
         "anchor": "y2",
         "domain": [
          0.55,
          1.0
         ]
        },
        "yaxis2": {
         "anchor": "x2",
         "domain": [
          0.0,
          1.0
         ]
        },
        "annotations": [
         {
          "font": {
           "size": 16
          },
          "showarrow": false,
          "text": "$\\text{Simulated Data: }y=x^4-2x^3-0.5x^2+1$",
          "x": 0.225,
          "xanchor": "center",
          "xref": "paper",
          "y": 1.0,
          "yanchor": "bottom",
          "yref": "paper"
         },
         {
          "font": {
           "size": 16
          },
          "showarrow": false,
          "text": "$\\text{Positions Salary}$",
          "x": 0.775,
          "xanchor": "center",
          "xref": "paper",
          "y": 1.0,
          "yanchor": "bottom",
          "yref": "paper"
         }
        ],
        "margin": {
         "t": 100
        },
        "title": {
         "text": "$\\text{(1) Datasets For Polynomial Fitting}$"
        }
       },
       "config": {
        "plotlyServerURL": "https://plot.ly"
       }
      },
      "text/html": "<div>                            <div id=\"399c472e-ec70-4e02-b24e-b06604c8f45d\" class=\"plotly-graph-div\" style=\"height:525px; width:100%;\"></div>            <script type=\"text/javascript\">                require([\"plotly\"], function(Plotly) {                    window.PLOTLYENV=window.PLOTLYENV || {};                                    if (document.getElementById(\"399c472e-ec70-4e02-b24e-b06604c8f45d\")) {                    Plotly.newPlot(                        \"399c472e-ec70-4e02-b24e-b06604c8f45d\",                        [{\"marker\":{\"color\":\"black\",\"opacity\":0.7},\"mode\":\"markers\",\"showlegend\":false,\"x\":[-1.2,-1.0358974358974358,-0.8717948717948718,-0.7076923076923076,-0.5435897435897435,-0.37948717948717947,-0.21538461538461529,-0.05128205128205132,0.11282051282051286,0.27692307692307705,0.441025641025641,0.6051282051282052,0.7692307692307694,0.9333333333333333,1.0974358974358973,1.2615384615384617,1.4256410256410257,1.5897435897435896,1.753846153846154,1.917948717948718],\"y\":[5.8096,3.8381753317244733,2.522800884051074,1.7092797030916282,1.2608197821340592,1.058034061642376,0.9989404292566787,0.9989617197931566,0.9909257152440888,0.9250651447778439,0.7690176847388803,0.5078259586477458,0.14393753720107805,-0.3027950617283952,-0.7951143730918573,-1.278357984664403,-1.6804585370450331,-1.911943723656666,-1.8659362907461214,-1.418154037384138],\"type\":\"scatter\",\"xaxis\":\"x\",\"yaxis\":\"y\"},{\"marker\":{\"color\":\"black\",\"opacity\":0.7},\"mode\":\"markers\",\"showlegend\":false,\"x\":[\"Business Analyst\",\"Junior Consultant\",\"Senior Consultant\",\"Manager\",\"Country Manager\",\"Region Manager\",\"Partner\",\"Senior Partner\",\"C-level\",\"CEO\"],\"y\":[45000,50000,60000,80000,110000,150000,200000,300000,500000,1000000],\"type\":\"scatter\",\"xaxis\":\"x2\",\"yaxis\":\"y2\"}],                        {\"template\":{\"data\":{\"barpolar\":[{\"marker\":{\"line\":{\"color\":\"white\",\"width\":0.5},\"pattern\":{\"fillmode\":\"overlay\",\"size\":10,\"solidity\":0.2}},\"type\":\"barpolar\"}],\"bar\":[{\"error_x\":{\"color\":\"rgb(36,36,36)\"},\"error_y\":{\"color\":\"rgb(36,36,36)\"},\"marker\":{\"line\":{\"color\":\"white\",\"width\":0.5},\"pattern\":{\"fillmode\":\"overlay\",\"size\":10,\"solidity\":0.2}},\"type\":\"bar\"}],\"carpet\":[{\"aaxis\":{\"endlinecolor\":\"rgb(36,36,36)\",\"gridcolor\":\"white\",\"linecolor\":\"white\",\"minorgridcolor\":\"white\",\"startlinecolor\":\"rgb(36,36,36)\"},\"baxis\":{\"endlinecolor\":\"rgb(36,36,36)\",\"gridcolor\":\"white\",\"linecolor\":\"white\",\"minorgridcolor\":\"white\",\"startlinecolor\":\"rgb(36,36,36)\"},\"type\":\"carpet\"}],\"choropleth\":[{\"colorbar\":{\"outlinewidth\":1,\"tickcolor\":\"rgb(36,36,36)\",\"ticks\":\"outside\"},\"type\":\"choropleth\"}],\"contourcarpet\":[{\"colorbar\":{\"outlinewidth\":1,\"tickcolor\":\"rgb(36,36,36)\",\"ticks\":\"outside\"},\"type\":\"contourcarpet\"}],\"contour\":[{\"colorbar\":{\"outlinewidth\":1,\"tickcolor\":\"rgb(36,36,36)\",\"ticks\":\"outside\"},\"colorscale\":[[0.0,\"#440154\"],[0.1111111111111111,\"#482878\"],[0.2222222222222222,\"#3e4989\"],[0.3333333333333333,\"#31688e\"],[0.4444444444444444,\"#26828e\"],[0.5555555555555556,\"#1f9e89\"],[0.6666666666666666,\"#35b779\"],[0.7777777777777778,\"#6ece58\"],[0.8888888888888888,\"#b5de2b\"],[1.0,\"#fde725\"]],\"type\":\"contour\"}],\"heatmapgl\":[{\"colorbar\":{\"outlinewidth\":1,\"tickcolor\":\"rgb(36,36,36)\",\"ticks\":\"outside\"},\"colorscale\":[[0.0,\"#440154\"],[0.1111111111111111,\"#482878\"],[0.2222222222222222,\"#3e4989\"],[0.3333333333333333,\"#31688e\"],[0.4444444444444444,\"#26828e\"],[0.5555555555555556,\"#1f9e89\"],[0.6666666666666666,\"#35b779\"],[0.7777777777777778,\"#6ece58\"],[0.8888888888888888,\"#b5de2b\"],[1.0,\"#fde725\"]],\"type\":\"heatmapgl\"}],\"heatmap\":[{\"colorbar\":{\"outlinewidth\":1,\"tickcolor\":\"rgb(36,36,36)\",\"ticks\":\"outside\"},\"colorscale\":[[0.0,\"#440154\"],[0.1111111111111111,\"#482878\"],[0.2222222222222222,\"#3e4989\"],[0.3333333333333333,\"#31688e\"],[0.4444444444444444,\"#26828e\"],[0.5555555555555556,\"#1f9e89\"],[0.6666666666666666,\"#35b779\"],[0.7777777777777778,\"#6ece58\"],[0.8888888888888888,\"#b5de2b\"],[1.0,\"#fde725\"]],\"type\":\"heatmap\"}],\"histogram2dcontour\":[{\"colorbar\":{\"outlinewidth\":1,\"tickcolor\":\"rgb(36,36,36)\",\"ticks\":\"outside\"},\"colorscale\":[[0.0,\"#440154\"],[0.1111111111111111,\"#482878\"],[0.2222222222222222,\"#3e4989\"],[0.3333333333333333,\"#31688e\"],[0.4444444444444444,\"#26828e\"],[0.5555555555555556,\"#1f9e89\"],[0.6666666666666666,\"#35b779\"],[0.7777777777777778,\"#6ece58\"],[0.8888888888888888,\"#b5de2b\"],[1.0,\"#fde725\"]],\"type\":\"histogram2dcontour\"}],\"histogram2d\":[{\"colorbar\":{\"outlinewidth\":1,\"tickcolor\":\"rgb(36,36,36)\",\"ticks\":\"outside\"},\"colorscale\":[[0.0,\"#440154\"],[0.1111111111111111,\"#482878\"],[0.2222222222222222,\"#3e4989\"],[0.3333333333333333,\"#31688e\"],[0.4444444444444444,\"#26828e\"],[0.5555555555555556,\"#1f9e89\"],[0.6666666666666666,\"#35b779\"],[0.7777777777777778,\"#6ece58\"],[0.8888888888888888,\"#b5de2b\"],[1.0,\"#fde725\"]],\"type\":\"histogram2d\"}],\"histogram\":[{\"marker\":{\"line\":{\"color\":\"white\",\"width\":0.6}},\"type\":\"histogram\"}],\"mesh3d\":[{\"colorbar\":{\"outlinewidth\":1,\"tickcolor\":\"rgb(36,36,36)\",\"ticks\":\"outside\"},\"type\":\"mesh3d\"}],\"parcoords\":[{\"line\":{\"colorbar\":{\"outlinewidth\":1,\"tickcolor\":\"rgb(36,36,36)\",\"ticks\":\"outside\"}},\"type\":\"parcoords\"}],\"pie\":[{\"automargin\":true,\"type\":\"pie\"}],\"scatter3d\":[{\"line\":{\"colorbar\":{\"outlinewidth\":1,\"tickcolor\":\"rgb(36,36,36)\",\"ticks\":\"outside\"}},\"marker\":{\"colorbar\":{\"outlinewidth\":1,\"tickcolor\":\"rgb(36,36,36)\",\"ticks\":\"outside\"}},\"type\":\"scatter3d\"}],\"scattercarpet\":[{\"marker\":{\"colorbar\":{\"outlinewidth\":1,\"tickcolor\":\"rgb(36,36,36)\",\"ticks\":\"outside\"}},\"type\":\"scattercarpet\"}],\"scattergeo\":[{\"marker\":{\"colorbar\":{\"outlinewidth\":1,\"tickcolor\":\"rgb(36,36,36)\",\"ticks\":\"outside\"}},\"type\":\"scattergeo\"}],\"scattergl\":[{\"marker\":{\"colorbar\":{\"outlinewidth\":1,\"tickcolor\":\"rgb(36,36,36)\",\"ticks\":\"outside\"}},\"type\":\"scattergl\"}],\"scattermapbox\":[{\"marker\":{\"colorbar\":{\"outlinewidth\":1,\"tickcolor\":\"rgb(36,36,36)\",\"ticks\":\"outside\"}},\"type\":\"scattermapbox\"}],\"scatterpolargl\":[{\"marker\":{\"colorbar\":{\"outlinewidth\":1,\"tickcolor\":\"rgb(36,36,36)\",\"ticks\":\"outside\"}},\"type\":\"scatterpolargl\"}],\"scatterpolar\":[{\"marker\":{\"colorbar\":{\"outlinewidth\":1,\"tickcolor\":\"rgb(36,36,36)\",\"ticks\":\"outside\"}},\"type\":\"scatterpolar\"}],\"scatter\":[{\"marker\":{\"colorbar\":{\"outlinewidth\":1,\"tickcolor\":\"rgb(36,36,36)\",\"ticks\":\"outside\"}},\"type\":\"scatter\"}],\"scatterternary\":[{\"marker\":{\"colorbar\":{\"outlinewidth\":1,\"tickcolor\":\"rgb(36,36,36)\",\"ticks\":\"outside\"}},\"type\":\"scatterternary\"}],\"surface\":[{\"colorbar\":{\"outlinewidth\":1,\"tickcolor\":\"rgb(36,36,36)\",\"ticks\":\"outside\"},\"colorscale\":[[0.0,\"#440154\"],[0.1111111111111111,\"#482878\"],[0.2222222222222222,\"#3e4989\"],[0.3333333333333333,\"#31688e\"],[0.4444444444444444,\"#26828e\"],[0.5555555555555556,\"#1f9e89\"],[0.6666666666666666,\"#35b779\"],[0.7777777777777778,\"#6ece58\"],[0.8888888888888888,\"#b5de2b\"],[1.0,\"#fde725\"]],\"type\":\"surface\"}],\"table\":[{\"cells\":{\"fill\":{\"color\":\"rgb(237,237,237)\"},\"line\":{\"color\":\"white\"}},\"header\":{\"fill\":{\"color\":\"rgb(217,217,217)\"},\"line\":{\"color\":\"white\"}},\"type\":\"table\"}]},\"layout\":{\"annotationdefaults\":{\"arrowhead\":0,\"arrowwidth\":1},\"autotypenumbers\":\"strict\",\"coloraxis\":{\"colorbar\":{\"outlinewidth\":1,\"tickcolor\":\"rgb(36,36,36)\",\"ticks\":\"outside\"}},\"colorscale\":{\"diverging\":[[0.0,\"rgb(103,0,31)\"],[0.1,\"rgb(178,24,43)\"],[0.2,\"rgb(214,96,77)\"],[0.3,\"rgb(244,165,130)\"],[0.4,\"rgb(253,219,199)\"],[0.5,\"rgb(247,247,247)\"],[0.6,\"rgb(209,229,240)\"],[0.7,\"rgb(146,197,222)\"],[0.8,\"rgb(67,147,195)\"],[0.9,\"rgb(33,102,172)\"],[1.0,\"rgb(5,48,97)\"]],\"sequential\":[[0.0,\"#440154\"],[0.1111111111111111,\"#482878\"],[0.2222222222222222,\"#3e4989\"],[0.3333333333333333,\"#31688e\"],[0.4444444444444444,\"#26828e\"],[0.5555555555555556,\"#1f9e89\"],[0.6666666666666666,\"#35b779\"],[0.7777777777777778,\"#6ece58\"],[0.8888888888888888,\"#b5de2b\"],[1.0,\"#fde725\"]],\"sequentialminus\":[[0.0,\"#440154\"],[0.1111111111111111,\"#482878\"],[0.2222222222222222,\"#3e4989\"],[0.3333333333333333,\"#31688e\"],[0.4444444444444444,\"#26828e\"],[0.5555555555555556,\"#1f9e89\"],[0.6666666666666666,\"#35b779\"],[0.7777777777777778,\"#6ece58\"],[0.8888888888888888,\"#b5de2b\"],[1.0,\"#fde725\"]]},\"colorway\":[\"#1F77B4\",\"#FF7F0E\",\"#2CA02C\",\"#D62728\",\"#9467BD\",\"#8C564B\",\"#E377C2\",\"#7F7F7F\",\"#BCBD22\",\"#17BECF\"],\"font\":{\"color\":\"rgb(36,36,36)\"},\"geo\":{\"bgcolor\":\"white\",\"lakecolor\":\"white\",\"landcolor\":\"white\",\"showlakes\":true,\"showland\":true,\"subunitcolor\":\"white\"},\"hoverlabel\":{\"align\":\"left\"},\"hovermode\":\"closest\",\"mapbox\":{\"style\":\"light\"},\"paper_bgcolor\":\"white\",\"plot_bgcolor\":\"white\",\"polar\":{\"angularaxis\":{\"gridcolor\":\"rgb(232,232,232)\",\"linecolor\":\"rgb(36,36,36)\",\"showgrid\":false,\"showline\":true,\"ticks\":\"outside\"},\"bgcolor\":\"white\",\"radialaxis\":{\"gridcolor\":\"rgb(232,232,232)\",\"linecolor\":\"rgb(36,36,36)\",\"showgrid\":false,\"showline\":true,\"ticks\":\"outside\"}},\"scene\":{\"xaxis\":{\"backgroundcolor\":\"white\",\"gridcolor\":\"rgb(232,232,232)\",\"gridwidth\":2,\"linecolor\":\"rgb(36,36,36)\",\"showbackground\":true,\"showgrid\":false,\"showline\":true,\"ticks\":\"outside\",\"zeroline\":false,\"zerolinecolor\":\"rgb(36,36,36)\"},\"yaxis\":{\"backgroundcolor\":\"white\",\"gridcolor\":\"rgb(232,232,232)\",\"gridwidth\":2,\"linecolor\":\"rgb(36,36,36)\",\"showbackground\":true,\"showgrid\":false,\"showline\":true,\"ticks\":\"outside\",\"zeroline\":false,\"zerolinecolor\":\"rgb(36,36,36)\"},\"zaxis\":{\"backgroundcolor\":\"white\",\"gridcolor\":\"rgb(232,232,232)\",\"gridwidth\":2,\"linecolor\":\"rgb(36,36,36)\",\"showbackground\":true,\"showgrid\":false,\"showline\":true,\"ticks\":\"outside\",\"zeroline\":false,\"zerolinecolor\":\"rgb(36,36,36)\"}},\"shapedefaults\":{\"fillcolor\":\"black\",\"line\":{\"width\":0},\"opacity\":0.3},\"ternary\":{\"aaxis\":{\"gridcolor\":\"rgb(232,232,232)\",\"linecolor\":\"rgb(36,36,36)\",\"showgrid\":false,\"showline\":true,\"ticks\":\"outside\"},\"baxis\":{\"gridcolor\":\"rgb(232,232,232)\",\"linecolor\":\"rgb(36,36,36)\",\"showgrid\":false,\"showline\":true,\"ticks\":\"outside\"},\"bgcolor\":\"white\",\"caxis\":{\"gridcolor\":\"rgb(232,232,232)\",\"linecolor\":\"rgb(36,36,36)\",\"showgrid\":false,\"showline\":true,\"ticks\":\"outside\"}},\"title\":{\"x\":0.05},\"xaxis\":{\"automargin\":true,\"gridcolor\":\"rgb(232,232,232)\",\"linecolor\":\"rgb(36,36,36)\",\"showgrid\":false,\"showline\":true,\"ticks\":\"outside\",\"title\":{\"standoff\":15},\"zeroline\":false,\"zerolinecolor\":\"rgb(36,36,36)\"},\"yaxis\":{\"automargin\":true,\"gridcolor\":\"rgb(232,232,232)\",\"linecolor\":\"rgb(36,36,36)\",\"showgrid\":false,\"showline\":true,\"ticks\":\"outside\",\"title\":{\"standoff\":15},\"zeroline\":false,\"zerolinecolor\":\"rgb(36,36,36)\"},\"margin\":{\"b\":0,\"l\":20,\"r\":20,\"t\":40}}},\"xaxis\":{\"anchor\":\"y\",\"domain\":[0.0,0.45]},\"yaxis\":{\"anchor\":\"x\",\"domain\":[0.0,1.0]},\"xaxis2\":{\"anchor\":\"y2\",\"domain\":[0.55,1.0]},\"yaxis2\":{\"anchor\":\"x2\",\"domain\":[0.0,1.0]},\"annotations\":[{\"font\":{\"size\":16},\"showarrow\":false,\"text\":\"$\\\\text{Simulated Data: }y=x^4-2x^3-0.5x^2+1$\",\"x\":0.225,\"xanchor\":\"center\",\"xref\":\"paper\",\"y\":1.0,\"yanchor\":\"bottom\",\"yref\":\"paper\"},{\"font\":{\"size\":16},\"showarrow\":false,\"text\":\"$\\\\text{Positions Salary}$\",\"x\":0.775,\"xanchor\":\"center\",\"xref\":\"paper\",\"y\":1.0,\"yanchor\":\"bottom\",\"yref\":\"paper\"}],\"margin\":{\"t\":100},\"title\":{\"text\":\"$\\\\text{(1) Datasets For Polynomial Fitting}$\"}},                        {\"responsive\": true}                    ).then(function(){\n                            \nvar gd = document.getElementById('399c472e-ec70-4e02-b24e-b06604c8f45d');\nvar x = new MutationObserver(function (mutations, observer) {{\n        var display = window.getComputedStyle(gd).display;\n        if (!display || display === 'none') {{\n            console.log([gd, 'removed!']);\n            Plotly.purge(gd);\n            observer.disconnect();\n        }}\n}});\n\n// Listen for the removal of the full notebook cells\nvar notebookContainer = gd.closest('#notebook-container');\nif (notebookContainer) {{\n    x.observe(notebookContainer, {childList: true});\n}}\n\n// Listen for the clearing of the current output cell\nvar outputEl = gd.closest('.output');\nif (outputEl) {{\n    x.observe(outputEl, {childList: true});\n}}\n\n                        })                };                });            </script>        </div>"
     },
     "metadata": {},
     "output_type": "display_data"
    }
   ],
   "source": [
    "response = lambda x: x**4 - 2*x**3 - .5*x**2 + 1\n",
    "\n",
    "x = np.linspace(-1.2, 2, 40)[0::2]\n",
    "y_ = response(x)\n",
    "\n",
    "df = pd.read_csv(\"../datasets/Position_Salaries.csv\", skiprows=2, index_col=0)\n",
    "x2, y2 = df.index, df.Salary\n",
    "\n",
    "make_subplots(1, 2, subplot_titles=(r\"$\\text{Simulated Data: }y=x^4-2x^3-0.5x^2+1$\", r\"$\\text{Positions Salary}$\"))\\\n",
    "    .add_traces([go.Scatter(x=x, y=y_, mode=\"markers\", marker=dict(color=\"black\", opacity=.7), showlegend=False),\n",
    "                 go.Scatter(x=x2, y=y2, mode=\"markers\",marker=dict(color=\"black\", opacity=.7), showlegend=False)], \n",
    "                rows=[1,1], cols=[1,2])\\\n",
    "    .update_layout(title=r\"$\\text{(1) Datasets For Polynomial Fitting}$\", margin=dict(t=100)).show()\n",
    "\n"
   ]
  },
  {
   "cell_type": "markdown",
   "metadata": {
    "pycharm": {
     "name": "#%% md\n"
    }
   },
   "source": [
    "As we have discussed in class, solving a polynomial fitting problem can be done by first manipulating the input data,\n",
    "such that we represent each sample $x_i\\in\\mathbb{R}$ as a vector $\\mathbf{x}_i=\\left(x^0,x^1,\\ldots,x^k\\right)$. Then,\n",
    "we treat the data as a design matrix $\\mathbf{X}\\in\\mathbb{R}^{m\\times k}$ of a linear regression problem.\n",
    "\n",
    "For the simulated dataset above, which is of a polynomial of degree 4, the design matrix looks as follows: \n"
   ]
  },
  {
   "cell_type": "code",
   "execution_count": 15,
   "metadata": {
    "pycharm": {
     "name": "#%%\n"
    }
   },
   "outputs": [
    {
     "data": {
      "text/plain": "       $x^0$     $x^1$     $x^2$     $x^3$     $x^4$\n$x_1$    1.0 -1.200000  1.440000 -1.728000  2.073600\n$x_2$    1.0 -1.035897  1.073083 -1.111604  1.151508\n$x_3$    1.0 -0.871795  0.760026 -0.662587  0.577640\n$x_4$    1.0 -0.707692  0.500828 -0.354432  0.250829\n$x_5$    1.0 -0.543590  0.295490 -0.160625  0.087314",
      "text/html": "<div>\n<style scoped>\n    .dataframe tbody tr th:only-of-type {\n        vertical-align: middle;\n    }\n\n    .dataframe tbody tr th {\n        vertical-align: top;\n    }\n\n    .dataframe thead th {\n        text-align: right;\n    }\n</style>\n<table border=\"1\" class=\"dataframe\">\n  <thead>\n    <tr style=\"text-align: right;\">\n      <th></th>\n      <th>$x^0$</th>\n      <th>$x^1$</th>\n      <th>$x^2$</th>\n      <th>$x^3$</th>\n      <th>$x^4$</th>\n    </tr>\n  </thead>\n  <tbody>\n    <tr>\n      <th>$x_1$</th>\n      <td>1.0</td>\n      <td>-1.200000</td>\n      <td>1.440000</td>\n      <td>-1.728000</td>\n      <td>2.073600</td>\n    </tr>\n    <tr>\n      <th>$x_2$</th>\n      <td>1.0</td>\n      <td>-1.035897</td>\n      <td>1.073083</td>\n      <td>-1.111604</td>\n      <td>1.151508</td>\n    </tr>\n    <tr>\n      <th>$x_3$</th>\n      <td>1.0</td>\n      <td>-0.871795</td>\n      <td>0.760026</td>\n      <td>-0.662587</td>\n      <td>0.577640</td>\n    </tr>\n    <tr>\n      <th>$x_4$</th>\n      <td>1.0</td>\n      <td>-0.707692</td>\n      <td>0.500828</td>\n      <td>-0.354432</td>\n      <td>0.250829</td>\n    </tr>\n    <tr>\n      <th>$x_5$</th>\n      <td>1.0</td>\n      <td>-0.543590</td>\n      <td>0.295490</td>\n      <td>-0.160625</td>\n      <td>0.087314</td>\n    </tr>\n  </tbody>\n</table>\n</div>"
     },
     "execution_count": 15,
     "metadata": {},
     "output_type": "execute_result"
    }
   ],
   "source": [
    "from sklearn.preprocessing import PolynomialFeatures\n",
    "m, k, X = 5, 4, x.reshape(-1, 1)\n",
    "pd.DataFrame(PolynomialFeatures(k).fit_transform(X[:m]), \n",
    "             columns=[rf\"$x^{{0}}$\".format(i) for i in range(0, k+1)],\n",
    "             index=[rf\"$x_{{0}}$\".format(i) for i in range(1, m+1)])"
   ]
  },
  {
   "cell_type": "markdown",
   "metadata": {
    "pycharm": {
     "name": "#%% md\n"
    }
   },
   "source": [
    "## Fitting A Polynomial Of Different Degrees\n",
    "\n",
    "Next, let us fit polynomials of different degrees and different noise properties to study how it influences the learned model.\n",
    "We begin with the noise-less case where we fit for different values of $k$. As we increase $k$ we manage to fit a model\n",
    "that describes the data in a better way, reflected by the decrease in the MSE.\n",
    "\n",
    "*Notice that in both the `PolynomialFeatures` and `LinearRegression` functions we can add the bias/intercept parameter. As in this case it makes no difference, we will include the bias in the polynomial features transformation and fit a linear regression **without** an intercept. The bias parameter of the polynomial features (i.e. $x^0$) will in reality be the intercept of the linear regression.*"
   ]
  },
  {
   "cell_type": "code",
   "execution_count": 16,
   "metadata": {
    "pycharm": {
     "name": "#%%\n"
    }
   },
   "outputs": [
    {
     "data": {
      "application/vnd.plotly.v1+json": {
       "data": [
        {
         "marker": {
          "color": "black",
          "opacity": 0.7
         },
         "mode": "markers",
         "name": "Real Points",
         "showlegend": false,
         "x": [
          -1.2,
          -1.0358974358974358,
          -0.8717948717948718,
          -0.7076923076923076,
          -0.5435897435897435,
          -0.37948717948717947,
          -0.21538461538461529,
          -0.05128205128205132,
          0.11282051282051286,
          0.27692307692307705,
          0.441025641025641,
          0.6051282051282052,
          0.7692307692307694,
          0.9333333333333333,
          1.0974358974358973,
          1.2615384615384617,
          1.4256410256410257,
          1.5897435897435896,
          1.753846153846154,
          1.917948717948718
         ],
         "y": [
          5.8096,
          3.8381753317244733,
          2.522800884051074,
          1.7092797030916282,
          1.2608197821340592,
          1.058034061642376,
          0.9989404292566787,
          0.9989617197931566,
          0.9909257152440888,
          0.9250651447778439,
          0.7690176847388803,
          0.5078259586477458,
          0.14393753720107805,
          -0.3027950617283952,
          -0.7951143730918573,
          -1.278357984664403,
          -1.6804585370450331,
          -1.911943723656666,
          -1.8659362907461214,
          -1.418154037384138
         ],
         "type": "scatter",
         "xaxis": "x",
         "yaxis": "y"
        },
        {
         "marker": {
          "color": "blue",
          "opacity": 0.7
         },
         "mode": "markers",
         "name": "Predicted Points",
         "showlegend": false,
         "x": [
          -1.2,
          -1.0358974358974358,
          -0.8717948717948718,
          -0.7076923076923076,
          -0.5435897435897435,
          -0.37948717948717947,
          -0.21538461538461529,
          -0.05128205128205132,
          0.11282051282051286,
          0.27692307692307705,
          0.441025641025641,
          0.6051282051282052,
          0.7692307692307694,
          0.9333333333333333,
          1.0974358974358973,
          1.2615384615384617,
          1.4256410256410257,
          1.5897435897435896,
          1.753846153846154,
          1.917948717948718
         ],
         "y": [
          4.121178320220212,
          3.621909150479429,
          3.144322612133674,
          2.6884187051829453,
          2.254197429627244,
          1.84165878546657,
          1.450802772700923,
          1.0816293913303034,
          0.7341386413547103,
          0.4083305227741445,
          0.1042050355886062,
          -0.1782378202019054,
          -0.43899804459739,
          -0.6780756375978471,
          -0.8954705992032772,
          -1.0911829294136806,
          -1.2652126282290568,
          -1.417559695649405,
          -1.5482241316747272,
          -1.6572059363050222
         ],
         "type": "scatter",
         "xaxis": "x",
         "yaxis": "y"
        },
        {
         "marker": {
          "color": "black",
          "opacity": 0.7
         },
         "mode": "markers",
         "name": "Real Points",
         "showlegend": false,
         "x": [
          -1.2,
          -1.0358974358974358,
          -0.8717948717948718,
          -0.7076923076923076,
          -0.5435897435897435,
          -0.37948717948717947,
          -0.21538461538461529,
          -0.05128205128205132,
          0.11282051282051286,
          0.27692307692307705,
          0.441025641025641,
          0.6051282051282052,
          0.7692307692307694,
          0.9333333333333333,
          1.0974358974358973,
          1.2615384615384617,
          1.4256410256410257,
          1.5897435897435896,
          1.753846153846154,
          1.917948717948718
         ],
         "y": [
          5.8096,
          3.8381753317244733,
          2.522800884051074,
          1.7092797030916282,
          1.2608197821340592,
          1.058034061642376,
          0.9989404292566787,
          0.9989617197931566,
          0.9909257152440888,
          0.9250651447778439,
          0.7690176847388803,
          0.5078259586477458,
          0.14393753720107805,
          -0.3027950617283952,
          -0.7951143730918573,
          -1.278357984664403,
          -1.6804585370450331,
          -1.911943723656666,
          -1.8659362907461214,
          -1.418154037384138
         ],
         "type": "scatter",
         "xaxis": "x2",
         "yaxis": "y2"
        },
        {
         "marker": {
          "color": "blue",
          "opacity": 0.7
         },
         "mode": "markers",
         "name": "Predicted Points",
         "showlegend": false,
         "x": [
          -1.2,
          -1.0358974358974358,
          -0.8717948717948718,
          -0.7076923076923076,
          -0.5435897435897435,
          -0.37948717948717947,
          -0.21538461538461529,
          -0.05128205128205132,
          0.11282051282051286,
          0.27692307692307705,
          0.441025641025641,
          0.6051282051282052,
          0.7692307692307694,
          0.9333333333333333,
          1.0974358974358973,
          1.2615384615384617,
          1.4256410256410257,
          1.5897435897435896,
          1.753846153846154,
          1.917948717948718
         ],
         "y": [
          4.845863210649666,
          3.8888983206376504,
          3.0807537620960055,
          2.4064721585452773,
          1.8510961335060143,
          1.3996683104987648,
          1.0372313130440765,
          0.7488277646624975,
          0.5195002888745753,
          0.33429150920085837,
          0.17824404916189468,
          0.03640053227823181,
          -0.10619641792958201,
          -0.2645041779409986,
          -0.45348012423547,
          -0.6880816332924495,
          -0.9832660815913872,
          -1.3539908456117362,
          -1.8152133018329493,
          -2.3818908267344763
         ],
         "type": "scatter",
         "xaxis": "x2",
         "yaxis": "y2"
        },
        {
         "marker": {
          "color": "black",
          "opacity": 0.7
         },
         "mode": "markers",
         "name": "Real Points",
         "showlegend": false,
         "x": [
          -1.2,
          -1.0358974358974358,
          -0.8717948717948718,
          -0.7076923076923076,
          -0.5435897435897435,
          -0.37948717948717947,
          -0.21538461538461529,
          -0.05128205128205132,
          0.11282051282051286,
          0.27692307692307705,
          0.441025641025641,
          0.6051282051282052,
          0.7692307692307694,
          0.9333333333333333,
          1.0974358974358973,
          1.2615384615384617,
          1.4256410256410257,
          1.5897435897435896,
          1.753846153846154,
          1.917948717948718
         ],
         "y": [
          5.8096,
          3.8381753317244733,
          2.522800884051074,
          1.7092797030916282,
          1.2608197821340592,
          1.058034061642376,
          0.9989404292566787,
          0.9989617197931566,
          0.9909257152440888,
          0.9250651447778439,
          0.7690176847388803,
          0.5078259586477458,
          0.14393753720107805,
          -0.3027950617283952,
          -0.7951143730918573,
          -1.278357984664403,
          -1.6804585370450331,
          -1.911943723656666,
          -1.8659362907461214,
          -1.418154037384138
         ],
         "type": "scatter",
         "xaxis": "x3",
         "yaxis": "y3"
        },
        {
         "marker": {
          "color": "blue",
          "opacity": 0.7
         },
         "mode": "markers",
         "name": "Predicted Points",
         "showlegend": false,
         "x": [
          -1.2,
          -1.0358974358974358,
          -0.8717948717948718,
          -0.7076923076923076,
          -0.5435897435897435,
          -0.37948717948717947,
          -0.21538461538461529,
          -0.05128205128205132,
          0.11282051282051286,
          0.27692307692307705,
          0.441025641025641,
          0.6051282051282052,
          0.7692307692307694,
          0.9333333333333333,
          1.0974358974358973,
          1.2615384615384617,
          1.4256410256410257,
          1.5897435897435896,
          1.753846153846154,
          1.917948717948718
         ],
         "y": [
          5.809600000000005,
          3.838175331724477,
          2.5228008840510765,
          1.7092797030916298,
          1.26081978213406,
          1.0580340616423765,
          0.9989404292566788,
          0.9989617197931565,
          0.9909257152440889,
          0.9250651447778441,
          0.7690176847388805,
          0.507825958647746,
          0.1439375372010787,
          -0.3027950617283941,
          -0.7951143730918564,
          -1.2783579846644013,
          -1.6804585370450322,
          -1.9119437236566643,
          -1.86593629074612,
          -1.4181540373841361
         ],
         "type": "scatter",
         "xaxis": "x3",
         "yaxis": "y3"
        },
        {
         "marker": {
          "color": "black",
          "opacity": 0.7
         },
         "mode": "markers",
         "name": "Real Points",
         "showlegend": false,
         "x": [
          -1.2,
          -1.0358974358974358,
          -0.8717948717948718,
          -0.7076923076923076,
          -0.5435897435897435,
          -0.37948717948717947,
          -0.21538461538461529,
          -0.05128205128205132,
          0.11282051282051286,
          0.27692307692307705,
          0.441025641025641,
          0.6051282051282052,
          0.7692307692307694,
          0.9333333333333333,
          1.0974358974358973,
          1.2615384615384617,
          1.4256410256410257,
          1.5897435897435896,
          1.753846153846154,
          1.917948717948718
         ],
         "y": [
          5.8096,
          3.8381753317244733,
          2.522800884051074,
          1.7092797030916282,
          1.2608197821340592,
          1.058034061642376,
          0.9989404292566787,
          0.9989617197931566,
          0.9909257152440888,
          0.9250651447778439,
          0.7690176847388803,
          0.5078259586477458,
          0.14393753720107805,
          -0.3027950617283952,
          -0.7951143730918573,
          -1.278357984664403,
          -1.6804585370450331,
          -1.911943723656666,
          -1.8659362907461214,
          -1.418154037384138
         ],
         "type": "scatter",
         "xaxis": "x4",
         "yaxis": "y4"
        },
        {
         "marker": {
          "color": "blue",
          "opacity": 0.7
         },
         "mode": "markers",
         "name": "Predicted Points",
         "showlegend": false,
         "x": [
          -1.2,
          -1.0358974358974358,
          -0.8717948717948718,
          -0.7076923076923076,
          -0.5435897435897435,
          -0.37948717948717947,
          -0.21538461538461529,
          -0.05128205128205132,
          0.11282051282051286,
          0.27692307692307705,
          0.441025641025641,
          0.6051282051282052,
          0.7692307692307694,
          0.9333333333333333,
          1.0974358974358973,
          1.2615384615384617,
          1.4256410256410257,
          1.5897435897435896,
          1.753846153846154,
          1.917948717948718
         ],
         "y": [
          5.809599999999998,
          3.838175331724473,
          2.5228008840510743,
          1.7092797030916287,
          1.2608197821340597,
          1.058034061642376,
          0.9989404292566785,
          0.9989617197931561,
          0.9909257152440882,
          0.9250651447778431,
          0.769017684738879,
          0.5078259586477445,
          0.14393753720107605,
          -0.3027950617283979,
          -0.7951143730918604,
          -1.2783579846644062,
          -1.6804585370450358,
          -1.911943723656667,
          -1.86593629074612,
          -1.4181540373841326
         ],
         "type": "scatter",
         "xaxis": "x4",
         "yaxis": "y4"
        }
       ],
       "layout": {
        "template": {
         "data": {
          "barpolar": [
           {
            "marker": {
             "line": {
              "color": "white",
              "width": 0.5
             },
             "pattern": {
              "fillmode": "overlay",
              "size": 10,
              "solidity": 0.2
             }
            },
            "type": "barpolar"
           }
          ],
          "bar": [
           {
            "error_x": {
             "color": "rgb(36,36,36)"
            },
            "error_y": {
             "color": "rgb(36,36,36)"
            },
            "marker": {
             "line": {
              "color": "white",
              "width": 0.5
             },
             "pattern": {
              "fillmode": "overlay",
              "size": 10,
              "solidity": 0.2
             }
            },
            "type": "bar"
           }
          ],
          "carpet": [
           {
            "aaxis": {
             "endlinecolor": "rgb(36,36,36)",
             "gridcolor": "white",
             "linecolor": "white",
             "minorgridcolor": "white",
             "startlinecolor": "rgb(36,36,36)"
            },
            "baxis": {
             "endlinecolor": "rgb(36,36,36)",
             "gridcolor": "white",
             "linecolor": "white",
             "minorgridcolor": "white",
             "startlinecolor": "rgb(36,36,36)"
            },
            "type": "carpet"
           }
          ],
          "choropleth": [
           {
            "colorbar": {
             "outlinewidth": 1,
             "tickcolor": "rgb(36,36,36)",
             "ticks": "outside"
            },
            "type": "choropleth"
           }
          ],
          "contourcarpet": [
           {
            "colorbar": {
             "outlinewidth": 1,
             "tickcolor": "rgb(36,36,36)",
             "ticks": "outside"
            },
            "type": "contourcarpet"
           }
          ],
          "contour": [
           {
            "colorbar": {
             "outlinewidth": 1,
             "tickcolor": "rgb(36,36,36)",
             "ticks": "outside"
            },
            "colorscale": [
             [
              0.0,
              "#440154"
             ],
             [
              0.1111111111111111,
              "#482878"
             ],
             [
              0.2222222222222222,
              "#3e4989"
             ],
             [
              0.3333333333333333,
              "#31688e"
             ],
             [
              0.4444444444444444,
              "#26828e"
             ],
             [
              0.5555555555555556,
              "#1f9e89"
             ],
             [
              0.6666666666666666,
              "#35b779"
             ],
             [
              0.7777777777777778,
              "#6ece58"
             ],
             [
              0.8888888888888888,
              "#b5de2b"
             ],
             [
              1.0,
              "#fde725"
             ]
            ],
            "type": "contour"
           }
          ],
          "heatmapgl": [
           {
            "colorbar": {
             "outlinewidth": 1,
             "tickcolor": "rgb(36,36,36)",
             "ticks": "outside"
            },
            "colorscale": [
             [
              0.0,
              "#440154"
             ],
             [
              0.1111111111111111,
              "#482878"
             ],
             [
              0.2222222222222222,
              "#3e4989"
             ],
             [
              0.3333333333333333,
              "#31688e"
             ],
             [
              0.4444444444444444,
              "#26828e"
             ],
             [
              0.5555555555555556,
              "#1f9e89"
             ],
             [
              0.6666666666666666,
              "#35b779"
             ],
             [
              0.7777777777777778,
              "#6ece58"
             ],
             [
              0.8888888888888888,
              "#b5de2b"
             ],
             [
              1.0,
              "#fde725"
             ]
            ],
            "type": "heatmapgl"
           }
          ],
          "heatmap": [
           {
            "colorbar": {
             "outlinewidth": 1,
             "tickcolor": "rgb(36,36,36)",
             "ticks": "outside"
            },
            "colorscale": [
             [
              0.0,
              "#440154"
             ],
             [
              0.1111111111111111,
              "#482878"
             ],
             [
              0.2222222222222222,
              "#3e4989"
             ],
             [
              0.3333333333333333,
              "#31688e"
             ],
             [
              0.4444444444444444,
              "#26828e"
             ],
             [
              0.5555555555555556,
              "#1f9e89"
             ],
             [
              0.6666666666666666,
              "#35b779"
             ],
             [
              0.7777777777777778,
              "#6ece58"
             ],
             [
              0.8888888888888888,
              "#b5de2b"
             ],
             [
              1.0,
              "#fde725"
             ]
            ],
            "type": "heatmap"
           }
          ],
          "histogram2dcontour": [
           {
            "colorbar": {
             "outlinewidth": 1,
             "tickcolor": "rgb(36,36,36)",
             "ticks": "outside"
            },
            "colorscale": [
             [
              0.0,
              "#440154"
             ],
             [
              0.1111111111111111,
              "#482878"
             ],
             [
              0.2222222222222222,
              "#3e4989"
             ],
             [
              0.3333333333333333,
              "#31688e"
             ],
             [
              0.4444444444444444,
              "#26828e"
             ],
             [
              0.5555555555555556,
              "#1f9e89"
             ],
             [
              0.6666666666666666,
              "#35b779"
             ],
             [
              0.7777777777777778,
              "#6ece58"
             ],
             [
              0.8888888888888888,
              "#b5de2b"
             ],
             [
              1.0,
              "#fde725"
             ]
            ],
            "type": "histogram2dcontour"
           }
          ],
          "histogram2d": [
           {
            "colorbar": {
             "outlinewidth": 1,
             "tickcolor": "rgb(36,36,36)",
             "ticks": "outside"
            },
            "colorscale": [
             [
              0.0,
              "#440154"
             ],
             [
              0.1111111111111111,
              "#482878"
             ],
             [
              0.2222222222222222,
              "#3e4989"
             ],
             [
              0.3333333333333333,
              "#31688e"
             ],
             [
              0.4444444444444444,
              "#26828e"
             ],
             [
              0.5555555555555556,
              "#1f9e89"
             ],
             [
              0.6666666666666666,
              "#35b779"
             ],
             [
              0.7777777777777778,
              "#6ece58"
             ],
             [
              0.8888888888888888,
              "#b5de2b"
             ],
             [
              1.0,
              "#fde725"
             ]
            ],
            "type": "histogram2d"
           }
          ],
          "histogram": [
           {
            "marker": {
             "line": {
              "color": "white",
              "width": 0.6
             }
            },
            "type": "histogram"
           }
          ],
          "mesh3d": [
           {
            "colorbar": {
             "outlinewidth": 1,
             "tickcolor": "rgb(36,36,36)",
             "ticks": "outside"
            },
            "type": "mesh3d"
           }
          ],
          "parcoords": [
           {
            "line": {
             "colorbar": {
              "outlinewidth": 1,
              "tickcolor": "rgb(36,36,36)",
              "ticks": "outside"
             }
            },
            "type": "parcoords"
           }
          ],
          "pie": [
           {
            "automargin": true,
            "type": "pie"
           }
          ],
          "scatter3d": [
           {
            "line": {
             "colorbar": {
              "outlinewidth": 1,
              "tickcolor": "rgb(36,36,36)",
              "ticks": "outside"
             }
            },
            "marker": {
             "colorbar": {
              "outlinewidth": 1,
              "tickcolor": "rgb(36,36,36)",
              "ticks": "outside"
             }
            },
            "type": "scatter3d"
           }
          ],
          "scattercarpet": [
           {
            "marker": {
             "colorbar": {
              "outlinewidth": 1,
              "tickcolor": "rgb(36,36,36)",
              "ticks": "outside"
             }
            },
            "type": "scattercarpet"
           }
          ],
          "scattergeo": [
           {
            "marker": {
             "colorbar": {
              "outlinewidth": 1,
              "tickcolor": "rgb(36,36,36)",
              "ticks": "outside"
             }
            },
            "type": "scattergeo"
           }
          ],
          "scattergl": [
           {
            "marker": {
             "colorbar": {
              "outlinewidth": 1,
              "tickcolor": "rgb(36,36,36)",
              "ticks": "outside"
             }
            },
            "type": "scattergl"
           }
          ],
          "scattermapbox": [
           {
            "marker": {
             "colorbar": {
              "outlinewidth": 1,
              "tickcolor": "rgb(36,36,36)",
              "ticks": "outside"
             }
            },
            "type": "scattermapbox"
           }
          ],
          "scatterpolargl": [
           {
            "marker": {
             "colorbar": {
              "outlinewidth": 1,
              "tickcolor": "rgb(36,36,36)",
              "ticks": "outside"
             }
            },
            "type": "scatterpolargl"
           }
          ],
          "scatterpolar": [
           {
            "marker": {
             "colorbar": {
              "outlinewidth": 1,
              "tickcolor": "rgb(36,36,36)",
              "ticks": "outside"
             }
            },
            "type": "scatterpolar"
           }
          ],
          "scatter": [
           {
            "marker": {
             "colorbar": {
              "outlinewidth": 1,
              "tickcolor": "rgb(36,36,36)",
              "ticks": "outside"
             }
            },
            "type": "scatter"
           }
          ],
          "scatterternary": [
           {
            "marker": {
             "colorbar": {
              "outlinewidth": 1,
              "tickcolor": "rgb(36,36,36)",
              "ticks": "outside"
             }
            },
            "type": "scatterternary"
           }
          ],
          "surface": [
           {
            "colorbar": {
             "outlinewidth": 1,
             "tickcolor": "rgb(36,36,36)",
             "ticks": "outside"
            },
            "colorscale": [
             [
              0.0,
              "#440154"
             ],
             [
              0.1111111111111111,
              "#482878"
             ],
             [
              0.2222222222222222,
              "#3e4989"
             ],
             [
              0.3333333333333333,
              "#31688e"
             ],
             [
              0.4444444444444444,
              "#26828e"
             ],
             [
              0.5555555555555556,
              "#1f9e89"
             ],
             [
              0.6666666666666666,
              "#35b779"
             ],
             [
              0.7777777777777778,
              "#6ece58"
             ],
             [
              0.8888888888888888,
              "#b5de2b"
             ],
             [
              1.0,
              "#fde725"
             ]
            ],
            "type": "surface"
           }
          ],
          "table": [
           {
            "cells": {
             "fill": {
              "color": "rgb(237,237,237)"
             },
             "line": {
              "color": "white"
             }
            },
            "header": {
             "fill": {
              "color": "rgb(217,217,217)"
             },
             "line": {
              "color": "white"
             }
            },
            "type": "table"
           }
          ]
         },
         "layout": {
          "annotationdefaults": {
           "arrowhead": 0,
           "arrowwidth": 1
          },
          "autotypenumbers": "strict",
          "coloraxis": {
           "colorbar": {
            "outlinewidth": 1,
            "tickcolor": "rgb(36,36,36)",
            "ticks": "outside"
           }
          },
          "colorscale": {
           "diverging": [
            [
             0.0,
             "rgb(103,0,31)"
            ],
            [
             0.1,
             "rgb(178,24,43)"
            ],
            [
             0.2,
             "rgb(214,96,77)"
            ],
            [
             0.3,
             "rgb(244,165,130)"
            ],
            [
             0.4,
             "rgb(253,219,199)"
            ],
            [
             0.5,
             "rgb(247,247,247)"
            ],
            [
             0.6,
             "rgb(209,229,240)"
            ],
            [
             0.7,
             "rgb(146,197,222)"
            ],
            [
             0.8,
             "rgb(67,147,195)"
            ],
            [
             0.9,
             "rgb(33,102,172)"
            ],
            [
             1.0,
             "rgb(5,48,97)"
            ]
           ],
           "sequential": [
            [
             0.0,
             "#440154"
            ],
            [
             0.1111111111111111,
             "#482878"
            ],
            [
             0.2222222222222222,
             "#3e4989"
            ],
            [
             0.3333333333333333,
             "#31688e"
            ],
            [
             0.4444444444444444,
             "#26828e"
            ],
            [
             0.5555555555555556,
             "#1f9e89"
            ],
            [
             0.6666666666666666,
             "#35b779"
            ],
            [
             0.7777777777777778,
             "#6ece58"
            ],
            [
             0.8888888888888888,
             "#b5de2b"
            ],
            [
             1.0,
             "#fde725"
            ]
           ],
           "sequentialminus": [
            [
             0.0,
             "#440154"
            ],
            [
             0.1111111111111111,
             "#482878"
            ],
            [
             0.2222222222222222,
             "#3e4989"
            ],
            [
             0.3333333333333333,
             "#31688e"
            ],
            [
             0.4444444444444444,
             "#26828e"
            ],
            [
             0.5555555555555556,
             "#1f9e89"
            ],
            [
             0.6666666666666666,
             "#35b779"
            ],
            [
             0.7777777777777778,
             "#6ece58"
            ],
            [
             0.8888888888888888,
             "#b5de2b"
            ],
            [
             1.0,
             "#fde725"
            ]
           ]
          },
          "colorway": [
           "#1F77B4",
           "#FF7F0E",
           "#2CA02C",
           "#D62728",
           "#9467BD",
           "#8C564B",
           "#E377C2",
           "#7F7F7F",
           "#BCBD22",
           "#17BECF"
          ],
          "font": {
           "color": "rgb(36,36,36)"
          },
          "geo": {
           "bgcolor": "white",
           "lakecolor": "white",
           "landcolor": "white",
           "showlakes": true,
           "showland": true,
           "subunitcolor": "white"
          },
          "hoverlabel": {
           "align": "left"
          },
          "hovermode": "closest",
          "mapbox": {
           "style": "light"
          },
          "paper_bgcolor": "white",
          "plot_bgcolor": "white",
          "polar": {
           "angularaxis": {
            "gridcolor": "rgb(232,232,232)",
            "linecolor": "rgb(36,36,36)",
            "showgrid": false,
            "showline": true,
            "ticks": "outside"
           },
           "bgcolor": "white",
           "radialaxis": {
            "gridcolor": "rgb(232,232,232)",
            "linecolor": "rgb(36,36,36)",
            "showgrid": false,
            "showline": true,
            "ticks": "outside"
           }
          },
          "scene": {
           "xaxis": {
            "backgroundcolor": "white",
            "gridcolor": "rgb(232,232,232)",
            "gridwidth": 2,
            "linecolor": "rgb(36,36,36)",
            "showbackground": true,
            "showgrid": false,
            "showline": true,
            "ticks": "outside",
            "zeroline": false,
            "zerolinecolor": "rgb(36,36,36)"
           },
           "yaxis": {
            "backgroundcolor": "white",
            "gridcolor": "rgb(232,232,232)",
            "gridwidth": 2,
            "linecolor": "rgb(36,36,36)",
            "showbackground": true,
            "showgrid": false,
            "showline": true,
            "ticks": "outside",
            "zeroline": false,
            "zerolinecolor": "rgb(36,36,36)"
           },
           "zaxis": {
            "backgroundcolor": "white",
            "gridcolor": "rgb(232,232,232)",
            "gridwidth": 2,
            "linecolor": "rgb(36,36,36)",
            "showbackground": true,
            "showgrid": false,
            "showline": true,
            "ticks": "outside",
            "zeroline": false,
            "zerolinecolor": "rgb(36,36,36)"
           }
          },
          "shapedefaults": {
           "fillcolor": "black",
           "line": {
            "width": 0
           },
           "opacity": 0.3
          },
          "ternary": {
           "aaxis": {
            "gridcolor": "rgb(232,232,232)",
            "linecolor": "rgb(36,36,36)",
            "showgrid": false,
            "showline": true,
            "ticks": "outside"
           },
           "baxis": {
            "gridcolor": "rgb(232,232,232)",
            "linecolor": "rgb(36,36,36)",
            "showgrid": false,
            "showline": true,
            "ticks": "outside"
           },
           "bgcolor": "white",
           "caxis": {
            "gridcolor": "rgb(232,232,232)",
            "linecolor": "rgb(36,36,36)",
            "showgrid": false,
            "showline": true,
            "ticks": "outside"
           }
          },
          "title": {
           "x": 0.05
          },
          "xaxis": {
           "automargin": true,
           "gridcolor": "rgb(232,232,232)",
           "linecolor": "rgb(36,36,36)",
           "showgrid": false,
           "showline": true,
           "ticks": "outside",
           "title": {
            "standoff": 15
           },
           "zeroline": false,
           "zerolinecolor": "rgb(36,36,36)"
          },
          "yaxis": {
           "automargin": true,
           "gridcolor": "rgb(232,232,232)",
           "linecolor": "rgb(36,36,36)",
           "showgrid": false,
           "showline": true,
           "ticks": "outside",
           "title": {
            "standoff": 15
           },
           "zeroline": false,
           "zerolinecolor": "rgb(36,36,36)"
          },
          "margin": {
           "b": 0,
           "l": 20,
           "r": 20,
           "t": 40
          }
         }
        },
        "xaxis": {
         "anchor": "y",
         "domain": [
          0.0,
          0.2125
         ]
        },
        "yaxis": {
         "anchor": "x",
         "domain": [
          0.0,
          1.0
         ],
         "title": {
          "text": "$\\widehat{y}$"
         }
        },
        "xaxis2": {
         "anchor": "y2",
         "domain": [
          0.2625,
          0.475
         ]
        },
        "yaxis2": {
         "anchor": "x2",
         "domain": [
          0.0,
          1.0
         ]
        },
        "xaxis3": {
         "anchor": "y3",
         "domain": [
          0.525,
          0.7375
         ]
        },
        "yaxis3": {
         "anchor": "x3",
         "domain": [
          0.0,
          1.0
         ]
        },
        "xaxis4": {
         "anchor": "y4",
         "domain": [
          0.7875,
          1.0
         ]
        },
        "yaxis4": {
         "anchor": "x4",
         "domain": [
          0.0,
          1.0
         ]
        },
        "annotations": [
         {
          "font": {
           "size": 16
          },
          "showarrow": false,
          "text": "$k=2, MSE=0.42$",
          "x": 0.10625,
          "xanchor": "center",
          "xref": "paper",
          "y": 1.0,
          "yanchor": "bottom",
          "yref": "paper"
         },
         {
          "font": {
           "size": 16
          },
          "showarrow": false,
          "text": "$k=3, MSE=0.28$",
          "x": 0.36875,
          "xanchor": "center",
          "xref": "paper",
          "y": 1.0,
          "yanchor": "bottom",
          "yref": "paper"
         },
         {
          "font": {
           "size": 16
          },
          "showarrow": false,
          "text": "$k=4, MSE=0.0$",
          "x": 0.6312500000000001,
          "xanchor": "center",
          "xref": "paper",
          "y": 1.0,
          "yanchor": "bottom",
          "yref": "paper"
         },
         {
          "font": {
           "size": 16
          },
          "showarrow": false,
          "text": "$k=5, MSE=0.0$",
          "x": 0.89375,
          "xanchor": "center",
          "xref": "paper",
          "y": 1.0,
          "yanchor": "bottom",
          "yref": "paper"
         }
        ],
        "margin": {
         "t": 60
        },
        "title": {
         "text": "$\\text{(2) Simulated Data - Fitting Polynomials of Different Degrees}$"
        },
        "height": 300
       },
       "config": {
        "plotlyServerURL": "https://plot.ly"
       }
      },
      "text/html": "<div>                            <div id=\"08856a7a-f108-4b36-b5c5-5297772882fa\" class=\"plotly-graph-div\" style=\"height:300px; width:100%;\"></div>            <script type=\"text/javascript\">                require([\"plotly\"], function(Plotly) {                    window.PLOTLYENV=window.PLOTLYENV || {};                                    if (document.getElementById(\"08856a7a-f108-4b36-b5c5-5297772882fa\")) {                    Plotly.newPlot(                        \"08856a7a-f108-4b36-b5c5-5297772882fa\",                        [{\"marker\":{\"color\":\"black\",\"opacity\":0.7},\"mode\":\"markers\",\"name\":\"Real Points\",\"showlegend\":false,\"x\":[-1.2,-1.0358974358974358,-0.8717948717948718,-0.7076923076923076,-0.5435897435897435,-0.37948717948717947,-0.21538461538461529,-0.05128205128205132,0.11282051282051286,0.27692307692307705,0.441025641025641,0.6051282051282052,0.7692307692307694,0.9333333333333333,1.0974358974358973,1.2615384615384617,1.4256410256410257,1.5897435897435896,1.753846153846154,1.917948717948718],\"y\":[5.8096,3.8381753317244733,2.522800884051074,1.7092797030916282,1.2608197821340592,1.058034061642376,0.9989404292566787,0.9989617197931566,0.9909257152440888,0.9250651447778439,0.7690176847388803,0.5078259586477458,0.14393753720107805,-0.3027950617283952,-0.7951143730918573,-1.278357984664403,-1.6804585370450331,-1.911943723656666,-1.8659362907461214,-1.418154037384138],\"type\":\"scatter\",\"xaxis\":\"x\",\"yaxis\":\"y\"},{\"marker\":{\"color\":\"blue\",\"opacity\":0.7},\"mode\":\"markers\",\"name\":\"Predicted Points\",\"showlegend\":false,\"x\":[-1.2,-1.0358974358974358,-0.8717948717948718,-0.7076923076923076,-0.5435897435897435,-0.37948717948717947,-0.21538461538461529,-0.05128205128205132,0.11282051282051286,0.27692307692307705,0.441025641025641,0.6051282051282052,0.7692307692307694,0.9333333333333333,1.0974358974358973,1.2615384615384617,1.4256410256410257,1.5897435897435896,1.753846153846154,1.917948717948718],\"y\":[4.121178320220212,3.621909150479429,3.144322612133674,2.6884187051829453,2.254197429627244,1.84165878546657,1.450802772700923,1.0816293913303034,0.7341386413547103,0.4083305227741445,0.1042050355886062,-0.1782378202019054,-0.43899804459739,-0.6780756375978471,-0.8954705992032772,-1.0911829294136806,-1.2652126282290568,-1.417559695649405,-1.5482241316747272,-1.6572059363050222],\"type\":\"scatter\",\"xaxis\":\"x\",\"yaxis\":\"y\"},{\"marker\":{\"color\":\"black\",\"opacity\":0.7},\"mode\":\"markers\",\"name\":\"Real Points\",\"showlegend\":false,\"x\":[-1.2,-1.0358974358974358,-0.8717948717948718,-0.7076923076923076,-0.5435897435897435,-0.37948717948717947,-0.21538461538461529,-0.05128205128205132,0.11282051282051286,0.27692307692307705,0.441025641025641,0.6051282051282052,0.7692307692307694,0.9333333333333333,1.0974358974358973,1.2615384615384617,1.4256410256410257,1.5897435897435896,1.753846153846154,1.917948717948718],\"y\":[5.8096,3.8381753317244733,2.522800884051074,1.7092797030916282,1.2608197821340592,1.058034061642376,0.9989404292566787,0.9989617197931566,0.9909257152440888,0.9250651447778439,0.7690176847388803,0.5078259586477458,0.14393753720107805,-0.3027950617283952,-0.7951143730918573,-1.278357984664403,-1.6804585370450331,-1.911943723656666,-1.8659362907461214,-1.418154037384138],\"type\":\"scatter\",\"xaxis\":\"x2\",\"yaxis\":\"y2\"},{\"marker\":{\"color\":\"blue\",\"opacity\":0.7},\"mode\":\"markers\",\"name\":\"Predicted Points\",\"showlegend\":false,\"x\":[-1.2,-1.0358974358974358,-0.8717948717948718,-0.7076923076923076,-0.5435897435897435,-0.37948717948717947,-0.21538461538461529,-0.05128205128205132,0.11282051282051286,0.27692307692307705,0.441025641025641,0.6051282051282052,0.7692307692307694,0.9333333333333333,1.0974358974358973,1.2615384615384617,1.4256410256410257,1.5897435897435896,1.753846153846154,1.917948717948718],\"y\":[4.845863210649666,3.8888983206376504,3.0807537620960055,2.4064721585452773,1.8510961335060143,1.3996683104987648,1.0372313130440765,0.7488277646624975,0.5195002888745753,0.33429150920085837,0.17824404916189468,0.03640053227823181,-0.10619641792958201,-0.2645041779409986,-0.45348012423547,-0.6880816332924495,-0.9832660815913872,-1.3539908456117362,-1.8152133018329493,-2.3818908267344763],\"type\":\"scatter\",\"xaxis\":\"x2\",\"yaxis\":\"y2\"},{\"marker\":{\"color\":\"black\",\"opacity\":0.7},\"mode\":\"markers\",\"name\":\"Real Points\",\"showlegend\":false,\"x\":[-1.2,-1.0358974358974358,-0.8717948717948718,-0.7076923076923076,-0.5435897435897435,-0.37948717948717947,-0.21538461538461529,-0.05128205128205132,0.11282051282051286,0.27692307692307705,0.441025641025641,0.6051282051282052,0.7692307692307694,0.9333333333333333,1.0974358974358973,1.2615384615384617,1.4256410256410257,1.5897435897435896,1.753846153846154,1.917948717948718],\"y\":[5.8096,3.8381753317244733,2.522800884051074,1.7092797030916282,1.2608197821340592,1.058034061642376,0.9989404292566787,0.9989617197931566,0.9909257152440888,0.9250651447778439,0.7690176847388803,0.5078259586477458,0.14393753720107805,-0.3027950617283952,-0.7951143730918573,-1.278357984664403,-1.6804585370450331,-1.911943723656666,-1.8659362907461214,-1.418154037384138],\"type\":\"scatter\",\"xaxis\":\"x3\",\"yaxis\":\"y3\"},{\"marker\":{\"color\":\"blue\",\"opacity\":0.7},\"mode\":\"markers\",\"name\":\"Predicted Points\",\"showlegend\":false,\"x\":[-1.2,-1.0358974358974358,-0.8717948717948718,-0.7076923076923076,-0.5435897435897435,-0.37948717948717947,-0.21538461538461529,-0.05128205128205132,0.11282051282051286,0.27692307692307705,0.441025641025641,0.6051282051282052,0.7692307692307694,0.9333333333333333,1.0974358974358973,1.2615384615384617,1.4256410256410257,1.5897435897435896,1.753846153846154,1.917948717948718],\"y\":[5.809600000000005,3.838175331724477,2.5228008840510765,1.7092797030916298,1.26081978213406,1.0580340616423765,0.9989404292566788,0.9989617197931565,0.9909257152440889,0.9250651447778441,0.7690176847388805,0.507825958647746,0.1439375372010787,-0.3027950617283941,-0.7951143730918564,-1.2783579846644013,-1.6804585370450322,-1.9119437236566643,-1.86593629074612,-1.4181540373841361],\"type\":\"scatter\",\"xaxis\":\"x3\",\"yaxis\":\"y3\"},{\"marker\":{\"color\":\"black\",\"opacity\":0.7},\"mode\":\"markers\",\"name\":\"Real Points\",\"showlegend\":false,\"x\":[-1.2,-1.0358974358974358,-0.8717948717948718,-0.7076923076923076,-0.5435897435897435,-0.37948717948717947,-0.21538461538461529,-0.05128205128205132,0.11282051282051286,0.27692307692307705,0.441025641025641,0.6051282051282052,0.7692307692307694,0.9333333333333333,1.0974358974358973,1.2615384615384617,1.4256410256410257,1.5897435897435896,1.753846153846154,1.917948717948718],\"y\":[5.8096,3.8381753317244733,2.522800884051074,1.7092797030916282,1.2608197821340592,1.058034061642376,0.9989404292566787,0.9989617197931566,0.9909257152440888,0.9250651447778439,0.7690176847388803,0.5078259586477458,0.14393753720107805,-0.3027950617283952,-0.7951143730918573,-1.278357984664403,-1.6804585370450331,-1.911943723656666,-1.8659362907461214,-1.418154037384138],\"type\":\"scatter\",\"xaxis\":\"x4\",\"yaxis\":\"y4\"},{\"marker\":{\"color\":\"blue\",\"opacity\":0.7},\"mode\":\"markers\",\"name\":\"Predicted Points\",\"showlegend\":false,\"x\":[-1.2,-1.0358974358974358,-0.8717948717948718,-0.7076923076923076,-0.5435897435897435,-0.37948717948717947,-0.21538461538461529,-0.05128205128205132,0.11282051282051286,0.27692307692307705,0.441025641025641,0.6051282051282052,0.7692307692307694,0.9333333333333333,1.0974358974358973,1.2615384615384617,1.4256410256410257,1.5897435897435896,1.753846153846154,1.917948717948718],\"y\":[5.809599999999998,3.838175331724473,2.5228008840510743,1.7092797030916287,1.2608197821340597,1.058034061642376,0.9989404292566785,0.9989617197931561,0.9909257152440882,0.9250651447778431,0.769017684738879,0.5078259586477445,0.14393753720107605,-0.3027950617283979,-0.7951143730918604,-1.2783579846644062,-1.6804585370450358,-1.911943723656667,-1.86593629074612,-1.4181540373841326],\"type\":\"scatter\",\"xaxis\":\"x4\",\"yaxis\":\"y4\"}],                        {\"template\":{\"data\":{\"barpolar\":[{\"marker\":{\"line\":{\"color\":\"white\",\"width\":0.5},\"pattern\":{\"fillmode\":\"overlay\",\"size\":10,\"solidity\":0.2}},\"type\":\"barpolar\"}],\"bar\":[{\"error_x\":{\"color\":\"rgb(36,36,36)\"},\"error_y\":{\"color\":\"rgb(36,36,36)\"},\"marker\":{\"line\":{\"color\":\"white\",\"width\":0.5},\"pattern\":{\"fillmode\":\"overlay\",\"size\":10,\"solidity\":0.2}},\"type\":\"bar\"}],\"carpet\":[{\"aaxis\":{\"endlinecolor\":\"rgb(36,36,36)\",\"gridcolor\":\"white\",\"linecolor\":\"white\",\"minorgridcolor\":\"white\",\"startlinecolor\":\"rgb(36,36,36)\"},\"baxis\":{\"endlinecolor\":\"rgb(36,36,36)\",\"gridcolor\":\"white\",\"linecolor\":\"white\",\"minorgridcolor\":\"white\",\"startlinecolor\":\"rgb(36,36,36)\"},\"type\":\"carpet\"}],\"choropleth\":[{\"colorbar\":{\"outlinewidth\":1,\"tickcolor\":\"rgb(36,36,36)\",\"ticks\":\"outside\"},\"type\":\"choropleth\"}],\"contourcarpet\":[{\"colorbar\":{\"outlinewidth\":1,\"tickcolor\":\"rgb(36,36,36)\",\"ticks\":\"outside\"},\"type\":\"contourcarpet\"}],\"contour\":[{\"colorbar\":{\"outlinewidth\":1,\"tickcolor\":\"rgb(36,36,36)\",\"ticks\":\"outside\"},\"colorscale\":[[0.0,\"#440154\"],[0.1111111111111111,\"#482878\"],[0.2222222222222222,\"#3e4989\"],[0.3333333333333333,\"#31688e\"],[0.4444444444444444,\"#26828e\"],[0.5555555555555556,\"#1f9e89\"],[0.6666666666666666,\"#35b779\"],[0.7777777777777778,\"#6ece58\"],[0.8888888888888888,\"#b5de2b\"],[1.0,\"#fde725\"]],\"type\":\"contour\"}],\"heatmapgl\":[{\"colorbar\":{\"outlinewidth\":1,\"tickcolor\":\"rgb(36,36,36)\",\"ticks\":\"outside\"},\"colorscale\":[[0.0,\"#440154\"],[0.1111111111111111,\"#482878\"],[0.2222222222222222,\"#3e4989\"],[0.3333333333333333,\"#31688e\"],[0.4444444444444444,\"#26828e\"],[0.5555555555555556,\"#1f9e89\"],[0.6666666666666666,\"#35b779\"],[0.7777777777777778,\"#6ece58\"],[0.8888888888888888,\"#b5de2b\"],[1.0,\"#fde725\"]],\"type\":\"heatmapgl\"}],\"heatmap\":[{\"colorbar\":{\"outlinewidth\":1,\"tickcolor\":\"rgb(36,36,36)\",\"ticks\":\"outside\"},\"colorscale\":[[0.0,\"#440154\"],[0.1111111111111111,\"#482878\"],[0.2222222222222222,\"#3e4989\"],[0.3333333333333333,\"#31688e\"],[0.4444444444444444,\"#26828e\"],[0.5555555555555556,\"#1f9e89\"],[0.6666666666666666,\"#35b779\"],[0.7777777777777778,\"#6ece58\"],[0.8888888888888888,\"#b5de2b\"],[1.0,\"#fde725\"]],\"type\":\"heatmap\"}],\"histogram2dcontour\":[{\"colorbar\":{\"outlinewidth\":1,\"tickcolor\":\"rgb(36,36,36)\",\"ticks\":\"outside\"},\"colorscale\":[[0.0,\"#440154\"],[0.1111111111111111,\"#482878\"],[0.2222222222222222,\"#3e4989\"],[0.3333333333333333,\"#31688e\"],[0.4444444444444444,\"#26828e\"],[0.5555555555555556,\"#1f9e89\"],[0.6666666666666666,\"#35b779\"],[0.7777777777777778,\"#6ece58\"],[0.8888888888888888,\"#b5de2b\"],[1.0,\"#fde725\"]],\"type\":\"histogram2dcontour\"}],\"histogram2d\":[{\"colorbar\":{\"outlinewidth\":1,\"tickcolor\":\"rgb(36,36,36)\",\"ticks\":\"outside\"},\"colorscale\":[[0.0,\"#440154\"],[0.1111111111111111,\"#482878\"],[0.2222222222222222,\"#3e4989\"],[0.3333333333333333,\"#31688e\"],[0.4444444444444444,\"#26828e\"],[0.5555555555555556,\"#1f9e89\"],[0.6666666666666666,\"#35b779\"],[0.7777777777777778,\"#6ece58\"],[0.8888888888888888,\"#b5de2b\"],[1.0,\"#fde725\"]],\"type\":\"histogram2d\"}],\"histogram\":[{\"marker\":{\"line\":{\"color\":\"white\",\"width\":0.6}},\"type\":\"histogram\"}],\"mesh3d\":[{\"colorbar\":{\"outlinewidth\":1,\"tickcolor\":\"rgb(36,36,36)\",\"ticks\":\"outside\"},\"type\":\"mesh3d\"}],\"parcoords\":[{\"line\":{\"colorbar\":{\"outlinewidth\":1,\"tickcolor\":\"rgb(36,36,36)\",\"ticks\":\"outside\"}},\"type\":\"parcoords\"}],\"pie\":[{\"automargin\":true,\"type\":\"pie\"}],\"scatter3d\":[{\"line\":{\"colorbar\":{\"outlinewidth\":1,\"tickcolor\":\"rgb(36,36,36)\",\"ticks\":\"outside\"}},\"marker\":{\"colorbar\":{\"outlinewidth\":1,\"tickcolor\":\"rgb(36,36,36)\",\"ticks\":\"outside\"}},\"type\":\"scatter3d\"}],\"scattercarpet\":[{\"marker\":{\"colorbar\":{\"outlinewidth\":1,\"tickcolor\":\"rgb(36,36,36)\",\"ticks\":\"outside\"}},\"type\":\"scattercarpet\"}],\"scattergeo\":[{\"marker\":{\"colorbar\":{\"outlinewidth\":1,\"tickcolor\":\"rgb(36,36,36)\",\"ticks\":\"outside\"}},\"type\":\"scattergeo\"}],\"scattergl\":[{\"marker\":{\"colorbar\":{\"outlinewidth\":1,\"tickcolor\":\"rgb(36,36,36)\",\"ticks\":\"outside\"}},\"type\":\"scattergl\"}],\"scattermapbox\":[{\"marker\":{\"colorbar\":{\"outlinewidth\":1,\"tickcolor\":\"rgb(36,36,36)\",\"ticks\":\"outside\"}},\"type\":\"scattermapbox\"}],\"scatterpolargl\":[{\"marker\":{\"colorbar\":{\"outlinewidth\":1,\"tickcolor\":\"rgb(36,36,36)\",\"ticks\":\"outside\"}},\"type\":\"scatterpolargl\"}],\"scatterpolar\":[{\"marker\":{\"colorbar\":{\"outlinewidth\":1,\"tickcolor\":\"rgb(36,36,36)\",\"ticks\":\"outside\"}},\"type\":\"scatterpolar\"}],\"scatter\":[{\"marker\":{\"colorbar\":{\"outlinewidth\":1,\"tickcolor\":\"rgb(36,36,36)\",\"ticks\":\"outside\"}},\"type\":\"scatter\"}],\"scatterternary\":[{\"marker\":{\"colorbar\":{\"outlinewidth\":1,\"tickcolor\":\"rgb(36,36,36)\",\"ticks\":\"outside\"}},\"type\":\"scatterternary\"}],\"surface\":[{\"colorbar\":{\"outlinewidth\":1,\"tickcolor\":\"rgb(36,36,36)\",\"ticks\":\"outside\"},\"colorscale\":[[0.0,\"#440154\"],[0.1111111111111111,\"#482878\"],[0.2222222222222222,\"#3e4989\"],[0.3333333333333333,\"#31688e\"],[0.4444444444444444,\"#26828e\"],[0.5555555555555556,\"#1f9e89\"],[0.6666666666666666,\"#35b779\"],[0.7777777777777778,\"#6ece58\"],[0.8888888888888888,\"#b5de2b\"],[1.0,\"#fde725\"]],\"type\":\"surface\"}],\"table\":[{\"cells\":{\"fill\":{\"color\":\"rgb(237,237,237)\"},\"line\":{\"color\":\"white\"}},\"header\":{\"fill\":{\"color\":\"rgb(217,217,217)\"},\"line\":{\"color\":\"white\"}},\"type\":\"table\"}]},\"layout\":{\"annotationdefaults\":{\"arrowhead\":0,\"arrowwidth\":1},\"autotypenumbers\":\"strict\",\"coloraxis\":{\"colorbar\":{\"outlinewidth\":1,\"tickcolor\":\"rgb(36,36,36)\",\"ticks\":\"outside\"}},\"colorscale\":{\"diverging\":[[0.0,\"rgb(103,0,31)\"],[0.1,\"rgb(178,24,43)\"],[0.2,\"rgb(214,96,77)\"],[0.3,\"rgb(244,165,130)\"],[0.4,\"rgb(253,219,199)\"],[0.5,\"rgb(247,247,247)\"],[0.6,\"rgb(209,229,240)\"],[0.7,\"rgb(146,197,222)\"],[0.8,\"rgb(67,147,195)\"],[0.9,\"rgb(33,102,172)\"],[1.0,\"rgb(5,48,97)\"]],\"sequential\":[[0.0,\"#440154\"],[0.1111111111111111,\"#482878\"],[0.2222222222222222,\"#3e4989\"],[0.3333333333333333,\"#31688e\"],[0.4444444444444444,\"#26828e\"],[0.5555555555555556,\"#1f9e89\"],[0.6666666666666666,\"#35b779\"],[0.7777777777777778,\"#6ece58\"],[0.8888888888888888,\"#b5de2b\"],[1.0,\"#fde725\"]],\"sequentialminus\":[[0.0,\"#440154\"],[0.1111111111111111,\"#482878\"],[0.2222222222222222,\"#3e4989\"],[0.3333333333333333,\"#31688e\"],[0.4444444444444444,\"#26828e\"],[0.5555555555555556,\"#1f9e89\"],[0.6666666666666666,\"#35b779\"],[0.7777777777777778,\"#6ece58\"],[0.8888888888888888,\"#b5de2b\"],[1.0,\"#fde725\"]]},\"colorway\":[\"#1F77B4\",\"#FF7F0E\",\"#2CA02C\",\"#D62728\",\"#9467BD\",\"#8C564B\",\"#E377C2\",\"#7F7F7F\",\"#BCBD22\",\"#17BECF\"],\"font\":{\"color\":\"rgb(36,36,36)\"},\"geo\":{\"bgcolor\":\"white\",\"lakecolor\":\"white\",\"landcolor\":\"white\",\"showlakes\":true,\"showland\":true,\"subunitcolor\":\"white\"},\"hoverlabel\":{\"align\":\"left\"},\"hovermode\":\"closest\",\"mapbox\":{\"style\":\"light\"},\"paper_bgcolor\":\"white\",\"plot_bgcolor\":\"white\",\"polar\":{\"angularaxis\":{\"gridcolor\":\"rgb(232,232,232)\",\"linecolor\":\"rgb(36,36,36)\",\"showgrid\":false,\"showline\":true,\"ticks\":\"outside\"},\"bgcolor\":\"white\",\"radialaxis\":{\"gridcolor\":\"rgb(232,232,232)\",\"linecolor\":\"rgb(36,36,36)\",\"showgrid\":false,\"showline\":true,\"ticks\":\"outside\"}},\"scene\":{\"xaxis\":{\"backgroundcolor\":\"white\",\"gridcolor\":\"rgb(232,232,232)\",\"gridwidth\":2,\"linecolor\":\"rgb(36,36,36)\",\"showbackground\":true,\"showgrid\":false,\"showline\":true,\"ticks\":\"outside\",\"zeroline\":false,\"zerolinecolor\":\"rgb(36,36,36)\"},\"yaxis\":{\"backgroundcolor\":\"white\",\"gridcolor\":\"rgb(232,232,232)\",\"gridwidth\":2,\"linecolor\":\"rgb(36,36,36)\",\"showbackground\":true,\"showgrid\":false,\"showline\":true,\"ticks\":\"outside\",\"zeroline\":false,\"zerolinecolor\":\"rgb(36,36,36)\"},\"zaxis\":{\"backgroundcolor\":\"white\",\"gridcolor\":\"rgb(232,232,232)\",\"gridwidth\":2,\"linecolor\":\"rgb(36,36,36)\",\"showbackground\":true,\"showgrid\":false,\"showline\":true,\"ticks\":\"outside\",\"zeroline\":false,\"zerolinecolor\":\"rgb(36,36,36)\"}},\"shapedefaults\":{\"fillcolor\":\"black\",\"line\":{\"width\":0},\"opacity\":0.3},\"ternary\":{\"aaxis\":{\"gridcolor\":\"rgb(232,232,232)\",\"linecolor\":\"rgb(36,36,36)\",\"showgrid\":false,\"showline\":true,\"ticks\":\"outside\"},\"baxis\":{\"gridcolor\":\"rgb(232,232,232)\",\"linecolor\":\"rgb(36,36,36)\",\"showgrid\":false,\"showline\":true,\"ticks\":\"outside\"},\"bgcolor\":\"white\",\"caxis\":{\"gridcolor\":\"rgb(232,232,232)\",\"linecolor\":\"rgb(36,36,36)\",\"showgrid\":false,\"showline\":true,\"ticks\":\"outside\"}},\"title\":{\"x\":0.05},\"xaxis\":{\"automargin\":true,\"gridcolor\":\"rgb(232,232,232)\",\"linecolor\":\"rgb(36,36,36)\",\"showgrid\":false,\"showline\":true,\"ticks\":\"outside\",\"title\":{\"standoff\":15},\"zeroline\":false,\"zerolinecolor\":\"rgb(36,36,36)\"},\"yaxis\":{\"automargin\":true,\"gridcolor\":\"rgb(232,232,232)\",\"linecolor\":\"rgb(36,36,36)\",\"showgrid\":false,\"showline\":true,\"ticks\":\"outside\",\"title\":{\"standoff\":15},\"zeroline\":false,\"zerolinecolor\":\"rgb(36,36,36)\"},\"margin\":{\"b\":0,\"l\":20,\"r\":20,\"t\":40}}},\"xaxis\":{\"anchor\":\"y\",\"domain\":[0.0,0.2125]},\"yaxis\":{\"anchor\":\"x\",\"domain\":[0.0,1.0],\"title\":{\"text\":\"$\\\\widehat{y}$\"}},\"xaxis2\":{\"anchor\":\"y2\",\"domain\":[0.2625,0.475]},\"yaxis2\":{\"anchor\":\"x2\",\"domain\":[0.0,1.0]},\"xaxis3\":{\"anchor\":\"y3\",\"domain\":[0.525,0.7375]},\"yaxis3\":{\"anchor\":\"x3\",\"domain\":[0.0,1.0]},\"xaxis4\":{\"anchor\":\"y4\",\"domain\":[0.7875,1.0]},\"yaxis4\":{\"anchor\":\"x4\",\"domain\":[0.0,1.0]},\"annotations\":[{\"font\":{\"size\":16},\"showarrow\":false,\"text\":\"$k=2, MSE=0.42$\",\"x\":0.10625,\"xanchor\":\"center\",\"xref\":\"paper\",\"y\":1.0,\"yanchor\":\"bottom\",\"yref\":\"paper\"},{\"font\":{\"size\":16},\"showarrow\":false,\"text\":\"$k=3, MSE=0.28$\",\"x\":0.36875,\"xanchor\":\"center\",\"xref\":\"paper\",\"y\":1.0,\"yanchor\":\"bottom\",\"yref\":\"paper\"},{\"font\":{\"size\":16},\"showarrow\":false,\"text\":\"$k=4, MSE=0.0$\",\"x\":0.6312500000000001,\"xanchor\":\"center\",\"xref\":\"paper\",\"y\":1.0,\"yanchor\":\"bottom\",\"yref\":\"paper\"},{\"font\":{\"size\":16},\"showarrow\":false,\"text\":\"$k=5, MSE=0.0$\",\"x\":0.89375,\"xanchor\":\"center\",\"xref\":\"paper\",\"y\":1.0,\"yanchor\":\"bottom\",\"yref\":\"paper\"}],\"margin\":{\"t\":60},\"title\":{\"text\":\"$\\\\text{(2) Simulated Data - Fitting Polynomials of Different Degrees}$\"},\"height\":300},                        {\"responsive\": true}                    ).then(function(){\n                            \nvar gd = document.getElementById('08856a7a-f108-4b36-b5c5-5297772882fa');\nvar x = new MutationObserver(function (mutations, observer) {{\n        var display = window.getComputedStyle(gd).display;\n        if (!display || display === 'none') {{\n            console.log([gd, 'removed!']);\n            Plotly.purge(gd);\n            observer.disconnect();\n        }}\n}});\n\n// Listen for the removal of the full notebook cells\nvar notebookContainer = gd.closest('#notebook-container');\nif (notebookContainer) {{\n    x.observe(notebookContainer, {childList: true});\n}}\n\n// Listen for the clearing of the current output cell\nvar outputEl = gd.closest('.output');\nif (outputEl) {{\n    x.observe(outputEl, {childList: true});\n}}\n\n                        })                };                });            </script>        </div>"
     },
     "metadata": {},
     "output_type": "display_data"
    }
   ],
   "source": [
    "from sklearn.linear_model import LinearRegression\n",
    "from sklearn.pipeline import make_pipeline\n",
    "\n",
    "ks = [2, 3, 4, 5]\n",
    "fig = make_subplots(1, 4, subplot_titles=list(ks))\n",
    "for i, k in enumerate(ks):\n",
    "    y_hat = make_pipeline(PolynomialFeatures(k), LinearRegression(fit_intercept=False)).fit(X, y_).predict(X)\n",
    "    \n",
    "    fig.add_traces([go.Scatter(x=x, y=y_, mode=\"markers\", name=\"Real Points\",  marker=dict(color=\"black\", opacity=.7), showlegend=False),\n",
    "                    go.Scatter(x=x, y=y_hat, mode=\"markers\", name=\"Predicted Points\",  marker=dict(color=\"blue\", opacity=.7), showlegend=False)], rows=1, cols=i+1)\n",
    "    fig[\"layout\"][\"annotations\"][i][\"text\"] = rf\"$k={{0}}, MSE={{1}}$\".format(k, round(np.mean((y_-y_hat)**2), 2))\n",
    "\n",
    "fig.update_layout(title=r\"$\\text{(2) Simulated Data - Fitting Polynomials of Different Degrees}$\",\n",
    "                  margin=dict(t=60),\n",
    "                  yaxis_title=r\"$\\widehat{y}$\",\n",
    "                  height=300).show()"
   ]
  },
  {
   "cell_type": "markdown",
   "metadata": {
    "pycharm": {
     "name": "#%% md\n"
    }
   },
   "source": [
    "Once we find the right $k$ (which in our case is 4) we managed to fit a perfect model, after which, as we increase $k$, \n",
    "the additional coefficients will be zero."
   ]
  },
  {
   "cell_type": "code",
   "execution_count": 17,
   "metadata": {
    "pycharm": {
     "name": "#%%\n"
    }
   },
   "outputs": [
    {
     "data": {
      "text/plain": "         $w_{0}$  $w_{1}$  $w_{2}$  $w_{3}$  $w_{4}$  $w_{5}$\n$k={2}$    0.971   -2.142    0.403      NaN      NaN      NaN\n$k={3}$    0.672   -1.454    1.010   -0.564      NaN      NaN\n$k={4}$    1.000   -0.000   -0.500   -2.000      1.0      NaN\n$k={5}$    1.000   -0.000   -0.500   -2.000      1.0      0.0",
      "text/html": "<div>\n<style scoped>\n    .dataframe tbody tr th:only-of-type {\n        vertical-align: middle;\n    }\n\n    .dataframe tbody tr th {\n        vertical-align: top;\n    }\n\n    .dataframe thead th {\n        text-align: right;\n    }\n</style>\n<table border=\"1\" class=\"dataframe\">\n  <thead>\n    <tr style=\"text-align: right;\">\n      <th></th>\n      <th>$w_{0}$</th>\n      <th>$w_{1}$</th>\n      <th>$w_{2}$</th>\n      <th>$w_{3}$</th>\n      <th>$w_{4}$</th>\n      <th>$w_{5}$</th>\n    </tr>\n  </thead>\n  <tbody>\n    <tr>\n      <th>$k={2}$</th>\n      <td>0.971</td>\n      <td>-2.142</td>\n      <td>0.403</td>\n      <td>NaN</td>\n      <td>NaN</td>\n      <td>NaN</td>\n    </tr>\n    <tr>\n      <th>$k={3}$</th>\n      <td>0.672</td>\n      <td>-1.454</td>\n      <td>1.010</td>\n      <td>-0.564</td>\n      <td>NaN</td>\n      <td>NaN</td>\n    </tr>\n    <tr>\n      <th>$k={4}$</th>\n      <td>1.000</td>\n      <td>-0.000</td>\n      <td>-0.500</td>\n      <td>-2.000</td>\n      <td>1.0</td>\n      <td>NaN</td>\n    </tr>\n    <tr>\n      <th>$k={5}$</th>\n      <td>1.000</td>\n      <td>-0.000</td>\n      <td>-0.500</td>\n      <td>-2.000</td>\n      <td>1.0</td>\n      <td>0.0</td>\n    </tr>\n  </tbody>\n</table>\n</div>"
     },
     "execution_count": 17,
     "metadata": {},
     "output_type": "execute_result"
    }
   ],
   "source": [
    "coefs = {}\n",
    "for k in ks:\n",
    "    fit = make_pipeline(PolynomialFeatures(k), LinearRegression(fit_intercept=False)).fit(X, y_)\n",
    "    coefs[rf\"$k={{{k}}}$\"] = [round(c,3) for c in fit.steps[1][1].coef_]\n",
    "pd.DataFrame.from_dict(coefs, orient='index', columns=[rf\"$w_{{{i}}}$\" for i in range(max(ks)+1)])\n",
    "\n",
    "\n"
   ]
  },
  {
   "cell_type": "markdown",
   "metadata": {
    "pycharm": {
     "name": "#%% md\n"
    }
   },
   "source": [
    "## Fitting Polynomial Of Different Degrees - With Sample Noise\n",
    "\n",
    "Still fitting for different values of $k$, let us add some standard Gaussian noise (i.e. $\\mathcal{N}\\left(0,1\\right)$).\n",
    "This time we observe two things:\n",
    "- Even for the correct $k=4$ model we are not able to achieve zero MSE.\n",
    "- As we increase $4<k\\rightarrow 7$ we manage to decrease the error more and more."
   ]
  },
  {
   "cell_type": "code",
   "execution_count": 18,
   "metadata": {
    "pycharm": {
     "name": "#%%\n"
    }
   },
   "outputs": [
    {
     "data": {
      "application/vnd.plotly.v1+json": {
       "data": [
        {
         "marker": {
          "color": "black",
          "opacity": 0.7
         },
         "mode": "markers",
         "name": "Real Points",
         "showlegend": false,
         "x": [
          -1.2,
          -1.0358974358974358,
          -0.8717948717948718,
          -0.7076923076923076,
          -0.5435897435897435,
          -0.37948717948717947,
          -0.21538461538461529,
          -0.05128205128205132,
          0.11282051282051286,
          0.27692307692307705,
          0.441025641025641,
          0.6051282051282052,
          0.7692307692307694,
          0.9333333333333333,
          1.0974358974358973,
          1.2615384615384617,
          1.4256410256410257,
          1.5897435897435896,
          1.753846153846154,
          1.917948717948718
         ],
         "y": [
          5.8096,
          3.8381753317244733,
          2.522800884051074,
          1.7092797030916282,
          1.2608197821340592,
          1.058034061642376,
          0.9989404292566787,
          0.9989617197931566,
          0.9909257152440888,
          0.9250651447778439,
          0.7690176847388803,
          0.5078259586477458,
          0.14393753720107805,
          -0.3027950617283952,
          -0.7951143730918573,
          -1.278357984664403,
          -1.6804585370450331,
          -1.911943723656666,
          -1.8659362907461214,
          -1.418154037384138
         ],
         "type": "scatter",
         "xaxis": "x",
         "yaxis": "y"
        },
        {
         "marker": {
          "color": "red",
          "opacity": 0.7
         },
         "mode": "markers",
         "name": "Observed Points",
         "showlegend": false,
         "x": [
          -1.2,
          -1.0358974358974358,
          -0.8717948717948718,
          -0.7076923076923076,
          -0.5435897435897435,
          -0.37948717948717947,
          -0.21538461538461529,
          -0.05128205128205132,
          0.11282051282051286,
          0.27692307692307705,
          0.441025641025641,
          0.6051282051282052,
          0.7692307692307694,
          0.9333333333333333,
          1.0974358974358973,
          1.2615384615384617,
          1.4256410256410257,
          1.5897435897435896,
          1.753846153846154,
          1.917948717948718
         ],
         "y": [
          5.3977439877046,
          3.5531307588538605,
          2.924061497172077,
          2.159712794796104,
          1.1781572396116011,
          1.2546574647756819,
          1.1245259033060655,
          1.1035274288374686,
          1.972838378191834,
          0.7649412820688883,
          -0.0373469186495734,
          0.44241130734427864,
          0.010323436448501117,
          -0.35701265785735226,
          0.7547183865333127,
          -1.8643089423271113,
          -1.11267934903998,
          -3.410611887130229,
          0.09205351710158749,
          -1.0832803119817478
         ],
         "type": "scatter",
         "xaxis": "x",
         "yaxis": "y"
        },
        {
         "marker": {
          "color": "blue",
          "opacity": 0.7
         },
         "mode": "markers",
         "name": "Predicted Points",
         "showlegend": false,
         "x": [
          -1.2,
          -1.0358974358974358,
          -0.8717948717948718,
          -0.7076923076923076,
          -0.5435897435897435,
          -0.37948717948717947,
          -0.21538461538461529,
          -0.05128205128205132,
          0.11282051282051286,
          0.27692307692307705,
          0.441025641025641,
          0.6051282051282052,
          0.7692307692307694,
          0.9333333333333333,
          1.0974358974358973,
          1.2615384615384617,
          1.4256410256410257,
          1.5897435897435896,
          1.753846153846154,
          1.917948717948718
         ],
         "y": [
          4.15376689625669,
          3.646329721893778,
          3.1636340286883917,
          2.705679816640531,
          2.272467085750196,
          1.8639958360173867,
          1.480266067442103,
          1.1212777800243456,
          0.7870309737641136,
          0.47752564866140723,
          0.19276180471622714,
          -0.06726055807142767,
          -0.3025414397015567,
          -0.5130808401741594,
          -0.6988787594892365,
          -0.8599351976467887,
          -0.9962501546468142,
          -1.1078236304893145,
          -1.1946556251742888,
          -1.2567461387017371
         ],
         "type": "scatter",
         "xaxis": "x",
         "yaxis": "y"
        },
        {
         "marker": {
          "color": "black",
          "opacity": 0.7
         },
         "mode": "markers",
         "name": "Real Points",
         "showlegend": false,
         "x": [
          -1.2,
          -1.0358974358974358,
          -0.8717948717948718,
          -0.7076923076923076,
          -0.5435897435897435,
          -0.37948717948717947,
          -0.21538461538461529,
          -0.05128205128205132,
          0.11282051282051286,
          0.27692307692307705,
          0.441025641025641,
          0.6051282051282052,
          0.7692307692307694,
          0.9333333333333333,
          1.0974358974358973,
          1.2615384615384617,
          1.4256410256410257,
          1.5897435897435896,
          1.753846153846154,
          1.917948717948718
         ],
         "y": [
          5.8096,
          3.8381753317244733,
          2.522800884051074,
          1.7092797030916282,
          1.2608197821340592,
          1.058034061642376,
          0.9989404292566787,
          0.9989617197931566,
          0.9909257152440888,
          0.9250651447778439,
          0.7690176847388803,
          0.5078259586477458,
          0.14393753720107805,
          -0.3027950617283952,
          -0.7951143730918573,
          -1.278357984664403,
          -1.6804585370450331,
          -1.911943723656666,
          -1.8659362907461214,
          -1.418154037384138
         ],
         "type": "scatter",
         "xaxis": "x2",
         "yaxis": "y2"
        },
        {
         "marker": {
          "color": "red",
          "opacity": 0.7
         },
         "mode": "markers",
         "name": "Observed Points",
         "showlegend": false,
         "x": [
          -1.2,
          -1.0358974358974358,
          -0.8717948717948718,
          -0.7076923076923076,
          -0.5435897435897435,
          -0.37948717948717947,
          -0.21538461538461529,
          -0.05128205128205132,
          0.11282051282051286,
          0.27692307692307705,
          0.441025641025641,
          0.6051282051282052,
          0.7692307692307694,
          0.9333333333333333,
          1.0974358974358973,
          1.2615384615384617,
          1.4256410256410257,
          1.5897435897435896,
          1.753846153846154,
          1.917948717948718
         ],
         "y": [
          5.3977439877046,
          3.5531307588538605,
          2.924061497172077,
          2.159712794796104,
          1.1781572396116011,
          1.2546574647756819,
          1.1245259033060655,
          1.1035274288374686,
          1.972838378191834,
          0.7649412820688883,
          -0.0373469186495734,
          0.44241130734427864,
          0.010323436448501117,
          -0.35701265785735226,
          0.7547183865333127,
          -1.8643089423271113,
          -1.11267934903998,
          -3.410611887130229,
          0.09205351710158749,
          -1.0832803119817478
         ],
         "type": "scatter",
         "xaxis": "x2",
         "yaxis": "y2"
        },
        {
         "marker": {
          "color": "blue",
          "opacity": 0.7
         },
         "mode": "markers",
         "name": "Predicted Points",
         "showlegend": false,
         "x": [
          -1.2,
          -1.0358974358974358,
          -0.8717948717948718,
          -0.7076923076923076,
          -0.5435897435897435,
          -0.37948717948717947,
          -0.21538461538461529,
          -0.05128205128205132,
          0.11282051282051286,
          0.27692307692307705,
          0.441025641025641,
          0.6051282051282052,
          0.7692307692307694,
          0.9333333333333333,
          1.0974358974358973,
          1.2615384615384617,
          1.4256410256410257,
          1.5897435897435896,
          1.753846153846154,
          1.917948717948718
         ],
         "y": [
          4.545822049688054,
          3.7907710942105974,
          3.1292432257558183,
          2.553146490692521,
          2.054388935389513,
          1.6248786062155984,
          1.2565235495395837,
          0.9412318117302751,
          0.6709114391564776,
          0.4374704781869971,
          0.23281697519063985,
          0.048858976536211046,
          -0.12249547140748351,
          -0.2893383222716375,
          -0.45976152968744566,
          -0.641857047286103,
          -0.8437168286988017,
          -1.073432827556738,
          -1.3390969974911056,
          -1.648801292133097
         ],
         "type": "scatter",
         "xaxis": "x2",
         "yaxis": "y2"
        },
        {
         "marker": {
          "color": "black",
          "opacity": 0.7
         },
         "mode": "markers",
         "name": "Real Points",
         "showlegend": false,
         "x": [
          -1.2,
          -1.0358974358974358,
          -0.8717948717948718,
          -0.7076923076923076,
          -0.5435897435897435,
          -0.37948717948717947,
          -0.21538461538461529,
          -0.05128205128205132,
          0.11282051282051286,
          0.27692307692307705,
          0.441025641025641,
          0.6051282051282052,
          0.7692307692307694,
          0.9333333333333333,
          1.0974358974358973,
          1.2615384615384617,
          1.4256410256410257,
          1.5897435897435896,
          1.753846153846154,
          1.917948717948718
         ],
         "y": [
          5.8096,
          3.8381753317244733,
          2.522800884051074,
          1.7092797030916282,
          1.2608197821340592,
          1.058034061642376,
          0.9989404292566787,
          0.9989617197931566,
          0.9909257152440888,
          0.9250651447778439,
          0.7690176847388803,
          0.5078259586477458,
          0.14393753720107805,
          -0.3027950617283952,
          -0.7951143730918573,
          -1.278357984664403,
          -1.6804585370450331,
          -1.911943723656666,
          -1.8659362907461214,
          -1.418154037384138
         ],
         "type": "scatter",
         "xaxis": "x3",
         "yaxis": "y3"
        },
        {
         "marker": {
          "color": "red",
          "opacity": 0.7
         },
         "mode": "markers",
         "name": "Observed Points",
         "showlegend": false,
         "x": [
          -1.2,
          -1.0358974358974358,
          -0.8717948717948718,
          -0.7076923076923076,
          -0.5435897435897435,
          -0.37948717948717947,
          -0.21538461538461529,
          -0.05128205128205132,
          0.11282051282051286,
          0.27692307692307705,
          0.441025641025641,
          0.6051282051282052,
          0.7692307692307694,
          0.9333333333333333,
          1.0974358974358973,
          1.2615384615384617,
          1.4256410256410257,
          1.5897435897435896,
          1.753846153846154,
          1.917948717948718
         ],
         "y": [
          5.3977439877046,
          3.5531307588538605,
          2.924061497172077,
          2.159712794796104,
          1.1781572396116011,
          1.2546574647756819,
          1.1245259033060655,
          1.1035274288374686,
          1.972838378191834,
          0.7649412820688883,
          -0.0373469186495734,
          0.44241130734427864,
          0.010323436448501117,
          -0.35701265785735226,
          0.7547183865333127,
          -1.8643089423271113,
          -1.11267934903998,
          -3.410611887130229,
          0.09205351710158749,
          -1.0832803119817478
         ],
         "type": "scatter",
         "xaxis": "x3",
         "yaxis": "y3"
        },
        {
         "marker": {
          "color": "blue",
          "opacity": 0.7
         },
         "mode": "markers",
         "name": "Predicted Points",
         "showlegend": false,
         "x": [
          -1.2,
          -1.0358974358974358,
          -0.8717948717948718,
          -0.7076923076923076,
          -0.5435897435897435,
          -0.37948717948717947,
          -0.21538461538461529,
          -0.05128205128205132,
          0.11282051282051286,
          0.27692307692307705,
          0.441025641025641,
          0.6051282051282052,
          0.7692307692307694,
          0.9333333333333333,
          1.0974358974358973,
          1.2615384615384617,
          1.4256410256410257,
          1.5897435897435896,
          1.753846153846154,
          1.917948717948718
         ],
         "y": [
          5.406083364162656,
          3.745494182922462,
          2.631197201586315,
          1.93081090612421,
          1.5274899775559996,
          1.319925291951383,
          1.2223439204299125,
          1.1645091291609893,
          1.0917203793638672,
          0.96481332730765,
          0.760159824311293,
          0.4696679167436012,
          0.10078184602323126,
          -0.32351795138130823,
          -0.7647148439516598,
          -1.1687560051196155,
          -1.4660524132671124,
          -1.5714788517262424,
          -1.3843739087792404,
          -0.7885399776584983
         ],
         "type": "scatter",
         "xaxis": "x3",
         "yaxis": "y3"
        },
        {
         "marker": {
          "color": "black",
          "opacity": 0.7
         },
         "mode": "markers",
         "name": "Real Points",
         "showlegend": false,
         "x": [
          -1.2,
          -1.0358974358974358,
          -0.8717948717948718,
          -0.7076923076923076,
          -0.5435897435897435,
          -0.37948717948717947,
          -0.21538461538461529,
          -0.05128205128205132,
          0.11282051282051286,
          0.27692307692307705,
          0.441025641025641,
          0.6051282051282052,
          0.7692307692307694,
          0.9333333333333333,
          1.0974358974358973,
          1.2615384615384617,
          1.4256410256410257,
          1.5897435897435896,
          1.753846153846154,
          1.917948717948718
         ],
         "y": [
          5.8096,
          3.8381753317244733,
          2.522800884051074,
          1.7092797030916282,
          1.2608197821340592,
          1.058034061642376,
          0.9989404292566787,
          0.9989617197931566,
          0.9909257152440888,
          0.9250651447778439,
          0.7690176847388803,
          0.5078259586477458,
          0.14393753720107805,
          -0.3027950617283952,
          -0.7951143730918573,
          -1.278357984664403,
          -1.6804585370450331,
          -1.911943723656666,
          -1.8659362907461214,
          -1.418154037384138
         ],
         "type": "scatter",
         "xaxis": "x4",
         "yaxis": "y4"
        },
        {
         "marker": {
          "color": "red",
          "opacity": 0.7
         },
         "mode": "markers",
         "name": "Observed Points",
         "showlegend": false,
         "x": [
          -1.2,
          -1.0358974358974358,
          -0.8717948717948718,
          -0.7076923076923076,
          -0.5435897435897435,
          -0.37948717948717947,
          -0.21538461538461529,
          -0.05128205128205132,
          0.11282051282051286,
          0.27692307692307705,
          0.441025641025641,
          0.6051282051282052,
          0.7692307692307694,
          0.9333333333333333,
          1.0974358974358973,
          1.2615384615384617,
          1.4256410256410257,
          1.5897435897435896,
          1.753846153846154,
          1.917948717948718
         ],
         "y": [
          5.3977439877046,
          3.5531307588538605,
          2.924061497172077,
          2.159712794796104,
          1.1781572396116011,
          1.2546574647756819,
          1.1245259033060655,
          1.1035274288374686,
          1.972838378191834,
          0.7649412820688883,
          -0.0373469186495734,
          0.44241130734427864,
          0.010323436448501117,
          -0.35701265785735226,
          0.7547183865333127,
          -1.8643089423271113,
          -1.11267934903998,
          -3.410611887130229,
          0.09205351710158749,
          -1.0832803119817478
         ],
         "type": "scatter",
         "xaxis": "x4",
         "yaxis": "y4"
        },
        {
         "marker": {
          "color": "blue",
          "opacity": 0.7
         },
         "mode": "markers",
         "name": "Predicted Points",
         "showlegend": false,
         "x": [
          -1.2,
          -1.0358974358974358,
          -0.8717948717948718,
          -0.7076923076923076,
          -0.5435897435897435,
          -0.37948717948717947,
          -0.21538461538461529,
          -0.05128205128205132,
          0.11282051282051286,
          0.27692307692307705,
          0.441025641025641,
          0.6051282051282052,
          0.7692307692307694,
          0.9333333333333333,
          1.0974358974358973,
          1.2615384615384617,
          1.4256410256410257,
          1.5897435897435896,
          1.753846153846154,
          1.917948717948718
         ],
         "y": [
          5.3204172056190915,
          3.7950903799739915,
          2.7108516998811996,
          1.984827441593882,
          1.5357560103979206,
          1.2858444827475202,
          1.1626251484008356,
          1.1008120525555865,
          1.044157537984676,
          0.9473087871718119,
          0.7776643644471251,
          0.5172307581227865,
          0.16447892262862784,
          -0.2637991793522385,
          -0.7306340347478042,
          -1.1770220379615433,
          -1.5200689487367915,
          -1.6511333500211336,
          -1.4339701058307757,
          -0.7028738191149362
         ],
         "type": "scatter",
         "xaxis": "x4",
         "yaxis": "y4"
        },
        {
         "marker": {
          "color": "black",
          "opacity": 0.7
         },
         "mode": "markers",
         "name": "Real Points",
         "showlegend": false,
         "x": [
          -1.2,
          -1.0358974358974358,
          -0.8717948717948718,
          -0.7076923076923076,
          -0.5435897435897435,
          -0.37948717948717947,
          -0.21538461538461529,
          -0.05128205128205132,
          0.11282051282051286,
          0.27692307692307705,
          0.441025641025641,
          0.6051282051282052,
          0.7692307692307694,
          0.9333333333333333,
          1.0974358974358973,
          1.2615384615384617,
          1.4256410256410257,
          1.5897435897435896,
          1.753846153846154,
          1.917948717948718
         ],
         "y": [
          5.8096,
          3.8381753317244733,
          2.522800884051074,
          1.7092797030916282,
          1.2608197821340592,
          1.058034061642376,
          0.9989404292566787,
          0.9989617197931566,
          0.9909257152440888,
          0.9250651447778439,
          0.7690176847388803,
          0.5078259586477458,
          0.14393753720107805,
          -0.3027950617283952,
          -0.7951143730918573,
          -1.278357984664403,
          -1.6804585370450331,
          -1.911943723656666,
          -1.8659362907461214,
          -1.418154037384138
         ],
         "type": "scatter",
         "xaxis": "x5",
         "yaxis": "y5"
        },
        {
         "marker": {
          "color": "red",
          "opacity": 0.7
         },
         "mode": "markers",
         "name": "Observed Points",
         "showlegend": false,
         "x": [
          -1.2,
          -1.0358974358974358,
          -0.8717948717948718,
          -0.7076923076923076,
          -0.5435897435897435,
          -0.37948717948717947,
          -0.21538461538461529,
          -0.05128205128205132,
          0.11282051282051286,
          0.27692307692307705,
          0.441025641025641,
          0.6051282051282052,
          0.7692307692307694,
          0.9333333333333333,
          1.0974358974358973,
          1.2615384615384617,
          1.4256410256410257,
          1.5897435897435896,
          1.753846153846154,
          1.917948717948718
         ],
         "y": [
          5.3977439877046,
          3.5531307588538605,
          2.924061497172077,
          2.159712794796104,
          1.1781572396116011,
          1.2546574647756819,
          1.1245259033060655,
          1.1035274288374686,
          1.972838378191834,
          0.7649412820688883,
          -0.0373469186495734,
          0.44241130734427864,
          0.010323436448501117,
          -0.35701265785735226,
          0.7547183865333127,
          -1.8643089423271113,
          -1.11267934903998,
          -3.410611887130229,
          0.09205351710158749,
          -1.0832803119817478
         ],
         "type": "scatter",
         "xaxis": "x5",
         "yaxis": "y5"
        },
        {
         "marker": {
          "color": "blue",
          "opacity": 0.7
         },
         "mode": "markers",
         "name": "Predicted Points",
         "showlegend": false,
         "x": [
          -1.2,
          -1.0358974358974358,
          -0.8717948717948718,
          -0.7076923076923076,
          -0.5435897435897435,
          -0.37948717948717947,
          -0.21538461538461529,
          -0.05128205128205132,
          0.11282051282051286,
          0.27692307692307705,
          0.441025641025641,
          0.6051282051282052,
          0.7692307692307694,
          0.9333333333333333,
          1.0974358974358973,
          1.2615384615384617,
          1.4256410256410257,
          1.5897435897435896,
          1.753846153846154,
          1.917948717948718
         ],
         "y": [
          5.367837091581694,
          3.737687360124524,
          2.6650956695664068,
          1.9849742523863354,
          1.5723853031151624,
          1.3330930894522597,
          1.195730982099185,
          1.105583403310337,
          1.0199826941606036,
          0.9053209005300028,
          0.7356764778053162,
          0.49305591429871515,
          0.1692502733833795,
          -0.23069334565388921,
          -0.6833854280430669,
          -1.1403927452443097,
          -1.5199221379443586,
          -1.6968893803359673,
          -1.491373125680318,
          -0.6554539331524643
         ],
         "type": "scatter",
         "xaxis": "x5",
         "yaxis": "y5"
        },
        {
         "marker": {
          "color": "black",
          "opacity": 0.7
         },
         "mode": "markers",
         "name": "Real Points",
         "showlegend": false,
         "x": [
          -1.2,
          -1.0358974358974358,
          -0.8717948717948718,
          -0.7076923076923076,
          -0.5435897435897435,
          -0.37948717948717947,
          -0.21538461538461529,
          -0.05128205128205132,
          0.11282051282051286,
          0.27692307692307705,
          0.441025641025641,
          0.6051282051282052,
          0.7692307692307694,
          0.9333333333333333,
          1.0974358974358973,
          1.2615384615384617,
          1.4256410256410257,
          1.5897435897435896,
          1.753846153846154,
          1.917948717948718
         ],
         "y": [
          5.8096,
          3.8381753317244733,
          2.522800884051074,
          1.7092797030916282,
          1.2608197821340592,
          1.058034061642376,
          0.9989404292566787,
          0.9989617197931566,
          0.9909257152440888,
          0.9250651447778439,
          0.7690176847388803,
          0.5078259586477458,
          0.14393753720107805,
          -0.3027950617283952,
          -0.7951143730918573,
          -1.278357984664403,
          -1.6804585370450331,
          -1.911943723656666,
          -1.8659362907461214,
          -1.418154037384138
         ],
         "type": "scatter",
         "xaxis": "x6",
         "yaxis": "y6"
        },
        {
         "marker": {
          "color": "red",
          "opacity": 0.7
         },
         "mode": "markers",
         "name": "Observed Points",
         "showlegend": false,
         "x": [
          -1.2,
          -1.0358974358974358,
          -0.8717948717948718,
          -0.7076923076923076,
          -0.5435897435897435,
          -0.37948717948717947,
          -0.21538461538461529,
          -0.05128205128205132,
          0.11282051282051286,
          0.27692307692307705,
          0.441025641025641,
          0.6051282051282052,
          0.7692307692307694,
          0.9333333333333333,
          1.0974358974358973,
          1.2615384615384617,
          1.4256410256410257,
          1.5897435897435896,
          1.753846153846154,
          1.917948717948718
         ],
         "y": [
          5.3977439877046,
          3.5531307588538605,
          2.924061497172077,
          2.159712794796104,
          1.1781572396116011,
          1.2546574647756819,
          1.1245259033060655,
          1.1035274288374686,
          1.972838378191834,
          0.7649412820688883,
          -0.0373469186495734,
          0.44241130734427864,
          0.010323436448501117,
          -0.35701265785735226,
          0.7547183865333127,
          -1.8643089423271113,
          -1.11267934903998,
          -3.410611887130229,
          0.09205351710158749,
          -1.0832803119817478
         ],
         "type": "scatter",
         "xaxis": "x6",
         "yaxis": "y6"
        },
        {
         "marker": {
          "color": "blue",
          "opacity": 0.7
         },
         "mode": "markers",
         "name": "Predicted Points",
         "showlegend": false,
         "x": [
          -1.2,
          -1.0358974358974358,
          -0.8717948717948718,
          -0.7076923076923076,
          -0.5435897435897435,
          -0.37948717948717947,
          -0.21538461538461529,
          -0.05128205128205132,
          0.11282051282051286,
          0.27692307692307705,
          0.441025641025641,
          0.6051282051282052,
          0.7692307692307694,
          0.9333333333333333,
          1.0974358974358973,
          1.2615384615384617,
          1.4256410256410257,
          1.5897435897435896,
          1.753846153846154,
          1.917948717948718
         ],
         "y": [
          5.39199575670916,
          3.690641538560516,
          2.6536520913481363,
          2.0112271671223754,
          1.605706310280135,
          1.347565850140077,
          1.1837264441643311,
          1.0765256899913906,
          0.9917103244448723,
          0.8938025276828543,
          0.747194850652469,
          0.5213282840144511,
          0.19830798670233113,
          -0.218688807719029,
          -0.6978581887308748,
          -1.1737137524092676,
          -1.5461750526803733,
          -1.6854458021176526,
          -1.4443273041162366,
          -0.6796125982798111
         ],
         "type": "scatter",
         "xaxis": "x6",
         "yaxis": "y6"
        }
       ],
       "layout": {
        "template": {
         "data": {
          "barpolar": [
           {
            "marker": {
             "line": {
              "color": "white",
              "width": 0.5
             },
             "pattern": {
              "fillmode": "overlay",
              "size": 10,
              "solidity": 0.2
             }
            },
            "type": "barpolar"
           }
          ],
          "bar": [
           {
            "error_x": {
             "color": "rgb(36,36,36)"
            },
            "error_y": {
             "color": "rgb(36,36,36)"
            },
            "marker": {
             "line": {
              "color": "white",
              "width": 0.5
             },
             "pattern": {
              "fillmode": "overlay",
              "size": 10,
              "solidity": 0.2
             }
            },
            "type": "bar"
           }
          ],
          "carpet": [
           {
            "aaxis": {
             "endlinecolor": "rgb(36,36,36)",
             "gridcolor": "white",
             "linecolor": "white",
             "minorgridcolor": "white",
             "startlinecolor": "rgb(36,36,36)"
            },
            "baxis": {
             "endlinecolor": "rgb(36,36,36)",
             "gridcolor": "white",
             "linecolor": "white",
             "minorgridcolor": "white",
             "startlinecolor": "rgb(36,36,36)"
            },
            "type": "carpet"
           }
          ],
          "choropleth": [
           {
            "colorbar": {
             "outlinewidth": 1,
             "tickcolor": "rgb(36,36,36)",
             "ticks": "outside"
            },
            "type": "choropleth"
           }
          ],
          "contourcarpet": [
           {
            "colorbar": {
             "outlinewidth": 1,
             "tickcolor": "rgb(36,36,36)",
             "ticks": "outside"
            },
            "type": "contourcarpet"
           }
          ],
          "contour": [
           {
            "colorbar": {
             "outlinewidth": 1,
             "tickcolor": "rgb(36,36,36)",
             "ticks": "outside"
            },
            "colorscale": [
             [
              0.0,
              "#440154"
             ],
             [
              0.1111111111111111,
              "#482878"
             ],
             [
              0.2222222222222222,
              "#3e4989"
             ],
             [
              0.3333333333333333,
              "#31688e"
             ],
             [
              0.4444444444444444,
              "#26828e"
             ],
             [
              0.5555555555555556,
              "#1f9e89"
             ],
             [
              0.6666666666666666,
              "#35b779"
             ],
             [
              0.7777777777777778,
              "#6ece58"
             ],
             [
              0.8888888888888888,
              "#b5de2b"
             ],
             [
              1.0,
              "#fde725"
             ]
            ],
            "type": "contour"
           }
          ],
          "heatmapgl": [
           {
            "colorbar": {
             "outlinewidth": 1,
             "tickcolor": "rgb(36,36,36)",
             "ticks": "outside"
            },
            "colorscale": [
             [
              0.0,
              "#440154"
             ],
             [
              0.1111111111111111,
              "#482878"
             ],
             [
              0.2222222222222222,
              "#3e4989"
             ],
             [
              0.3333333333333333,
              "#31688e"
             ],
             [
              0.4444444444444444,
              "#26828e"
             ],
             [
              0.5555555555555556,
              "#1f9e89"
             ],
             [
              0.6666666666666666,
              "#35b779"
             ],
             [
              0.7777777777777778,
              "#6ece58"
             ],
             [
              0.8888888888888888,
              "#b5de2b"
             ],
             [
              1.0,
              "#fde725"
             ]
            ],
            "type": "heatmapgl"
           }
          ],
          "heatmap": [
           {
            "colorbar": {
             "outlinewidth": 1,
             "tickcolor": "rgb(36,36,36)",
             "ticks": "outside"
            },
            "colorscale": [
             [
              0.0,
              "#440154"
             ],
             [
              0.1111111111111111,
              "#482878"
             ],
             [
              0.2222222222222222,
              "#3e4989"
             ],
             [
              0.3333333333333333,
              "#31688e"
             ],
             [
              0.4444444444444444,
              "#26828e"
             ],
             [
              0.5555555555555556,
              "#1f9e89"
             ],
             [
              0.6666666666666666,
              "#35b779"
             ],
             [
              0.7777777777777778,
              "#6ece58"
             ],
             [
              0.8888888888888888,
              "#b5de2b"
             ],
             [
              1.0,
              "#fde725"
             ]
            ],
            "type": "heatmap"
           }
          ],
          "histogram2dcontour": [
           {
            "colorbar": {
             "outlinewidth": 1,
             "tickcolor": "rgb(36,36,36)",
             "ticks": "outside"
            },
            "colorscale": [
             [
              0.0,
              "#440154"
             ],
             [
              0.1111111111111111,
              "#482878"
             ],
             [
              0.2222222222222222,
              "#3e4989"
             ],
             [
              0.3333333333333333,
              "#31688e"
             ],
             [
              0.4444444444444444,
              "#26828e"
             ],
             [
              0.5555555555555556,
              "#1f9e89"
             ],
             [
              0.6666666666666666,
              "#35b779"
             ],
             [
              0.7777777777777778,
              "#6ece58"
             ],
             [
              0.8888888888888888,
              "#b5de2b"
             ],
             [
              1.0,
              "#fde725"
             ]
            ],
            "type": "histogram2dcontour"
           }
          ],
          "histogram2d": [
           {
            "colorbar": {
             "outlinewidth": 1,
             "tickcolor": "rgb(36,36,36)",
             "ticks": "outside"
            },
            "colorscale": [
             [
              0.0,
              "#440154"
             ],
             [
              0.1111111111111111,
              "#482878"
             ],
             [
              0.2222222222222222,
              "#3e4989"
             ],
             [
              0.3333333333333333,
              "#31688e"
             ],
             [
              0.4444444444444444,
              "#26828e"
             ],
             [
              0.5555555555555556,
              "#1f9e89"
             ],
             [
              0.6666666666666666,
              "#35b779"
             ],
             [
              0.7777777777777778,
              "#6ece58"
             ],
             [
              0.8888888888888888,
              "#b5de2b"
             ],
             [
              1.0,
              "#fde725"
             ]
            ],
            "type": "histogram2d"
           }
          ],
          "histogram": [
           {
            "marker": {
             "line": {
              "color": "white",
              "width": 0.6
             }
            },
            "type": "histogram"
           }
          ],
          "mesh3d": [
           {
            "colorbar": {
             "outlinewidth": 1,
             "tickcolor": "rgb(36,36,36)",
             "ticks": "outside"
            },
            "type": "mesh3d"
           }
          ],
          "parcoords": [
           {
            "line": {
             "colorbar": {
              "outlinewidth": 1,
              "tickcolor": "rgb(36,36,36)",
              "ticks": "outside"
             }
            },
            "type": "parcoords"
           }
          ],
          "pie": [
           {
            "automargin": true,
            "type": "pie"
           }
          ],
          "scatter3d": [
           {
            "line": {
             "colorbar": {
              "outlinewidth": 1,
              "tickcolor": "rgb(36,36,36)",
              "ticks": "outside"
             }
            },
            "marker": {
             "colorbar": {
              "outlinewidth": 1,
              "tickcolor": "rgb(36,36,36)",
              "ticks": "outside"
             }
            },
            "type": "scatter3d"
           }
          ],
          "scattercarpet": [
           {
            "marker": {
             "colorbar": {
              "outlinewidth": 1,
              "tickcolor": "rgb(36,36,36)",
              "ticks": "outside"
             }
            },
            "type": "scattercarpet"
           }
          ],
          "scattergeo": [
           {
            "marker": {
             "colorbar": {
              "outlinewidth": 1,
              "tickcolor": "rgb(36,36,36)",
              "ticks": "outside"
             }
            },
            "type": "scattergeo"
           }
          ],
          "scattergl": [
           {
            "marker": {
             "colorbar": {
              "outlinewidth": 1,
              "tickcolor": "rgb(36,36,36)",
              "ticks": "outside"
             }
            },
            "type": "scattergl"
           }
          ],
          "scattermapbox": [
           {
            "marker": {
             "colorbar": {
              "outlinewidth": 1,
              "tickcolor": "rgb(36,36,36)",
              "ticks": "outside"
             }
            },
            "type": "scattermapbox"
           }
          ],
          "scatterpolargl": [
           {
            "marker": {
             "colorbar": {
              "outlinewidth": 1,
              "tickcolor": "rgb(36,36,36)",
              "ticks": "outside"
             }
            },
            "type": "scatterpolargl"
           }
          ],
          "scatterpolar": [
           {
            "marker": {
             "colorbar": {
              "outlinewidth": 1,
              "tickcolor": "rgb(36,36,36)",
              "ticks": "outside"
             }
            },
            "type": "scatterpolar"
           }
          ],
          "scatter": [
           {
            "marker": {
             "colorbar": {
              "outlinewidth": 1,
              "tickcolor": "rgb(36,36,36)",
              "ticks": "outside"
             }
            },
            "type": "scatter"
           }
          ],
          "scatterternary": [
           {
            "marker": {
             "colorbar": {
              "outlinewidth": 1,
              "tickcolor": "rgb(36,36,36)",
              "ticks": "outside"
             }
            },
            "type": "scatterternary"
           }
          ],
          "surface": [
           {
            "colorbar": {
             "outlinewidth": 1,
             "tickcolor": "rgb(36,36,36)",
             "ticks": "outside"
            },
            "colorscale": [
             [
              0.0,
              "#440154"
             ],
             [
              0.1111111111111111,
              "#482878"
             ],
             [
              0.2222222222222222,
              "#3e4989"
             ],
             [
              0.3333333333333333,
              "#31688e"
             ],
             [
              0.4444444444444444,
              "#26828e"
             ],
             [
              0.5555555555555556,
              "#1f9e89"
             ],
             [
              0.6666666666666666,
              "#35b779"
             ],
             [
              0.7777777777777778,
              "#6ece58"
             ],
             [
              0.8888888888888888,
              "#b5de2b"
             ],
             [
              1.0,
              "#fde725"
             ]
            ],
            "type": "surface"
           }
          ],
          "table": [
           {
            "cells": {
             "fill": {
              "color": "rgb(237,237,237)"
             },
             "line": {
              "color": "white"
             }
            },
            "header": {
             "fill": {
              "color": "rgb(217,217,217)"
             },
             "line": {
              "color": "white"
             }
            },
            "type": "table"
           }
          ]
         },
         "layout": {
          "annotationdefaults": {
           "arrowhead": 0,
           "arrowwidth": 1
          },
          "autotypenumbers": "strict",
          "coloraxis": {
           "colorbar": {
            "outlinewidth": 1,
            "tickcolor": "rgb(36,36,36)",
            "ticks": "outside"
           }
          },
          "colorscale": {
           "diverging": [
            [
             0.0,
             "rgb(103,0,31)"
            ],
            [
             0.1,
             "rgb(178,24,43)"
            ],
            [
             0.2,
             "rgb(214,96,77)"
            ],
            [
             0.3,
             "rgb(244,165,130)"
            ],
            [
             0.4,
             "rgb(253,219,199)"
            ],
            [
             0.5,
             "rgb(247,247,247)"
            ],
            [
             0.6,
             "rgb(209,229,240)"
            ],
            [
             0.7,
             "rgb(146,197,222)"
            ],
            [
             0.8,
             "rgb(67,147,195)"
            ],
            [
             0.9,
             "rgb(33,102,172)"
            ],
            [
             1.0,
             "rgb(5,48,97)"
            ]
           ],
           "sequential": [
            [
             0.0,
             "#440154"
            ],
            [
             0.1111111111111111,
             "#482878"
            ],
            [
             0.2222222222222222,
             "#3e4989"
            ],
            [
             0.3333333333333333,
             "#31688e"
            ],
            [
             0.4444444444444444,
             "#26828e"
            ],
            [
             0.5555555555555556,
             "#1f9e89"
            ],
            [
             0.6666666666666666,
             "#35b779"
            ],
            [
             0.7777777777777778,
             "#6ece58"
            ],
            [
             0.8888888888888888,
             "#b5de2b"
            ],
            [
             1.0,
             "#fde725"
            ]
           ],
           "sequentialminus": [
            [
             0.0,
             "#440154"
            ],
            [
             0.1111111111111111,
             "#482878"
            ],
            [
             0.2222222222222222,
             "#3e4989"
            ],
            [
             0.3333333333333333,
             "#31688e"
            ],
            [
             0.4444444444444444,
             "#26828e"
            ],
            [
             0.5555555555555556,
             "#1f9e89"
            ],
            [
             0.6666666666666666,
             "#35b779"
            ],
            [
             0.7777777777777778,
             "#6ece58"
            ],
            [
             0.8888888888888888,
             "#b5de2b"
            ],
            [
             1.0,
             "#fde725"
            ]
           ]
          },
          "colorway": [
           "#1F77B4",
           "#FF7F0E",
           "#2CA02C",
           "#D62728",
           "#9467BD",
           "#8C564B",
           "#E377C2",
           "#7F7F7F",
           "#BCBD22",
           "#17BECF"
          ],
          "font": {
           "color": "rgb(36,36,36)"
          },
          "geo": {
           "bgcolor": "white",
           "lakecolor": "white",
           "landcolor": "white",
           "showlakes": true,
           "showland": true,
           "subunitcolor": "white"
          },
          "hoverlabel": {
           "align": "left"
          },
          "hovermode": "closest",
          "mapbox": {
           "style": "light"
          },
          "paper_bgcolor": "white",
          "plot_bgcolor": "white",
          "polar": {
           "angularaxis": {
            "gridcolor": "rgb(232,232,232)",
            "linecolor": "rgb(36,36,36)",
            "showgrid": false,
            "showline": true,
            "ticks": "outside"
           },
           "bgcolor": "white",
           "radialaxis": {
            "gridcolor": "rgb(232,232,232)",
            "linecolor": "rgb(36,36,36)",
            "showgrid": false,
            "showline": true,
            "ticks": "outside"
           }
          },
          "scene": {
           "xaxis": {
            "backgroundcolor": "white",
            "gridcolor": "rgb(232,232,232)",
            "gridwidth": 2,
            "linecolor": "rgb(36,36,36)",
            "showbackground": true,
            "showgrid": false,
            "showline": true,
            "ticks": "outside",
            "zeroline": false,
            "zerolinecolor": "rgb(36,36,36)"
           },
           "yaxis": {
            "backgroundcolor": "white",
            "gridcolor": "rgb(232,232,232)",
            "gridwidth": 2,
            "linecolor": "rgb(36,36,36)",
            "showbackground": true,
            "showgrid": false,
            "showline": true,
            "ticks": "outside",
            "zeroline": false,
            "zerolinecolor": "rgb(36,36,36)"
           },
           "zaxis": {
            "backgroundcolor": "white",
            "gridcolor": "rgb(232,232,232)",
            "gridwidth": 2,
            "linecolor": "rgb(36,36,36)",
            "showbackground": true,
            "showgrid": false,
            "showline": true,
            "ticks": "outside",
            "zeroline": false,
            "zerolinecolor": "rgb(36,36,36)"
           }
          },
          "shapedefaults": {
           "fillcolor": "black",
           "line": {
            "width": 0
           },
           "opacity": 0.3
          },
          "ternary": {
           "aaxis": {
            "gridcolor": "rgb(232,232,232)",
            "linecolor": "rgb(36,36,36)",
            "showgrid": false,
            "showline": true,
            "ticks": "outside"
           },
           "baxis": {
            "gridcolor": "rgb(232,232,232)",
            "linecolor": "rgb(36,36,36)",
            "showgrid": false,
            "showline": true,
            "ticks": "outside"
           },
           "bgcolor": "white",
           "caxis": {
            "gridcolor": "rgb(232,232,232)",
            "linecolor": "rgb(36,36,36)",
            "showgrid": false,
            "showline": true,
            "ticks": "outside"
           }
          },
          "title": {
           "x": 0.05
          },
          "xaxis": {
           "automargin": true,
           "gridcolor": "rgb(232,232,232)",
           "linecolor": "rgb(36,36,36)",
           "showgrid": false,
           "showline": true,
           "ticks": "outside",
           "title": {
            "standoff": 15
           },
           "zeroline": false,
           "zerolinecolor": "rgb(36,36,36)"
          },
          "yaxis": {
           "automargin": true,
           "gridcolor": "rgb(232,232,232)",
           "linecolor": "rgb(36,36,36)",
           "showgrid": false,
           "showline": true,
           "ticks": "outside",
           "title": {
            "standoff": 15
           },
           "zeroline": false,
           "zerolinecolor": "rgb(36,36,36)"
          },
          "margin": {
           "b": 0,
           "l": 20,
           "r": 20,
           "t": 40
          }
         }
        },
        "xaxis": {
         "anchor": "y",
         "domain": [
          0.0,
          0.2888888888888889
         ]
        },
        "yaxis": {
         "anchor": "x",
         "domain": [
          0.625,
          1.0
         ]
        },
        "xaxis2": {
         "anchor": "y2",
         "domain": [
          0.35555555555555557,
          0.6444444444444445
         ]
        },
        "yaxis2": {
         "anchor": "x2",
         "domain": [
          0.625,
          1.0
         ]
        },
        "xaxis3": {
         "anchor": "y3",
         "domain": [
          0.7111111111111111,
          1.0
         ]
        },
        "yaxis3": {
         "anchor": "x3",
         "domain": [
          0.625,
          1.0
         ]
        },
        "xaxis4": {
         "anchor": "y4",
         "domain": [
          0.0,
          0.2888888888888889
         ]
        },
        "yaxis4": {
         "anchor": "x4",
         "domain": [
          0.0,
          0.375
         ]
        },
        "xaxis5": {
         "anchor": "y5",
         "domain": [
          0.35555555555555557,
          0.6444444444444445
         ]
        },
        "yaxis5": {
         "anchor": "x5",
         "domain": [
          0.0,
          0.375
         ]
        },
        "xaxis6": {
         "anchor": "y6",
         "domain": [
          0.7111111111111111,
          1.0
         ]
        },
        "yaxis6": {
         "anchor": "x6",
         "domain": [
          0.0,
          0.375
         ]
        },
        "annotations": [
         {
          "font": {
           "size": 16
          },
          "showarrow": false,
          "text": "$k=2, MSE=0.78$",
          "x": 0.14444444444444446,
          "xanchor": "center",
          "xref": "paper",
          "y": 1.0,
          "yanchor": "bottom",
          "yref": "paper"
         },
         {
          "font": {
           "size": 16
          },
          "showarrow": false,
          "text": "$k=3, MSE=0.74$",
          "x": 0.5,
          "xanchor": "center",
          "xref": "paper",
          "y": 1.0,
          "yanchor": "bottom",
          "yref": "paper"
         },
         {
          "font": {
           "size": 16
          },
          "showarrow": false,
          "text": "$k=4, MSE=0.52$",
          "x": 0.8555555555555556,
          "xanchor": "center",
          "xref": "paper",
          "y": 1.0,
          "yanchor": "bottom",
          "yref": "paper"
         },
         {
          "font": {
           "size": 16
          },
          "showarrow": false,
          "text": "$k=5, MSE=0.51$",
          "x": 0.14444444444444446,
          "xanchor": "center",
          "xref": "paper",
          "y": 0.375,
          "yanchor": "bottom",
          "yref": "paper"
         },
         {
          "font": {
           "size": 16
          },
          "showarrow": false,
          "text": "$k=6, MSE=0.51$",
          "x": 0.5,
          "xanchor": "center",
          "xref": "paper",
          "y": 0.375,
          "yanchor": "bottom",
          "yref": "paper"
         },
         {
          "font": {
           "size": 16
          },
          "showarrow": false,
          "text": "$k=7, MSE=0.51$",
          "x": 0.8555555555555556,
          "xanchor": "center",
          "xref": "paper",
          "y": 0.375,
          "yanchor": "bottom",
          "yref": "paper"
         }
        ],
        "margin": {
         "t": 80
        },
        "title": {
         "text": "$\\text{(4) Simulated Data With Noise - Fitting Polynomials of Different Degrees}$"
        }
       },
       "config": {
        "plotlyServerURL": "https://plot.ly"
       }
      },
      "text/html": "<div>                            <div id=\"1c1f2bf0-4612-42f7-84cc-ba2a2ecd7113\" class=\"plotly-graph-div\" style=\"height:525px; width:100%;\"></div>            <script type=\"text/javascript\">                require([\"plotly\"], function(Plotly) {                    window.PLOTLYENV=window.PLOTLYENV || {};                                    if (document.getElementById(\"1c1f2bf0-4612-42f7-84cc-ba2a2ecd7113\")) {                    Plotly.newPlot(                        \"1c1f2bf0-4612-42f7-84cc-ba2a2ecd7113\",                        [{\"marker\":{\"color\":\"black\",\"opacity\":0.7},\"mode\":\"markers\",\"name\":\"Real Points\",\"showlegend\":false,\"x\":[-1.2,-1.0358974358974358,-0.8717948717948718,-0.7076923076923076,-0.5435897435897435,-0.37948717948717947,-0.21538461538461529,-0.05128205128205132,0.11282051282051286,0.27692307692307705,0.441025641025641,0.6051282051282052,0.7692307692307694,0.9333333333333333,1.0974358974358973,1.2615384615384617,1.4256410256410257,1.5897435897435896,1.753846153846154,1.917948717948718],\"y\":[5.8096,3.8381753317244733,2.522800884051074,1.7092797030916282,1.2608197821340592,1.058034061642376,0.9989404292566787,0.9989617197931566,0.9909257152440888,0.9250651447778439,0.7690176847388803,0.5078259586477458,0.14393753720107805,-0.3027950617283952,-0.7951143730918573,-1.278357984664403,-1.6804585370450331,-1.911943723656666,-1.8659362907461214,-1.418154037384138],\"type\":\"scatter\",\"xaxis\":\"x\",\"yaxis\":\"y\"},{\"marker\":{\"color\":\"red\",\"opacity\":0.7},\"mode\":\"markers\",\"name\":\"Observed Points\",\"showlegend\":false,\"x\":[-1.2,-1.0358974358974358,-0.8717948717948718,-0.7076923076923076,-0.5435897435897435,-0.37948717948717947,-0.21538461538461529,-0.05128205128205132,0.11282051282051286,0.27692307692307705,0.441025641025641,0.6051282051282052,0.7692307692307694,0.9333333333333333,1.0974358974358973,1.2615384615384617,1.4256410256410257,1.5897435897435896,1.753846153846154,1.917948717948718],\"y\":[5.3977439877046,3.5531307588538605,2.924061497172077,2.159712794796104,1.1781572396116011,1.2546574647756819,1.1245259033060655,1.1035274288374686,1.972838378191834,0.7649412820688883,-0.0373469186495734,0.44241130734427864,0.010323436448501117,-0.35701265785735226,0.7547183865333127,-1.8643089423271113,-1.11267934903998,-3.410611887130229,0.09205351710158749,-1.0832803119817478],\"type\":\"scatter\",\"xaxis\":\"x\",\"yaxis\":\"y\"},{\"marker\":{\"color\":\"blue\",\"opacity\":0.7},\"mode\":\"markers\",\"name\":\"Predicted Points\",\"showlegend\":false,\"x\":[-1.2,-1.0358974358974358,-0.8717948717948718,-0.7076923076923076,-0.5435897435897435,-0.37948717948717947,-0.21538461538461529,-0.05128205128205132,0.11282051282051286,0.27692307692307705,0.441025641025641,0.6051282051282052,0.7692307692307694,0.9333333333333333,1.0974358974358973,1.2615384615384617,1.4256410256410257,1.5897435897435896,1.753846153846154,1.917948717948718],\"y\":[4.15376689625669,3.646329721893778,3.1636340286883917,2.705679816640531,2.272467085750196,1.8639958360173867,1.480266067442103,1.1212777800243456,0.7870309737641136,0.47752564866140723,0.19276180471622714,-0.06726055807142767,-0.3025414397015567,-0.5130808401741594,-0.6988787594892365,-0.8599351976467887,-0.9962501546468142,-1.1078236304893145,-1.1946556251742888,-1.2567461387017371],\"type\":\"scatter\",\"xaxis\":\"x\",\"yaxis\":\"y\"},{\"marker\":{\"color\":\"black\",\"opacity\":0.7},\"mode\":\"markers\",\"name\":\"Real Points\",\"showlegend\":false,\"x\":[-1.2,-1.0358974358974358,-0.8717948717948718,-0.7076923076923076,-0.5435897435897435,-0.37948717948717947,-0.21538461538461529,-0.05128205128205132,0.11282051282051286,0.27692307692307705,0.441025641025641,0.6051282051282052,0.7692307692307694,0.9333333333333333,1.0974358974358973,1.2615384615384617,1.4256410256410257,1.5897435897435896,1.753846153846154,1.917948717948718],\"y\":[5.8096,3.8381753317244733,2.522800884051074,1.7092797030916282,1.2608197821340592,1.058034061642376,0.9989404292566787,0.9989617197931566,0.9909257152440888,0.9250651447778439,0.7690176847388803,0.5078259586477458,0.14393753720107805,-0.3027950617283952,-0.7951143730918573,-1.278357984664403,-1.6804585370450331,-1.911943723656666,-1.8659362907461214,-1.418154037384138],\"type\":\"scatter\",\"xaxis\":\"x2\",\"yaxis\":\"y2\"},{\"marker\":{\"color\":\"red\",\"opacity\":0.7},\"mode\":\"markers\",\"name\":\"Observed Points\",\"showlegend\":false,\"x\":[-1.2,-1.0358974358974358,-0.8717948717948718,-0.7076923076923076,-0.5435897435897435,-0.37948717948717947,-0.21538461538461529,-0.05128205128205132,0.11282051282051286,0.27692307692307705,0.441025641025641,0.6051282051282052,0.7692307692307694,0.9333333333333333,1.0974358974358973,1.2615384615384617,1.4256410256410257,1.5897435897435896,1.753846153846154,1.917948717948718],\"y\":[5.3977439877046,3.5531307588538605,2.924061497172077,2.159712794796104,1.1781572396116011,1.2546574647756819,1.1245259033060655,1.1035274288374686,1.972838378191834,0.7649412820688883,-0.0373469186495734,0.44241130734427864,0.010323436448501117,-0.35701265785735226,0.7547183865333127,-1.8643089423271113,-1.11267934903998,-3.410611887130229,0.09205351710158749,-1.0832803119817478],\"type\":\"scatter\",\"xaxis\":\"x2\",\"yaxis\":\"y2\"},{\"marker\":{\"color\":\"blue\",\"opacity\":0.7},\"mode\":\"markers\",\"name\":\"Predicted Points\",\"showlegend\":false,\"x\":[-1.2,-1.0358974358974358,-0.8717948717948718,-0.7076923076923076,-0.5435897435897435,-0.37948717948717947,-0.21538461538461529,-0.05128205128205132,0.11282051282051286,0.27692307692307705,0.441025641025641,0.6051282051282052,0.7692307692307694,0.9333333333333333,1.0974358974358973,1.2615384615384617,1.4256410256410257,1.5897435897435896,1.753846153846154,1.917948717948718],\"y\":[4.545822049688054,3.7907710942105974,3.1292432257558183,2.553146490692521,2.054388935389513,1.6248786062155984,1.2565235495395837,0.9412318117302751,0.6709114391564776,0.4374704781869971,0.23281697519063985,0.048858976536211046,-0.12249547140748351,-0.2893383222716375,-0.45976152968744566,-0.641857047286103,-0.8437168286988017,-1.073432827556738,-1.3390969974911056,-1.648801292133097],\"type\":\"scatter\",\"xaxis\":\"x2\",\"yaxis\":\"y2\"},{\"marker\":{\"color\":\"black\",\"opacity\":0.7},\"mode\":\"markers\",\"name\":\"Real Points\",\"showlegend\":false,\"x\":[-1.2,-1.0358974358974358,-0.8717948717948718,-0.7076923076923076,-0.5435897435897435,-0.37948717948717947,-0.21538461538461529,-0.05128205128205132,0.11282051282051286,0.27692307692307705,0.441025641025641,0.6051282051282052,0.7692307692307694,0.9333333333333333,1.0974358974358973,1.2615384615384617,1.4256410256410257,1.5897435897435896,1.753846153846154,1.917948717948718],\"y\":[5.8096,3.8381753317244733,2.522800884051074,1.7092797030916282,1.2608197821340592,1.058034061642376,0.9989404292566787,0.9989617197931566,0.9909257152440888,0.9250651447778439,0.7690176847388803,0.5078259586477458,0.14393753720107805,-0.3027950617283952,-0.7951143730918573,-1.278357984664403,-1.6804585370450331,-1.911943723656666,-1.8659362907461214,-1.418154037384138],\"type\":\"scatter\",\"xaxis\":\"x3\",\"yaxis\":\"y3\"},{\"marker\":{\"color\":\"red\",\"opacity\":0.7},\"mode\":\"markers\",\"name\":\"Observed Points\",\"showlegend\":false,\"x\":[-1.2,-1.0358974358974358,-0.8717948717948718,-0.7076923076923076,-0.5435897435897435,-0.37948717948717947,-0.21538461538461529,-0.05128205128205132,0.11282051282051286,0.27692307692307705,0.441025641025641,0.6051282051282052,0.7692307692307694,0.9333333333333333,1.0974358974358973,1.2615384615384617,1.4256410256410257,1.5897435897435896,1.753846153846154,1.917948717948718],\"y\":[5.3977439877046,3.5531307588538605,2.924061497172077,2.159712794796104,1.1781572396116011,1.2546574647756819,1.1245259033060655,1.1035274288374686,1.972838378191834,0.7649412820688883,-0.0373469186495734,0.44241130734427864,0.010323436448501117,-0.35701265785735226,0.7547183865333127,-1.8643089423271113,-1.11267934903998,-3.410611887130229,0.09205351710158749,-1.0832803119817478],\"type\":\"scatter\",\"xaxis\":\"x3\",\"yaxis\":\"y3\"},{\"marker\":{\"color\":\"blue\",\"opacity\":0.7},\"mode\":\"markers\",\"name\":\"Predicted Points\",\"showlegend\":false,\"x\":[-1.2,-1.0358974358974358,-0.8717948717948718,-0.7076923076923076,-0.5435897435897435,-0.37948717948717947,-0.21538461538461529,-0.05128205128205132,0.11282051282051286,0.27692307692307705,0.441025641025641,0.6051282051282052,0.7692307692307694,0.9333333333333333,1.0974358974358973,1.2615384615384617,1.4256410256410257,1.5897435897435896,1.753846153846154,1.917948717948718],\"y\":[5.406083364162656,3.745494182922462,2.631197201586315,1.93081090612421,1.5274899775559996,1.319925291951383,1.2223439204299125,1.1645091291609893,1.0917203793638672,0.96481332730765,0.760159824311293,0.4696679167436012,0.10078184602323126,-0.32351795138130823,-0.7647148439516598,-1.1687560051196155,-1.4660524132671124,-1.5714788517262424,-1.3843739087792404,-0.7885399776584983],\"type\":\"scatter\",\"xaxis\":\"x3\",\"yaxis\":\"y3\"},{\"marker\":{\"color\":\"black\",\"opacity\":0.7},\"mode\":\"markers\",\"name\":\"Real Points\",\"showlegend\":false,\"x\":[-1.2,-1.0358974358974358,-0.8717948717948718,-0.7076923076923076,-0.5435897435897435,-0.37948717948717947,-0.21538461538461529,-0.05128205128205132,0.11282051282051286,0.27692307692307705,0.441025641025641,0.6051282051282052,0.7692307692307694,0.9333333333333333,1.0974358974358973,1.2615384615384617,1.4256410256410257,1.5897435897435896,1.753846153846154,1.917948717948718],\"y\":[5.8096,3.8381753317244733,2.522800884051074,1.7092797030916282,1.2608197821340592,1.058034061642376,0.9989404292566787,0.9989617197931566,0.9909257152440888,0.9250651447778439,0.7690176847388803,0.5078259586477458,0.14393753720107805,-0.3027950617283952,-0.7951143730918573,-1.278357984664403,-1.6804585370450331,-1.911943723656666,-1.8659362907461214,-1.418154037384138],\"type\":\"scatter\",\"xaxis\":\"x4\",\"yaxis\":\"y4\"},{\"marker\":{\"color\":\"red\",\"opacity\":0.7},\"mode\":\"markers\",\"name\":\"Observed Points\",\"showlegend\":false,\"x\":[-1.2,-1.0358974358974358,-0.8717948717948718,-0.7076923076923076,-0.5435897435897435,-0.37948717948717947,-0.21538461538461529,-0.05128205128205132,0.11282051282051286,0.27692307692307705,0.441025641025641,0.6051282051282052,0.7692307692307694,0.9333333333333333,1.0974358974358973,1.2615384615384617,1.4256410256410257,1.5897435897435896,1.753846153846154,1.917948717948718],\"y\":[5.3977439877046,3.5531307588538605,2.924061497172077,2.159712794796104,1.1781572396116011,1.2546574647756819,1.1245259033060655,1.1035274288374686,1.972838378191834,0.7649412820688883,-0.0373469186495734,0.44241130734427864,0.010323436448501117,-0.35701265785735226,0.7547183865333127,-1.8643089423271113,-1.11267934903998,-3.410611887130229,0.09205351710158749,-1.0832803119817478],\"type\":\"scatter\",\"xaxis\":\"x4\",\"yaxis\":\"y4\"},{\"marker\":{\"color\":\"blue\",\"opacity\":0.7},\"mode\":\"markers\",\"name\":\"Predicted Points\",\"showlegend\":false,\"x\":[-1.2,-1.0358974358974358,-0.8717948717948718,-0.7076923076923076,-0.5435897435897435,-0.37948717948717947,-0.21538461538461529,-0.05128205128205132,0.11282051282051286,0.27692307692307705,0.441025641025641,0.6051282051282052,0.7692307692307694,0.9333333333333333,1.0974358974358973,1.2615384615384617,1.4256410256410257,1.5897435897435896,1.753846153846154,1.917948717948718],\"y\":[5.3204172056190915,3.7950903799739915,2.7108516998811996,1.984827441593882,1.5357560103979206,1.2858444827475202,1.1626251484008356,1.1008120525555865,1.044157537984676,0.9473087871718119,0.7776643644471251,0.5172307581227865,0.16447892262862784,-0.2637991793522385,-0.7306340347478042,-1.1770220379615433,-1.5200689487367915,-1.6511333500211336,-1.4339701058307757,-0.7028738191149362],\"type\":\"scatter\",\"xaxis\":\"x4\",\"yaxis\":\"y4\"},{\"marker\":{\"color\":\"black\",\"opacity\":0.7},\"mode\":\"markers\",\"name\":\"Real Points\",\"showlegend\":false,\"x\":[-1.2,-1.0358974358974358,-0.8717948717948718,-0.7076923076923076,-0.5435897435897435,-0.37948717948717947,-0.21538461538461529,-0.05128205128205132,0.11282051282051286,0.27692307692307705,0.441025641025641,0.6051282051282052,0.7692307692307694,0.9333333333333333,1.0974358974358973,1.2615384615384617,1.4256410256410257,1.5897435897435896,1.753846153846154,1.917948717948718],\"y\":[5.8096,3.8381753317244733,2.522800884051074,1.7092797030916282,1.2608197821340592,1.058034061642376,0.9989404292566787,0.9989617197931566,0.9909257152440888,0.9250651447778439,0.7690176847388803,0.5078259586477458,0.14393753720107805,-0.3027950617283952,-0.7951143730918573,-1.278357984664403,-1.6804585370450331,-1.911943723656666,-1.8659362907461214,-1.418154037384138],\"type\":\"scatter\",\"xaxis\":\"x5\",\"yaxis\":\"y5\"},{\"marker\":{\"color\":\"red\",\"opacity\":0.7},\"mode\":\"markers\",\"name\":\"Observed Points\",\"showlegend\":false,\"x\":[-1.2,-1.0358974358974358,-0.8717948717948718,-0.7076923076923076,-0.5435897435897435,-0.37948717948717947,-0.21538461538461529,-0.05128205128205132,0.11282051282051286,0.27692307692307705,0.441025641025641,0.6051282051282052,0.7692307692307694,0.9333333333333333,1.0974358974358973,1.2615384615384617,1.4256410256410257,1.5897435897435896,1.753846153846154,1.917948717948718],\"y\":[5.3977439877046,3.5531307588538605,2.924061497172077,2.159712794796104,1.1781572396116011,1.2546574647756819,1.1245259033060655,1.1035274288374686,1.972838378191834,0.7649412820688883,-0.0373469186495734,0.44241130734427864,0.010323436448501117,-0.35701265785735226,0.7547183865333127,-1.8643089423271113,-1.11267934903998,-3.410611887130229,0.09205351710158749,-1.0832803119817478],\"type\":\"scatter\",\"xaxis\":\"x5\",\"yaxis\":\"y5\"},{\"marker\":{\"color\":\"blue\",\"opacity\":0.7},\"mode\":\"markers\",\"name\":\"Predicted Points\",\"showlegend\":false,\"x\":[-1.2,-1.0358974358974358,-0.8717948717948718,-0.7076923076923076,-0.5435897435897435,-0.37948717948717947,-0.21538461538461529,-0.05128205128205132,0.11282051282051286,0.27692307692307705,0.441025641025641,0.6051282051282052,0.7692307692307694,0.9333333333333333,1.0974358974358973,1.2615384615384617,1.4256410256410257,1.5897435897435896,1.753846153846154,1.917948717948718],\"y\":[5.367837091581694,3.737687360124524,2.6650956695664068,1.9849742523863354,1.5723853031151624,1.3330930894522597,1.195730982099185,1.105583403310337,1.0199826941606036,0.9053209005300028,0.7356764778053162,0.49305591429871515,0.1692502733833795,-0.23069334565388921,-0.6833854280430669,-1.1403927452443097,-1.5199221379443586,-1.6968893803359673,-1.491373125680318,-0.6554539331524643],\"type\":\"scatter\",\"xaxis\":\"x5\",\"yaxis\":\"y5\"},{\"marker\":{\"color\":\"black\",\"opacity\":0.7},\"mode\":\"markers\",\"name\":\"Real Points\",\"showlegend\":false,\"x\":[-1.2,-1.0358974358974358,-0.8717948717948718,-0.7076923076923076,-0.5435897435897435,-0.37948717948717947,-0.21538461538461529,-0.05128205128205132,0.11282051282051286,0.27692307692307705,0.441025641025641,0.6051282051282052,0.7692307692307694,0.9333333333333333,1.0974358974358973,1.2615384615384617,1.4256410256410257,1.5897435897435896,1.753846153846154,1.917948717948718],\"y\":[5.8096,3.8381753317244733,2.522800884051074,1.7092797030916282,1.2608197821340592,1.058034061642376,0.9989404292566787,0.9989617197931566,0.9909257152440888,0.9250651447778439,0.7690176847388803,0.5078259586477458,0.14393753720107805,-0.3027950617283952,-0.7951143730918573,-1.278357984664403,-1.6804585370450331,-1.911943723656666,-1.8659362907461214,-1.418154037384138],\"type\":\"scatter\",\"xaxis\":\"x6\",\"yaxis\":\"y6\"},{\"marker\":{\"color\":\"red\",\"opacity\":0.7},\"mode\":\"markers\",\"name\":\"Observed Points\",\"showlegend\":false,\"x\":[-1.2,-1.0358974358974358,-0.8717948717948718,-0.7076923076923076,-0.5435897435897435,-0.37948717948717947,-0.21538461538461529,-0.05128205128205132,0.11282051282051286,0.27692307692307705,0.441025641025641,0.6051282051282052,0.7692307692307694,0.9333333333333333,1.0974358974358973,1.2615384615384617,1.4256410256410257,1.5897435897435896,1.753846153846154,1.917948717948718],\"y\":[5.3977439877046,3.5531307588538605,2.924061497172077,2.159712794796104,1.1781572396116011,1.2546574647756819,1.1245259033060655,1.1035274288374686,1.972838378191834,0.7649412820688883,-0.0373469186495734,0.44241130734427864,0.010323436448501117,-0.35701265785735226,0.7547183865333127,-1.8643089423271113,-1.11267934903998,-3.410611887130229,0.09205351710158749,-1.0832803119817478],\"type\":\"scatter\",\"xaxis\":\"x6\",\"yaxis\":\"y6\"},{\"marker\":{\"color\":\"blue\",\"opacity\":0.7},\"mode\":\"markers\",\"name\":\"Predicted Points\",\"showlegend\":false,\"x\":[-1.2,-1.0358974358974358,-0.8717948717948718,-0.7076923076923076,-0.5435897435897435,-0.37948717948717947,-0.21538461538461529,-0.05128205128205132,0.11282051282051286,0.27692307692307705,0.441025641025641,0.6051282051282052,0.7692307692307694,0.9333333333333333,1.0974358974358973,1.2615384615384617,1.4256410256410257,1.5897435897435896,1.753846153846154,1.917948717948718],\"y\":[5.39199575670916,3.690641538560516,2.6536520913481363,2.0112271671223754,1.605706310280135,1.347565850140077,1.1837264441643311,1.0765256899913906,0.9917103244448723,0.8938025276828543,0.747194850652469,0.5213282840144511,0.19830798670233113,-0.218688807719029,-0.6978581887308748,-1.1737137524092676,-1.5461750526803733,-1.6854458021176526,-1.4443273041162366,-0.6796125982798111],\"type\":\"scatter\",\"xaxis\":\"x6\",\"yaxis\":\"y6\"}],                        {\"template\":{\"data\":{\"barpolar\":[{\"marker\":{\"line\":{\"color\":\"white\",\"width\":0.5},\"pattern\":{\"fillmode\":\"overlay\",\"size\":10,\"solidity\":0.2}},\"type\":\"barpolar\"}],\"bar\":[{\"error_x\":{\"color\":\"rgb(36,36,36)\"},\"error_y\":{\"color\":\"rgb(36,36,36)\"},\"marker\":{\"line\":{\"color\":\"white\",\"width\":0.5},\"pattern\":{\"fillmode\":\"overlay\",\"size\":10,\"solidity\":0.2}},\"type\":\"bar\"}],\"carpet\":[{\"aaxis\":{\"endlinecolor\":\"rgb(36,36,36)\",\"gridcolor\":\"white\",\"linecolor\":\"white\",\"minorgridcolor\":\"white\",\"startlinecolor\":\"rgb(36,36,36)\"},\"baxis\":{\"endlinecolor\":\"rgb(36,36,36)\",\"gridcolor\":\"white\",\"linecolor\":\"white\",\"minorgridcolor\":\"white\",\"startlinecolor\":\"rgb(36,36,36)\"},\"type\":\"carpet\"}],\"choropleth\":[{\"colorbar\":{\"outlinewidth\":1,\"tickcolor\":\"rgb(36,36,36)\",\"ticks\":\"outside\"},\"type\":\"choropleth\"}],\"contourcarpet\":[{\"colorbar\":{\"outlinewidth\":1,\"tickcolor\":\"rgb(36,36,36)\",\"ticks\":\"outside\"},\"type\":\"contourcarpet\"}],\"contour\":[{\"colorbar\":{\"outlinewidth\":1,\"tickcolor\":\"rgb(36,36,36)\",\"ticks\":\"outside\"},\"colorscale\":[[0.0,\"#440154\"],[0.1111111111111111,\"#482878\"],[0.2222222222222222,\"#3e4989\"],[0.3333333333333333,\"#31688e\"],[0.4444444444444444,\"#26828e\"],[0.5555555555555556,\"#1f9e89\"],[0.6666666666666666,\"#35b779\"],[0.7777777777777778,\"#6ece58\"],[0.8888888888888888,\"#b5de2b\"],[1.0,\"#fde725\"]],\"type\":\"contour\"}],\"heatmapgl\":[{\"colorbar\":{\"outlinewidth\":1,\"tickcolor\":\"rgb(36,36,36)\",\"ticks\":\"outside\"},\"colorscale\":[[0.0,\"#440154\"],[0.1111111111111111,\"#482878\"],[0.2222222222222222,\"#3e4989\"],[0.3333333333333333,\"#31688e\"],[0.4444444444444444,\"#26828e\"],[0.5555555555555556,\"#1f9e89\"],[0.6666666666666666,\"#35b779\"],[0.7777777777777778,\"#6ece58\"],[0.8888888888888888,\"#b5de2b\"],[1.0,\"#fde725\"]],\"type\":\"heatmapgl\"}],\"heatmap\":[{\"colorbar\":{\"outlinewidth\":1,\"tickcolor\":\"rgb(36,36,36)\",\"ticks\":\"outside\"},\"colorscale\":[[0.0,\"#440154\"],[0.1111111111111111,\"#482878\"],[0.2222222222222222,\"#3e4989\"],[0.3333333333333333,\"#31688e\"],[0.4444444444444444,\"#26828e\"],[0.5555555555555556,\"#1f9e89\"],[0.6666666666666666,\"#35b779\"],[0.7777777777777778,\"#6ece58\"],[0.8888888888888888,\"#b5de2b\"],[1.0,\"#fde725\"]],\"type\":\"heatmap\"}],\"histogram2dcontour\":[{\"colorbar\":{\"outlinewidth\":1,\"tickcolor\":\"rgb(36,36,36)\",\"ticks\":\"outside\"},\"colorscale\":[[0.0,\"#440154\"],[0.1111111111111111,\"#482878\"],[0.2222222222222222,\"#3e4989\"],[0.3333333333333333,\"#31688e\"],[0.4444444444444444,\"#26828e\"],[0.5555555555555556,\"#1f9e89\"],[0.6666666666666666,\"#35b779\"],[0.7777777777777778,\"#6ece58\"],[0.8888888888888888,\"#b5de2b\"],[1.0,\"#fde725\"]],\"type\":\"histogram2dcontour\"}],\"histogram2d\":[{\"colorbar\":{\"outlinewidth\":1,\"tickcolor\":\"rgb(36,36,36)\",\"ticks\":\"outside\"},\"colorscale\":[[0.0,\"#440154\"],[0.1111111111111111,\"#482878\"],[0.2222222222222222,\"#3e4989\"],[0.3333333333333333,\"#31688e\"],[0.4444444444444444,\"#26828e\"],[0.5555555555555556,\"#1f9e89\"],[0.6666666666666666,\"#35b779\"],[0.7777777777777778,\"#6ece58\"],[0.8888888888888888,\"#b5de2b\"],[1.0,\"#fde725\"]],\"type\":\"histogram2d\"}],\"histogram\":[{\"marker\":{\"line\":{\"color\":\"white\",\"width\":0.6}},\"type\":\"histogram\"}],\"mesh3d\":[{\"colorbar\":{\"outlinewidth\":1,\"tickcolor\":\"rgb(36,36,36)\",\"ticks\":\"outside\"},\"type\":\"mesh3d\"}],\"parcoords\":[{\"line\":{\"colorbar\":{\"outlinewidth\":1,\"tickcolor\":\"rgb(36,36,36)\",\"ticks\":\"outside\"}},\"type\":\"parcoords\"}],\"pie\":[{\"automargin\":true,\"type\":\"pie\"}],\"scatter3d\":[{\"line\":{\"colorbar\":{\"outlinewidth\":1,\"tickcolor\":\"rgb(36,36,36)\",\"ticks\":\"outside\"}},\"marker\":{\"colorbar\":{\"outlinewidth\":1,\"tickcolor\":\"rgb(36,36,36)\",\"ticks\":\"outside\"}},\"type\":\"scatter3d\"}],\"scattercarpet\":[{\"marker\":{\"colorbar\":{\"outlinewidth\":1,\"tickcolor\":\"rgb(36,36,36)\",\"ticks\":\"outside\"}},\"type\":\"scattercarpet\"}],\"scattergeo\":[{\"marker\":{\"colorbar\":{\"outlinewidth\":1,\"tickcolor\":\"rgb(36,36,36)\",\"ticks\":\"outside\"}},\"type\":\"scattergeo\"}],\"scattergl\":[{\"marker\":{\"colorbar\":{\"outlinewidth\":1,\"tickcolor\":\"rgb(36,36,36)\",\"ticks\":\"outside\"}},\"type\":\"scattergl\"}],\"scattermapbox\":[{\"marker\":{\"colorbar\":{\"outlinewidth\":1,\"tickcolor\":\"rgb(36,36,36)\",\"ticks\":\"outside\"}},\"type\":\"scattermapbox\"}],\"scatterpolargl\":[{\"marker\":{\"colorbar\":{\"outlinewidth\":1,\"tickcolor\":\"rgb(36,36,36)\",\"ticks\":\"outside\"}},\"type\":\"scatterpolargl\"}],\"scatterpolar\":[{\"marker\":{\"colorbar\":{\"outlinewidth\":1,\"tickcolor\":\"rgb(36,36,36)\",\"ticks\":\"outside\"}},\"type\":\"scatterpolar\"}],\"scatter\":[{\"marker\":{\"colorbar\":{\"outlinewidth\":1,\"tickcolor\":\"rgb(36,36,36)\",\"ticks\":\"outside\"}},\"type\":\"scatter\"}],\"scatterternary\":[{\"marker\":{\"colorbar\":{\"outlinewidth\":1,\"tickcolor\":\"rgb(36,36,36)\",\"ticks\":\"outside\"}},\"type\":\"scatterternary\"}],\"surface\":[{\"colorbar\":{\"outlinewidth\":1,\"tickcolor\":\"rgb(36,36,36)\",\"ticks\":\"outside\"},\"colorscale\":[[0.0,\"#440154\"],[0.1111111111111111,\"#482878\"],[0.2222222222222222,\"#3e4989\"],[0.3333333333333333,\"#31688e\"],[0.4444444444444444,\"#26828e\"],[0.5555555555555556,\"#1f9e89\"],[0.6666666666666666,\"#35b779\"],[0.7777777777777778,\"#6ece58\"],[0.8888888888888888,\"#b5de2b\"],[1.0,\"#fde725\"]],\"type\":\"surface\"}],\"table\":[{\"cells\":{\"fill\":{\"color\":\"rgb(237,237,237)\"},\"line\":{\"color\":\"white\"}},\"header\":{\"fill\":{\"color\":\"rgb(217,217,217)\"},\"line\":{\"color\":\"white\"}},\"type\":\"table\"}]},\"layout\":{\"annotationdefaults\":{\"arrowhead\":0,\"arrowwidth\":1},\"autotypenumbers\":\"strict\",\"coloraxis\":{\"colorbar\":{\"outlinewidth\":1,\"tickcolor\":\"rgb(36,36,36)\",\"ticks\":\"outside\"}},\"colorscale\":{\"diverging\":[[0.0,\"rgb(103,0,31)\"],[0.1,\"rgb(178,24,43)\"],[0.2,\"rgb(214,96,77)\"],[0.3,\"rgb(244,165,130)\"],[0.4,\"rgb(253,219,199)\"],[0.5,\"rgb(247,247,247)\"],[0.6,\"rgb(209,229,240)\"],[0.7,\"rgb(146,197,222)\"],[0.8,\"rgb(67,147,195)\"],[0.9,\"rgb(33,102,172)\"],[1.0,\"rgb(5,48,97)\"]],\"sequential\":[[0.0,\"#440154\"],[0.1111111111111111,\"#482878\"],[0.2222222222222222,\"#3e4989\"],[0.3333333333333333,\"#31688e\"],[0.4444444444444444,\"#26828e\"],[0.5555555555555556,\"#1f9e89\"],[0.6666666666666666,\"#35b779\"],[0.7777777777777778,\"#6ece58\"],[0.8888888888888888,\"#b5de2b\"],[1.0,\"#fde725\"]],\"sequentialminus\":[[0.0,\"#440154\"],[0.1111111111111111,\"#482878\"],[0.2222222222222222,\"#3e4989\"],[0.3333333333333333,\"#31688e\"],[0.4444444444444444,\"#26828e\"],[0.5555555555555556,\"#1f9e89\"],[0.6666666666666666,\"#35b779\"],[0.7777777777777778,\"#6ece58\"],[0.8888888888888888,\"#b5de2b\"],[1.0,\"#fde725\"]]},\"colorway\":[\"#1F77B4\",\"#FF7F0E\",\"#2CA02C\",\"#D62728\",\"#9467BD\",\"#8C564B\",\"#E377C2\",\"#7F7F7F\",\"#BCBD22\",\"#17BECF\"],\"font\":{\"color\":\"rgb(36,36,36)\"},\"geo\":{\"bgcolor\":\"white\",\"lakecolor\":\"white\",\"landcolor\":\"white\",\"showlakes\":true,\"showland\":true,\"subunitcolor\":\"white\"},\"hoverlabel\":{\"align\":\"left\"},\"hovermode\":\"closest\",\"mapbox\":{\"style\":\"light\"},\"paper_bgcolor\":\"white\",\"plot_bgcolor\":\"white\",\"polar\":{\"angularaxis\":{\"gridcolor\":\"rgb(232,232,232)\",\"linecolor\":\"rgb(36,36,36)\",\"showgrid\":false,\"showline\":true,\"ticks\":\"outside\"},\"bgcolor\":\"white\",\"radialaxis\":{\"gridcolor\":\"rgb(232,232,232)\",\"linecolor\":\"rgb(36,36,36)\",\"showgrid\":false,\"showline\":true,\"ticks\":\"outside\"}},\"scene\":{\"xaxis\":{\"backgroundcolor\":\"white\",\"gridcolor\":\"rgb(232,232,232)\",\"gridwidth\":2,\"linecolor\":\"rgb(36,36,36)\",\"showbackground\":true,\"showgrid\":false,\"showline\":true,\"ticks\":\"outside\",\"zeroline\":false,\"zerolinecolor\":\"rgb(36,36,36)\"},\"yaxis\":{\"backgroundcolor\":\"white\",\"gridcolor\":\"rgb(232,232,232)\",\"gridwidth\":2,\"linecolor\":\"rgb(36,36,36)\",\"showbackground\":true,\"showgrid\":false,\"showline\":true,\"ticks\":\"outside\",\"zeroline\":false,\"zerolinecolor\":\"rgb(36,36,36)\"},\"zaxis\":{\"backgroundcolor\":\"white\",\"gridcolor\":\"rgb(232,232,232)\",\"gridwidth\":2,\"linecolor\":\"rgb(36,36,36)\",\"showbackground\":true,\"showgrid\":false,\"showline\":true,\"ticks\":\"outside\",\"zeroline\":false,\"zerolinecolor\":\"rgb(36,36,36)\"}},\"shapedefaults\":{\"fillcolor\":\"black\",\"line\":{\"width\":0},\"opacity\":0.3},\"ternary\":{\"aaxis\":{\"gridcolor\":\"rgb(232,232,232)\",\"linecolor\":\"rgb(36,36,36)\",\"showgrid\":false,\"showline\":true,\"ticks\":\"outside\"},\"baxis\":{\"gridcolor\":\"rgb(232,232,232)\",\"linecolor\":\"rgb(36,36,36)\",\"showgrid\":false,\"showline\":true,\"ticks\":\"outside\"},\"bgcolor\":\"white\",\"caxis\":{\"gridcolor\":\"rgb(232,232,232)\",\"linecolor\":\"rgb(36,36,36)\",\"showgrid\":false,\"showline\":true,\"ticks\":\"outside\"}},\"title\":{\"x\":0.05},\"xaxis\":{\"automargin\":true,\"gridcolor\":\"rgb(232,232,232)\",\"linecolor\":\"rgb(36,36,36)\",\"showgrid\":false,\"showline\":true,\"ticks\":\"outside\",\"title\":{\"standoff\":15},\"zeroline\":false,\"zerolinecolor\":\"rgb(36,36,36)\"},\"yaxis\":{\"automargin\":true,\"gridcolor\":\"rgb(232,232,232)\",\"linecolor\":\"rgb(36,36,36)\",\"showgrid\":false,\"showline\":true,\"ticks\":\"outside\",\"title\":{\"standoff\":15},\"zeroline\":false,\"zerolinecolor\":\"rgb(36,36,36)\"},\"margin\":{\"b\":0,\"l\":20,\"r\":20,\"t\":40}}},\"xaxis\":{\"anchor\":\"y\",\"domain\":[0.0,0.2888888888888889]},\"yaxis\":{\"anchor\":\"x\",\"domain\":[0.625,1.0]},\"xaxis2\":{\"anchor\":\"y2\",\"domain\":[0.35555555555555557,0.6444444444444445]},\"yaxis2\":{\"anchor\":\"x2\",\"domain\":[0.625,1.0]},\"xaxis3\":{\"anchor\":\"y3\",\"domain\":[0.7111111111111111,1.0]},\"yaxis3\":{\"anchor\":\"x3\",\"domain\":[0.625,1.0]},\"xaxis4\":{\"anchor\":\"y4\",\"domain\":[0.0,0.2888888888888889]},\"yaxis4\":{\"anchor\":\"x4\",\"domain\":[0.0,0.375]},\"xaxis5\":{\"anchor\":\"y5\",\"domain\":[0.35555555555555557,0.6444444444444445]},\"yaxis5\":{\"anchor\":\"x5\",\"domain\":[0.0,0.375]},\"xaxis6\":{\"anchor\":\"y6\",\"domain\":[0.7111111111111111,1.0]},\"yaxis6\":{\"anchor\":\"x6\",\"domain\":[0.0,0.375]},\"annotations\":[{\"font\":{\"size\":16},\"showarrow\":false,\"text\":\"$k=2, MSE=0.78$\",\"x\":0.14444444444444446,\"xanchor\":\"center\",\"xref\":\"paper\",\"y\":1.0,\"yanchor\":\"bottom\",\"yref\":\"paper\"},{\"font\":{\"size\":16},\"showarrow\":false,\"text\":\"$k=3, MSE=0.74$\",\"x\":0.5,\"xanchor\":\"center\",\"xref\":\"paper\",\"y\":1.0,\"yanchor\":\"bottom\",\"yref\":\"paper\"},{\"font\":{\"size\":16},\"showarrow\":false,\"text\":\"$k=4, MSE=0.52$\",\"x\":0.8555555555555556,\"xanchor\":\"center\",\"xref\":\"paper\",\"y\":1.0,\"yanchor\":\"bottom\",\"yref\":\"paper\"},{\"font\":{\"size\":16},\"showarrow\":false,\"text\":\"$k=5, MSE=0.51$\",\"x\":0.14444444444444446,\"xanchor\":\"center\",\"xref\":\"paper\",\"y\":0.375,\"yanchor\":\"bottom\",\"yref\":\"paper\"},{\"font\":{\"size\":16},\"showarrow\":false,\"text\":\"$k=6, MSE=0.51$\",\"x\":0.5,\"xanchor\":\"center\",\"xref\":\"paper\",\"y\":0.375,\"yanchor\":\"bottom\",\"yref\":\"paper\"},{\"font\":{\"size\":16},\"showarrow\":false,\"text\":\"$k=7, MSE=0.51$\",\"x\":0.8555555555555556,\"xanchor\":\"center\",\"xref\":\"paper\",\"y\":0.375,\"yanchor\":\"bottom\",\"yref\":\"paper\"}],\"margin\":{\"t\":80},\"title\":{\"text\":\"$\\\\text{(4) Simulated Data With Noise - Fitting Polynomials of Different Degrees}$\"}},                        {\"responsive\": true}                    ).then(function(){\n                            \nvar gd = document.getElementById('1c1f2bf0-4612-42f7-84cc-ba2a2ecd7113');\nvar x = new MutationObserver(function (mutations, observer) {{\n        var display = window.getComputedStyle(gd).display;\n        if (!display || display === 'none') {{\n            console.log([gd, 'removed!']);\n            Plotly.purge(gd);\n            observer.disconnect();\n        }}\n}});\n\n// Listen for the removal of the full notebook cells\nvar notebookContainer = gd.closest('#notebook-container');\nif (notebookContainer) {{\n    x.observe(notebookContainer, {childList: true});\n}}\n\n// Listen for the clearing of the current output cell\nvar outputEl = gd.closest('.output');\nif (outputEl) {{\n    x.observe(outputEl, {childList: true});\n}}\n\n                        })                };                });            </script>        </div>"
     },
     "metadata": {},
     "output_type": "display_data"
    }
   ],
   "source": [
    "y = y_ + np.random.normal(size=len(y_))\n",
    "\n",
    "ks = range(2, 8)\n",
    "fig = make_subplots(2, 3, subplot_titles=list(ks))\n",
    "for i, k in enumerate(ks):\n",
    "    r,c = i//3+1, i%3+1 \n",
    "    \n",
    "    y_hat = make_pipeline(PolynomialFeatures(k), LinearRegression(fit_intercept=False)).fit(X, y).predict(X)\n",
    "    fig.add_traces([go.Scatter(x=x, y=y_, mode=\"markers\", name=\"Real Points\",  marker=dict(color=\"black\", opacity=.7), showlegend=False),\n",
    "                    go.Scatter(x=x, y=y, mode=\"markers\", name=\"Observed Points\",  marker=dict(color=\"red\", opacity=.7), showlegend=False), \n",
    "                    go.Scatter(x=x, y=y_hat, mode=\"markers\", name=\"Predicted Points\",  marker=dict(color=\"blue\", opacity=.7), showlegend=False)], rows=r, cols=c)\n",
    "    fig[\"layout\"][\"annotations\"][i][\"text\"] = rf\"$k={{0}}, MSE={{1}}$\".format(k, round(np.mean((y-y_hat)**2), 2))\n",
    "\n",
    "fig.update_layout(title=r\"$\\text{(4) Simulated Data With Noise - Fitting Polynomials of Different Degrees}$\", margin=dict(t=80)).show()"
   ]
  },
  {
   "cell_type": "markdown",
   "metadata": {
    "pycharm": {
     "name": "#%% md\n"
    }
   },
   "source": [
    "How is it that we are able to fit \"better\" models for $k$s larger than the true one? As we increase $k$ we enable the model\n",
    "more \"degrees of freedom\" to try and adapt itself to the observed data. The higher $k$ the more the learner will \"go after\n",
    "the noise\" and miss the real signal of the data. In other words, what we have just observed is what is known as **overfitting**.\n",
    "\n",
    "Later in the course we will learn methods for detection and avoidance of overfitting.\n",
    "\n",
    "\n",
    "## Fitting Polynomial Over Different Sample Noise Levels\n",
    "\n",
    "Next, let us set $k=4$ (the true values) and study the outputted models when training over different noise levels. Though\n",
    "we will only be changing the scale of the noise (i.e. the variance, $\\sigma^2$), changing other properties such as its\n",
    "distribution is interesting too. As we would expect, as we increase the scale of the noise our error increases. We can\n",
    "observe this also in a visual manner, where the fitted polynomial (in blue) less and less resembles the actual model (in black)."
   ]
  },
  {
   "cell_type": "code",
   "execution_count": 19,
   "metadata": {
    "pycharm": {
     "name": "#%%\n"
    }
   },
   "outputs": [
    {
     "data": {
      "application/vnd.plotly.v1+json": {
       "data": [
        {
         "marker": {
          "color": "black",
          "opacity": 0.7
         },
         "mode": "markers",
         "name": "Real Points",
         "showlegend": false,
         "x": [
          -1.2,
          -1.0358974358974358,
          -0.8717948717948718,
          -0.7076923076923076,
          -0.5435897435897435,
          -0.37948717948717947,
          -0.21538461538461529,
          -0.05128205128205132,
          0.11282051282051286,
          0.27692307692307705,
          0.441025641025641,
          0.6051282051282052,
          0.7692307692307694,
          0.9333333333333333,
          1.0974358974358973,
          1.2615384615384617,
          1.4256410256410257,
          1.5897435897435896,
          1.753846153846154,
          1.917948717948718
         ],
         "y": [
          5.8096,
          3.8381753317244733,
          2.522800884051074,
          1.7092797030916282,
          1.2608197821340592,
          1.058034061642376,
          0.9989404292566787,
          0.9989617197931566,
          0.9909257152440888,
          0.9250651447778439,
          0.7690176847388803,
          0.5078259586477458,
          0.14393753720107805,
          -0.3027950617283952,
          -0.7951143730918573,
          -1.278357984664403,
          -1.6804585370450331,
          -1.911943723656666,
          -1.8659362907461214,
          -1.418154037384138
         ],
         "type": "scatter",
         "xaxis": "x",
         "yaxis": "y"
        },
        {
         "marker": {
          "color": "red",
          "opacity": 0.7
         },
         "mode": "markers",
         "name": "Observed Points",
         "showlegend": false,
         "x": [
          -1.2,
          -1.0358974358974358,
          -0.8717948717948718,
          -0.7076923076923076,
          -0.5435897435897435,
          -0.37948717948717947,
          -0.21538461538461529,
          -0.05128205128205132,
          0.11282051282051286,
          0.27692307692307705,
          0.441025641025641,
          0.6051282051282052,
          0.7692307692307694,
          0.9333333333333333,
          1.0974358974358973,
          1.2615384615384617,
          1.4256410256410257,
          1.5897435897435896,
          1.753846153846154,
          1.917948717948718
         ],
         "y": [
          5.8096,
          3.8381753317244733,
          2.522800884051074,
          1.7092797030916282,
          1.2608197821340592,
          1.058034061642376,
          0.9989404292566787,
          0.9989617197931566,
          0.9909257152440888,
          0.9250651447778439,
          0.7690176847388803,
          0.5078259586477458,
          0.14393753720107805,
          -0.3027950617283952,
          -0.7951143730918573,
          -1.278357984664403,
          -1.6804585370450331,
          -1.911943723656666,
          -1.8659362907461214,
          -1.418154037384138
         ],
         "type": "scatter",
         "xaxis": "x",
         "yaxis": "y"
        },
        {
         "marker": {
          "color": "blue",
          "opacity": 0.7
         },
         "mode": "markers",
         "name": "Predicted Points",
         "showlegend": false,
         "x": [
          -1.2,
          -1.0358974358974358,
          -0.8717948717948718,
          -0.7076923076923076,
          -0.5435897435897435,
          -0.37948717948717947,
          -0.21538461538461529,
          -0.05128205128205132,
          0.11282051282051286,
          0.27692307692307705,
          0.441025641025641,
          0.6051282051282052,
          0.7692307692307694,
          0.9333333333333333,
          1.0974358974358973,
          1.2615384615384617,
          1.4256410256410257,
          1.5897435897435896,
          1.753846153846154,
          1.917948717948718
         ],
         "y": [
          5.809600000000005,
          3.838175331724477,
          2.5228008840510765,
          1.7092797030916298,
          1.26081978213406,
          1.0580340616423765,
          0.9989404292566788,
          0.9989617197931565,
          0.9909257152440889,
          0.9250651447778441,
          0.7690176847388805,
          0.507825958647746,
          0.1439375372010787,
          -0.3027950617283941,
          -0.7951143730918564,
          -1.2783579846644013,
          -1.6804585370450322,
          -1.9119437236566643,
          -1.86593629074612,
          -1.4181540373841361
         ],
         "type": "scatter",
         "xaxis": "x",
         "yaxis": "y"
        },
        {
         "marker": {
          "color": "black",
          "opacity": 0.7
         },
         "mode": "markers",
         "name": "Real Points",
         "showlegend": false,
         "x": [
          -1.2,
          -1.0358974358974358,
          -0.8717948717948718,
          -0.7076923076923076,
          -0.5435897435897435,
          -0.37948717948717947,
          -0.21538461538461529,
          -0.05128205128205132,
          0.11282051282051286,
          0.27692307692307705,
          0.441025641025641,
          0.6051282051282052,
          0.7692307692307694,
          0.9333333333333333,
          1.0974358974358973,
          1.2615384615384617,
          1.4256410256410257,
          1.5897435897435896,
          1.753846153846154,
          1.917948717948718
         ],
         "y": [
          5.8096,
          3.8381753317244733,
          2.522800884051074,
          1.7092797030916282,
          1.2608197821340592,
          1.058034061642376,
          0.9989404292566787,
          0.9989617197931566,
          0.9909257152440888,
          0.9250651447778439,
          0.7690176847388803,
          0.5078259586477458,
          0.14393753720107805,
          -0.3027950617283952,
          -0.7951143730918573,
          -1.278357984664403,
          -1.6804585370450331,
          -1.911943723656666,
          -1.8659362907461214,
          -1.418154037384138
         ],
         "type": "scatter",
         "xaxis": "x2",
         "yaxis": "y2"
        },
        {
         "marker": {
          "color": "red",
          "opacity": 0.7
         },
         "mode": "markers",
         "name": "Observed Points",
         "showlegend": false,
         "x": [
          -1.2,
          -1.0358974358974358,
          -0.8717948717948718,
          -0.7076923076923076,
          -0.5435897435897435,
          -0.37948717948717947,
          -0.21538461538461529,
          -0.05128205128205132,
          0.11282051282051286,
          0.27692307692307705,
          0.441025641025641,
          0.6051282051282052,
          0.7692307692307694,
          0.9333333333333333,
          1.0974358974358973,
          1.2615384615384617,
          1.4256410256410257,
          1.5897435897435896,
          1.753846153846154,
          1.917948717948718
         ],
         "y": [
          4.696327863627448,
          5.321621645042361,
          2.572675765537188,
          2.581457728140927,
          2.0368739635435142,
          0.8742455296284111,
          1.1897147670821264,
          0.2143648386676733,
          2.381560998591917,
          -0.2700729174352118,
          1.2953504015095145,
          0.585501346605095,
          0.18575623252762974,
          -1.8733671987155749,
          -1.0090918694240525,
          -0.2017408005469099,
          -1.0690173838908437,
          -3.0707797140596407,
          -0.7050831369991268,
          -1.5833939813336608
         ],
         "type": "scatter",
         "xaxis": "x2",
         "yaxis": "y2"
        },
        {
         "marker": {
          "color": "blue",
          "opacity": 0.7
         },
         "mode": "markers",
         "name": "Predicted Points",
         "showlegend": false,
         "x": [
          -1.2,
          -1.0358974358974358,
          -0.8717948717948718,
          -0.7076923076923076,
          -0.5435897435897435,
          -0.37948717948717947,
          -0.21538461538461529,
          -0.05128205128205132,
          0.11282051282051286,
          0.27692307692307705,
          0.441025641025641,
          0.6051282051282052,
          0.7692307692307694,
          0.9333333333333333,
          1.0974358974358973,
          1.2615384615384617,
          1.4256410256410257,
          1.5897435897435896,
          1.753846153846154,
          1.917948717948718
         ],
         "y": [
          5.391434991045815,
          4.033875823025539,
          3.048421275466334,
          2.351075180573999,
          1.8673242531535568,
          1.5321380906092488,
          1.2899691729445373,
          1.0947528627621035,
          0.9099074052638492,
          0.7083339282508959,
          0.4724164421235854,
          0.19402183988147834,
          -0.12550010287664376,
          -0.475316727952779,
          -0.835112494549707,
          -1.1750889792709873,
          -1.4559648761209574,
          -1.6289759965047375,
          -1.6358752692282268,
          -1.4089327404981038
         ],
         "type": "scatter",
         "xaxis": "x2",
         "yaxis": "y2"
        },
        {
         "marker": {
          "color": "black",
          "opacity": 0.7
         },
         "mode": "markers",
         "name": "Real Points",
         "showlegend": false,
         "x": [
          -1.2,
          -1.0358974358974358,
          -0.8717948717948718,
          -0.7076923076923076,
          -0.5435897435897435,
          -0.37948717948717947,
          -0.21538461538461529,
          -0.05128205128205132,
          0.11282051282051286,
          0.27692307692307705,
          0.441025641025641,
          0.6051282051282052,
          0.7692307692307694,
          0.9333333333333333,
          1.0974358974358973,
          1.2615384615384617,
          1.4256410256410257,
          1.5897435897435896,
          1.753846153846154,
          1.917948717948718
         ],
         "y": [
          5.8096,
          3.8381753317244733,
          2.522800884051074,
          1.7092797030916282,
          1.2608197821340592,
          1.058034061642376,
          0.9989404292566787,
          0.9989617197931566,
          0.9909257152440888,
          0.9250651447778439,
          0.7690176847388803,
          0.5078259586477458,
          0.14393753720107805,
          -0.3027950617283952,
          -0.7951143730918573,
          -1.278357984664403,
          -1.6804585370450331,
          -1.911943723656666,
          -1.8659362907461214,
          -1.418154037384138
         ],
         "type": "scatter",
         "xaxis": "x3",
         "yaxis": "y3"
        },
        {
         "marker": {
          "color": "red",
          "opacity": 0.7
         },
         "mode": "markers",
         "name": "Observed Points",
         "showlegend": false,
         "x": [
          -1.2,
          -1.0358974358974358,
          -0.8717948717948718,
          -0.7076923076923076,
          -0.5435897435897435,
          -0.37948717948717947,
          -0.21538461538461529,
          -0.05128205128205132,
          0.11282051282051286,
          0.27692307692307705,
          0.441025641025641,
          0.6051282051282052,
          0.7692307692307694,
          0.9333333333333333,
          1.0974358974358973,
          1.2615384615384617,
          1.4256410256410257,
          1.5897435897435896,
          1.753846153846154,
          1.917948717948718
         ],
         "y": [
          5.658149813314279,
          2.1568858566179534,
          1.570814276304996,
          -1.2689454369170667,
          2.8511621276094714,
          3.541263761708743,
          2.7313800424091275,
          -1.071112411142582,
          2.090277543237004,
          -0.42746772102236485,
          4.007316201439928,
          1.8738426273355946,
          -1.0358697704439948,
          1.0377292344001965,
          0.9310866418463049,
          -2.0741017564364963,
          -3.4879965315402655,
          0.6652155072513235,
          1.9366027105971462E-4,
          -1.8023784342160507
         ],
         "type": "scatter",
         "xaxis": "x3",
         "yaxis": "y3"
        },
        {
         "marker": {
          "color": "blue",
          "opacity": 0.7
         },
         "mode": "markers",
         "name": "Predicted Points",
         "showlegend": false,
         "x": [
          -1.2,
          -1.0358974358974358,
          -0.8717948717948718,
          -0.7076923076923076,
          -0.5435897435897435,
          -0.37948717948717947,
          -0.21538461538461529,
          -0.05128205128205132,
          0.11282051282051286,
          0.27692307692307705,
          0.441025641025641,
          0.6051282051282052,
          0.7692307692307694,
          0.9333333333333333,
          1.0974358974358973,
          1.2615384615384617,
          1.4256410256410257,
          1.5897435897435896,
          1.753846153846154,
          1.917948717948718
         ],
         "y": [
          4.705276476835529,
          2.93859469999588,
          1.8795173565838321,
          1.34619875935819,
          1.1783286154192876,
          1.2371320262089782,
          1.4053694875106368,
          1.5873368894491608,
          1.7088655164909694,
          1.7173220474440032,
          1.5816085554577246,
          1.292162508023118,
          0.8609567669726892,
          0.32149958848046767,
          -0.271165376937998,
          -0.8404590844256363,
          -1.2882670947838548,
          -1.4949395744725358,
          -1.3192912956100429,
          -0.5986016359732211
         ],
         "type": "scatter",
         "xaxis": "x3",
         "yaxis": "y3"
        },
        {
         "marker": {
          "color": "black",
          "opacity": 0.7
         },
         "mode": "markers",
         "name": "Real Points",
         "showlegend": false,
         "x": [
          -1.2,
          -1.0358974358974358,
          -0.8717948717948718,
          -0.7076923076923076,
          -0.5435897435897435,
          -0.37948717948717947,
          -0.21538461538461529,
          -0.05128205128205132,
          0.11282051282051286,
          0.27692307692307705,
          0.441025641025641,
          0.6051282051282052,
          0.7692307692307694,
          0.9333333333333333,
          1.0974358974358973,
          1.2615384615384617,
          1.4256410256410257,
          1.5897435897435896,
          1.753846153846154,
          1.917948717948718
         ],
         "y": [
          5.8096,
          3.8381753317244733,
          2.522800884051074,
          1.7092797030916282,
          1.2608197821340592,
          1.058034061642376,
          0.9989404292566787,
          0.9989617197931566,
          0.9909257152440888,
          0.9250651447778439,
          0.7690176847388803,
          0.5078259586477458,
          0.14393753720107805,
          -0.3027950617283952,
          -0.7951143730918573,
          -1.278357984664403,
          -1.6804585370450331,
          -1.911943723656666,
          -1.8659362907461214,
          -1.418154037384138
         ],
         "type": "scatter",
         "xaxis": "x4",
         "yaxis": "y4"
        },
        {
         "marker": {
          "color": "red",
          "opacity": 0.7
         },
         "mode": "markers",
         "name": "Observed Points",
         "showlegend": false,
         "x": [
          -1.2,
          -1.0358974358974358,
          -0.8717948717948718,
          -0.7076923076923076,
          -0.5435897435897435,
          -0.37948717948717947,
          -0.21538461538461529,
          -0.05128205128205132,
          0.11282051282051286,
          0.27692307692307705,
          0.441025641025641,
          0.6051282051282052,
          0.7692307692307694,
          0.9333333333333333,
          1.0974358974358973,
          1.2615384615384617,
          1.4256410256410257,
          1.5897435897435896,
          1.753846153846154,
          1.917948717948718
         ],
         "y": [
          7.827588702086805,
          6.68039553046023,
          3.926054803965953,
          -1.0143475487483984,
          -0.9707783534025485,
          -6.463249304073193,
          -3.803192712852973,
          -2.0585329934822227,
          3.255106384821454,
          -6.122523528026638,
          3.9181824494957116,
          0.27840453196064296,
          4.867236882829104,
          1.2700642840184833,
          -5.118743034952301,
          -3.5220645536864494,
          -5.726130146354726,
          3.8891227793483187,
          2.448852697377189,
          -3.721650665944061
         ],
         "type": "scatter",
         "xaxis": "x4",
         "yaxis": "y4"
        },
        {
         "marker": {
          "color": "blue",
          "opacity": 0.7
         },
         "mode": "markers",
         "name": "Predicted Points",
         "showlegend": false,
         "x": [
          -1.2,
          -1.0358974358974358,
          -0.8717948717948718,
          -0.7076923076923076,
          -0.5435897435897435,
          -0.37948717948717947,
          -0.21538461538461529,
          -0.05128205128205132,
          0.11282051282051286,
          0.27692307692307705,
          0.441025641025641,
          0.6051282051282052,
          0.7692307692307694,
          0.9333333333333333,
          1.0974358974358973,
          1.2615384615384617,
          1.4256410256410257,
          1.5897435897435896,
          1.753846153846154,
          1.917948717948718
         ],
         "y": [
          9.973426200458702,
          4.791377286136756,
          1.309859288785849,
          -0.8234652851265887,
          -1.9252379489515312,
          -2.2764042358583927,
          -2.1222136988350115,
          -1.6722199106876547,
          -1.1002804640410182,
          -0.544556971338227,
          -0.10751506484083484,
          0.14407560337117853,
          0.17914136139940218,
          0.0023045175269973406,
          -0.34611663978130025,
          -0.7901078418791911,
          -1.2179588399387935,
          -1.4822634049506647,
          -1.3999193277237794,
          -0.7521284188855475
         ],
         "type": "scatter",
         "xaxis": "x4",
         "yaxis": "y4"
        },
        {
         "marker": {
          "color": "black",
          "opacity": 0.7
         },
         "mode": "markers",
         "name": "Real Points",
         "showlegend": false,
         "x": [
          -1.2,
          -1.0358974358974358,
          -0.8717948717948718,
          -0.7076923076923076,
          -0.5435897435897435,
          -0.37948717948717947,
          -0.21538461538461529,
          -0.05128205128205132,
          0.11282051282051286,
          0.27692307692307705,
          0.441025641025641,
          0.6051282051282052,
          0.7692307692307694,
          0.9333333333333333,
          1.0974358974358973,
          1.2615384615384617,
          1.4256410256410257,
          1.5897435897435896,
          1.753846153846154,
          1.917948717948718
         ],
         "y": [
          5.8096,
          3.8381753317244733,
          2.522800884051074,
          1.7092797030916282,
          1.2608197821340592,
          1.058034061642376,
          0.9989404292566787,
          0.9989617197931566,
          0.9909257152440888,
          0.9250651447778439,
          0.7690176847388803,
          0.5078259586477458,
          0.14393753720107805,
          -0.3027950617283952,
          -0.7951143730918573,
          -1.278357984664403,
          -1.6804585370450331,
          -1.911943723656666,
          -1.8659362907461214,
          -1.418154037384138
         ],
         "type": "scatter",
         "xaxis": "x5",
         "yaxis": "y5"
        },
        {
         "marker": {
          "color": "red",
          "opacity": 0.7
         },
         "mode": "markers",
         "name": "Observed Points",
         "showlegend": false,
         "x": [
          -1.2,
          -1.0358974358974358,
          -0.8717948717948718,
          -0.7076923076923076,
          -0.5435897435897435,
          -0.37948717948717947,
          -0.21538461538461529,
          -0.05128205128205132,
          0.11282051282051286,
          0.27692307692307705,
          0.441025641025641,
          0.6051282051282052,
          0.7692307692307694,
          0.9333333333333333,
          1.0974358974358973,
          1.2615384615384617,
          1.4256410256410257,
          1.5897435897435896,
          1.753846153846154,
          1.917948717948718
         ],
         "y": [
          10.158187190650185,
          -4.67125609257794,
          5.4508353549455375,
          0.48258055009159695,
          0.6168368926174318,
          2.420387119684709,
          3.896444679468021,
          -3.3270006777762187,
          -0.8387328681232972,
          -4.708041223799404,
          -3.6753636752677927,
          -2.7351942063363284,
          -7.357894556729137,
          0.7474948526885576,
          2.2352282095940064,
          2.988073934482581,
          -1.6609965148593622,
          2.7651698679910908,
          -0.5182943310782897,
          -1.7855976641707059
         ],
         "type": "scatter",
         "xaxis": "x5",
         "yaxis": "y5"
        },
        {
         "marker": {
          "color": "blue",
          "opacity": 0.7
         },
         "mode": "markers",
         "name": "Predicted Points",
         "showlegend": false,
         "x": [
          -1.2,
          -1.0358974358974358,
          -0.8717948717948718,
          -0.7076923076923076,
          -0.5435897435897435,
          -0.37948717948717947,
          -0.21538461538461529,
          -0.05128205128205132,
          0.11282051282051286,
          0.27692307692307705,
          0.441025641025641,
          0.6051282051282052,
          0.7692307692307694,
          0.9333333333333333,
          1.0974358974358973,
          1.2615384615384617,
          1.4256410256410257,
          1.5897435897435896,
          1.753846153846154,
          1.917948717948718
         ],
         "y": [
          4.6690235286560045,
          4.26763263845757,
          3.4179744854178327,
          2.3071033971619386,
          1.0955072105837005,
          -0.08289272815441318,
          -1.1207415636212714,
          -1.9372509311170807,
          -2.4781989566733893,
          -2.7159302570530826,
          -2.649355939750384,
          -2.3039536029908585,
          -1.731767335731409,
          -1.011407717660278,
          -0.24805181919704467,
          0.42655679850737016,
          0.854108083570706,
          0.8497254933793705,
          0.2019659945884129,
          -1.3271799368784194
         ],
         "type": "scatter",
         "xaxis": "x5",
         "yaxis": "y5"
        },
        {
         "marker": {
          "color": "black",
          "opacity": 0.7
         },
         "mode": "markers",
         "name": "Real Points",
         "showlegend": false,
         "x": [
          -1.2,
          -1.0358974358974358,
          -0.8717948717948718,
          -0.7076923076923076,
          -0.5435897435897435,
          -0.37948717948717947,
          -0.21538461538461529,
          -0.05128205128205132,
          0.11282051282051286,
          0.27692307692307705,
          0.441025641025641,
          0.6051282051282052,
          0.7692307692307694,
          0.9333333333333333,
          1.0974358974358973,
          1.2615384615384617,
          1.4256410256410257,
          1.5897435897435896,
          1.753846153846154,
          1.917948717948718
         ],
         "y": [
          5.8096,
          3.8381753317244733,
          2.522800884051074,
          1.7092797030916282,
          1.2608197821340592,
          1.058034061642376,
          0.9989404292566787,
          0.9989617197931566,
          0.9909257152440888,
          0.9250651447778439,
          0.7690176847388803,
          0.5078259586477458,
          0.14393753720107805,
          -0.3027950617283952,
          -0.7951143730918573,
          -1.278357984664403,
          -1.6804585370450331,
          -1.911943723656666,
          -1.8659362907461214,
          -1.418154037384138
         ],
         "type": "scatter",
         "xaxis": "x6",
         "yaxis": "y6"
        },
        {
         "marker": {
          "color": "red",
          "opacity": 0.7
         },
         "mode": "markers",
         "name": "Observed Points",
         "showlegend": false,
         "x": [
          -1.2,
          -1.0358974358974358,
          -0.8717948717948718,
          -0.7076923076923076,
          -0.5435897435897435,
          -0.37948717948717947,
          -0.21538461538461529,
          -0.05128205128205132,
          0.11282051282051286,
          0.27692307692307705,
          0.441025641025641,
          0.6051282051282052,
          0.7692307692307694,
          0.9333333333333333,
          1.0974358974358973,
          1.2615384615384617,
          1.4256410256410257,
          1.5897435897435896,
          1.753846153846154,
          1.917948717948718
         ],
         "y": [
          9.628251383165443,
          11.169882828192485,
          5.922341996437499,
          -9.762206075316826,
          -1.0422147481962674,
          5.214807896899567,
          3.7679437491348335,
          0.15309340551058537,
          -0.19779012123881257,
          -2.5210279022785187,
          1.7136531814425697,
          -5.596781451466597,
          -4.5465140034240825,
          -1.3021213855597493,
          -3.5019466814095224,
          2.7720191726560417,
          4.828473750499147,
          0.8310024420730606,
          -1.2722316609180457,
          2.263904670500666
         ],
         "type": "scatter",
         "xaxis": "x6",
         "yaxis": "y6"
        },
        {
         "marker": {
          "color": "blue",
          "opacity": 0.7
         },
         "mode": "markers",
         "name": "Predicted Points",
         "showlegend": false,
         "x": [
          -1.2,
          -1.0358974358974358,
          -0.8717948717948718,
          -0.7076923076923076,
          -0.5435897435897435,
          -0.37948717948717947,
          -0.21538461538461529,
          -0.05128205128205132,
          0.11282051282051286,
          0.27692307692307705,
          0.441025641025641,
          0.6051282051282052,
          0.7692307692307694,
          0.9333333333333333,
          1.0974358974358973,
          1.2615384615384617,
          1.4256410256410257,
          1.5897435897435896,
          1.753846153846154,
          1.917948717948718
         ],
         "y": [
          10.280722686414904,
          6.796593146606329,
          4.14953220699625,
          2.195101798974365,
          0.8030819226528187,
          -0.14252935313381587,
          -0.7435158908285292,
          -1.0874434841518754,
          -1.2476598581019753,
          -1.2832946689545126,
          -1.2392595042627372,
          -1.1462478828574643,
          -1.0207352548470723,
          -0.8649790016175058,
          -0.6670184358322742,
          -0.40067480143245005,
          -0.0255512736366732,
          0.5129670410588516,
          1.28371310488036,
          2.369737948776514
         ],
         "type": "scatter",
         "xaxis": "x6",
         "yaxis": "y6"
        }
       ],
       "layout": {
        "template": {
         "data": {
          "barpolar": [
           {
            "marker": {
             "line": {
              "color": "white",
              "width": 0.5
             },
             "pattern": {
              "fillmode": "overlay",
              "size": 10,
              "solidity": 0.2
             }
            },
            "type": "barpolar"
           }
          ],
          "bar": [
           {
            "error_x": {
             "color": "rgb(36,36,36)"
            },
            "error_y": {
             "color": "rgb(36,36,36)"
            },
            "marker": {
             "line": {
              "color": "white",
              "width": 0.5
             },
             "pattern": {
              "fillmode": "overlay",
              "size": 10,
              "solidity": 0.2
             }
            },
            "type": "bar"
           }
          ],
          "carpet": [
           {
            "aaxis": {
             "endlinecolor": "rgb(36,36,36)",
             "gridcolor": "white",
             "linecolor": "white",
             "minorgridcolor": "white",
             "startlinecolor": "rgb(36,36,36)"
            },
            "baxis": {
             "endlinecolor": "rgb(36,36,36)",
             "gridcolor": "white",
             "linecolor": "white",
             "minorgridcolor": "white",
             "startlinecolor": "rgb(36,36,36)"
            },
            "type": "carpet"
           }
          ],
          "choropleth": [
           {
            "colorbar": {
             "outlinewidth": 1,
             "tickcolor": "rgb(36,36,36)",
             "ticks": "outside"
            },
            "type": "choropleth"
           }
          ],
          "contourcarpet": [
           {
            "colorbar": {
             "outlinewidth": 1,
             "tickcolor": "rgb(36,36,36)",
             "ticks": "outside"
            },
            "type": "contourcarpet"
           }
          ],
          "contour": [
           {
            "colorbar": {
             "outlinewidth": 1,
             "tickcolor": "rgb(36,36,36)",
             "ticks": "outside"
            },
            "colorscale": [
             [
              0.0,
              "#440154"
             ],
             [
              0.1111111111111111,
              "#482878"
             ],
             [
              0.2222222222222222,
              "#3e4989"
             ],
             [
              0.3333333333333333,
              "#31688e"
             ],
             [
              0.4444444444444444,
              "#26828e"
             ],
             [
              0.5555555555555556,
              "#1f9e89"
             ],
             [
              0.6666666666666666,
              "#35b779"
             ],
             [
              0.7777777777777778,
              "#6ece58"
             ],
             [
              0.8888888888888888,
              "#b5de2b"
             ],
             [
              1.0,
              "#fde725"
             ]
            ],
            "type": "contour"
           }
          ],
          "heatmapgl": [
           {
            "colorbar": {
             "outlinewidth": 1,
             "tickcolor": "rgb(36,36,36)",
             "ticks": "outside"
            },
            "colorscale": [
             [
              0.0,
              "#440154"
             ],
             [
              0.1111111111111111,
              "#482878"
             ],
             [
              0.2222222222222222,
              "#3e4989"
             ],
             [
              0.3333333333333333,
              "#31688e"
             ],
             [
              0.4444444444444444,
              "#26828e"
             ],
             [
              0.5555555555555556,
              "#1f9e89"
             ],
             [
              0.6666666666666666,
              "#35b779"
             ],
             [
              0.7777777777777778,
              "#6ece58"
             ],
             [
              0.8888888888888888,
              "#b5de2b"
             ],
             [
              1.0,
              "#fde725"
             ]
            ],
            "type": "heatmapgl"
           }
          ],
          "heatmap": [
           {
            "colorbar": {
             "outlinewidth": 1,
             "tickcolor": "rgb(36,36,36)",
             "ticks": "outside"
            },
            "colorscale": [
             [
              0.0,
              "#440154"
             ],
             [
              0.1111111111111111,
              "#482878"
             ],
             [
              0.2222222222222222,
              "#3e4989"
             ],
             [
              0.3333333333333333,
              "#31688e"
             ],
             [
              0.4444444444444444,
              "#26828e"
             ],
             [
              0.5555555555555556,
              "#1f9e89"
             ],
             [
              0.6666666666666666,
              "#35b779"
             ],
             [
              0.7777777777777778,
              "#6ece58"
             ],
             [
              0.8888888888888888,
              "#b5de2b"
             ],
             [
              1.0,
              "#fde725"
             ]
            ],
            "type": "heatmap"
           }
          ],
          "histogram2dcontour": [
           {
            "colorbar": {
             "outlinewidth": 1,
             "tickcolor": "rgb(36,36,36)",
             "ticks": "outside"
            },
            "colorscale": [
             [
              0.0,
              "#440154"
             ],
             [
              0.1111111111111111,
              "#482878"
             ],
             [
              0.2222222222222222,
              "#3e4989"
             ],
             [
              0.3333333333333333,
              "#31688e"
             ],
             [
              0.4444444444444444,
              "#26828e"
             ],
             [
              0.5555555555555556,
              "#1f9e89"
             ],
             [
              0.6666666666666666,
              "#35b779"
             ],
             [
              0.7777777777777778,
              "#6ece58"
             ],
             [
              0.8888888888888888,
              "#b5de2b"
             ],
             [
              1.0,
              "#fde725"
             ]
            ],
            "type": "histogram2dcontour"
           }
          ],
          "histogram2d": [
           {
            "colorbar": {
             "outlinewidth": 1,
             "tickcolor": "rgb(36,36,36)",
             "ticks": "outside"
            },
            "colorscale": [
             [
              0.0,
              "#440154"
             ],
             [
              0.1111111111111111,
              "#482878"
             ],
             [
              0.2222222222222222,
              "#3e4989"
             ],
             [
              0.3333333333333333,
              "#31688e"
             ],
             [
              0.4444444444444444,
              "#26828e"
             ],
             [
              0.5555555555555556,
              "#1f9e89"
             ],
             [
              0.6666666666666666,
              "#35b779"
             ],
             [
              0.7777777777777778,
              "#6ece58"
             ],
             [
              0.8888888888888888,
              "#b5de2b"
             ],
             [
              1.0,
              "#fde725"
             ]
            ],
            "type": "histogram2d"
           }
          ],
          "histogram": [
           {
            "marker": {
             "line": {
              "color": "white",
              "width": 0.6
             }
            },
            "type": "histogram"
           }
          ],
          "mesh3d": [
           {
            "colorbar": {
             "outlinewidth": 1,
             "tickcolor": "rgb(36,36,36)",
             "ticks": "outside"
            },
            "type": "mesh3d"
           }
          ],
          "parcoords": [
           {
            "line": {
             "colorbar": {
              "outlinewidth": 1,
              "tickcolor": "rgb(36,36,36)",
              "ticks": "outside"
             }
            },
            "type": "parcoords"
           }
          ],
          "pie": [
           {
            "automargin": true,
            "type": "pie"
           }
          ],
          "scatter3d": [
           {
            "line": {
             "colorbar": {
              "outlinewidth": 1,
              "tickcolor": "rgb(36,36,36)",
              "ticks": "outside"
             }
            },
            "marker": {
             "colorbar": {
              "outlinewidth": 1,
              "tickcolor": "rgb(36,36,36)",
              "ticks": "outside"
             }
            },
            "type": "scatter3d"
           }
          ],
          "scattercarpet": [
           {
            "marker": {
             "colorbar": {
              "outlinewidth": 1,
              "tickcolor": "rgb(36,36,36)",
              "ticks": "outside"
             }
            },
            "type": "scattercarpet"
           }
          ],
          "scattergeo": [
           {
            "marker": {
             "colorbar": {
              "outlinewidth": 1,
              "tickcolor": "rgb(36,36,36)",
              "ticks": "outside"
             }
            },
            "type": "scattergeo"
           }
          ],
          "scattergl": [
           {
            "marker": {
             "colorbar": {
              "outlinewidth": 1,
              "tickcolor": "rgb(36,36,36)",
              "ticks": "outside"
             }
            },
            "type": "scattergl"
           }
          ],
          "scattermapbox": [
           {
            "marker": {
             "colorbar": {
              "outlinewidth": 1,
              "tickcolor": "rgb(36,36,36)",
              "ticks": "outside"
             }
            },
            "type": "scattermapbox"
           }
          ],
          "scatterpolargl": [
           {
            "marker": {
             "colorbar": {
              "outlinewidth": 1,
              "tickcolor": "rgb(36,36,36)",
              "ticks": "outside"
             }
            },
            "type": "scatterpolargl"
           }
          ],
          "scatterpolar": [
           {
            "marker": {
             "colorbar": {
              "outlinewidth": 1,
              "tickcolor": "rgb(36,36,36)",
              "ticks": "outside"
             }
            },
            "type": "scatterpolar"
           }
          ],
          "scatter": [
           {
            "marker": {
             "colorbar": {
              "outlinewidth": 1,
              "tickcolor": "rgb(36,36,36)",
              "ticks": "outside"
             }
            },
            "type": "scatter"
           }
          ],
          "scatterternary": [
           {
            "marker": {
             "colorbar": {
              "outlinewidth": 1,
              "tickcolor": "rgb(36,36,36)",
              "ticks": "outside"
             }
            },
            "type": "scatterternary"
           }
          ],
          "surface": [
           {
            "colorbar": {
             "outlinewidth": 1,
             "tickcolor": "rgb(36,36,36)",
             "ticks": "outside"
            },
            "colorscale": [
             [
              0.0,
              "#440154"
             ],
             [
              0.1111111111111111,
              "#482878"
             ],
             [
              0.2222222222222222,
              "#3e4989"
             ],
             [
              0.3333333333333333,
              "#31688e"
             ],
             [
              0.4444444444444444,
              "#26828e"
             ],
             [
              0.5555555555555556,
              "#1f9e89"
             ],
             [
              0.6666666666666666,
              "#35b779"
             ],
             [
              0.7777777777777778,
              "#6ece58"
             ],
             [
              0.8888888888888888,
              "#b5de2b"
             ],
             [
              1.0,
              "#fde725"
             ]
            ],
            "type": "surface"
           }
          ],
          "table": [
           {
            "cells": {
             "fill": {
              "color": "rgb(237,237,237)"
             },
             "line": {
              "color": "white"
             }
            },
            "header": {
             "fill": {
              "color": "rgb(217,217,217)"
             },
             "line": {
              "color": "white"
             }
            },
            "type": "table"
           }
          ]
         },
         "layout": {
          "annotationdefaults": {
           "arrowhead": 0,
           "arrowwidth": 1
          },
          "autotypenumbers": "strict",
          "coloraxis": {
           "colorbar": {
            "outlinewidth": 1,
            "tickcolor": "rgb(36,36,36)",
            "ticks": "outside"
           }
          },
          "colorscale": {
           "diverging": [
            [
             0.0,
             "rgb(103,0,31)"
            ],
            [
             0.1,
             "rgb(178,24,43)"
            ],
            [
             0.2,
             "rgb(214,96,77)"
            ],
            [
             0.3,
             "rgb(244,165,130)"
            ],
            [
             0.4,
             "rgb(253,219,199)"
            ],
            [
             0.5,
             "rgb(247,247,247)"
            ],
            [
             0.6,
             "rgb(209,229,240)"
            ],
            [
             0.7,
             "rgb(146,197,222)"
            ],
            [
             0.8,
             "rgb(67,147,195)"
            ],
            [
             0.9,
             "rgb(33,102,172)"
            ],
            [
             1.0,
             "rgb(5,48,97)"
            ]
           ],
           "sequential": [
            [
             0.0,
             "#440154"
            ],
            [
             0.1111111111111111,
             "#482878"
            ],
            [
             0.2222222222222222,
             "#3e4989"
            ],
            [
             0.3333333333333333,
             "#31688e"
            ],
            [
             0.4444444444444444,
             "#26828e"
            ],
            [
             0.5555555555555556,
             "#1f9e89"
            ],
            [
             0.6666666666666666,
             "#35b779"
            ],
            [
             0.7777777777777778,
             "#6ece58"
            ],
            [
             0.8888888888888888,
             "#b5de2b"
            ],
            [
             1.0,
             "#fde725"
            ]
           ],
           "sequentialminus": [
            [
             0.0,
             "#440154"
            ],
            [
             0.1111111111111111,
             "#482878"
            ],
            [
             0.2222222222222222,
             "#3e4989"
            ],
            [
             0.3333333333333333,
             "#31688e"
            ],
            [
             0.4444444444444444,
             "#26828e"
            ],
            [
             0.5555555555555556,
             "#1f9e89"
            ],
            [
             0.6666666666666666,
             "#35b779"
            ],
            [
             0.7777777777777778,
             "#6ece58"
            ],
            [
             0.8888888888888888,
             "#b5de2b"
            ],
            [
             1.0,
             "#fde725"
            ]
           ]
          },
          "colorway": [
           "#1F77B4",
           "#FF7F0E",
           "#2CA02C",
           "#D62728",
           "#9467BD",
           "#8C564B",
           "#E377C2",
           "#7F7F7F",
           "#BCBD22",
           "#17BECF"
          ],
          "font": {
           "color": "rgb(36,36,36)"
          },
          "geo": {
           "bgcolor": "white",
           "lakecolor": "white",
           "landcolor": "white",
           "showlakes": true,
           "showland": true,
           "subunitcolor": "white"
          },
          "hoverlabel": {
           "align": "left"
          },
          "hovermode": "closest",
          "mapbox": {
           "style": "light"
          },
          "paper_bgcolor": "white",
          "plot_bgcolor": "white",
          "polar": {
           "angularaxis": {
            "gridcolor": "rgb(232,232,232)",
            "linecolor": "rgb(36,36,36)",
            "showgrid": false,
            "showline": true,
            "ticks": "outside"
           },
           "bgcolor": "white",
           "radialaxis": {
            "gridcolor": "rgb(232,232,232)",
            "linecolor": "rgb(36,36,36)",
            "showgrid": false,
            "showline": true,
            "ticks": "outside"
           }
          },
          "scene": {
           "xaxis": {
            "backgroundcolor": "white",
            "gridcolor": "rgb(232,232,232)",
            "gridwidth": 2,
            "linecolor": "rgb(36,36,36)",
            "showbackground": true,
            "showgrid": false,
            "showline": true,
            "ticks": "outside",
            "zeroline": false,
            "zerolinecolor": "rgb(36,36,36)"
           },
           "yaxis": {
            "backgroundcolor": "white",
            "gridcolor": "rgb(232,232,232)",
            "gridwidth": 2,
            "linecolor": "rgb(36,36,36)",
            "showbackground": true,
            "showgrid": false,
            "showline": true,
            "ticks": "outside",
            "zeroline": false,
            "zerolinecolor": "rgb(36,36,36)"
           },
           "zaxis": {
            "backgroundcolor": "white",
            "gridcolor": "rgb(232,232,232)",
            "gridwidth": 2,
            "linecolor": "rgb(36,36,36)",
            "showbackground": true,
            "showgrid": false,
            "showline": true,
            "ticks": "outside",
            "zeroline": false,
            "zerolinecolor": "rgb(36,36,36)"
           }
          },
          "shapedefaults": {
           "fillcolor": "black",
           "line": {
            "width": 0
           },
           "opacity": 0.3
          },
          "ternary": {
           "aaxis": {
            "gridcolor": "rgb(232,232,232)",
            "linecolor": "rgb(36,36,36)",
            "showgrid": false,
            "showline": true,
            "ticks": "outside"
           },
           "baxis": {
            "gridcolor": "rgb(232,232,232)",
            "linecolor": "rgb(36,36,36)",
            "showgrid": false,
            "showline": true,
            "ticks": "outside"
           },
           "bgcolor": "white",
           "caxis": {
            "gridcolor": "rgb(232,232,232)",
            "linecolor": "rgb(36,36,36)",
            "showgrid": false,
            "showline": true,
            "ticks": "outside"
           }
          },
          "title": {
           "x": 0.05
          },
          "xaxis": {
           "automargin": true,
           "gridcolor": "rgb(232,232,232)",
           "linecolor": "rgb(36,36,36)",
           "showgrid": false,
           "showline": true,
           "ticks": "outside",
           "title": {
            "standoff": 15
           },
           "zeroline": false,
           "zerolinecolor": "rgb(36,36,36)"
          },
          "yaxis": {
           "automargin": true,
           "gridcolor": "rgb(232,232,232)",
           "linecolor": "rgb(36,36,36)",
           "showgrid": false,
           "showline": true,
           "ticks": "outside",
           "title": {
            "standoff": 15
           },
           "zeroline": false,
           "zerolinecolor": "rgb(36,36,36)"
          },
          "margin": {
           "b": 0,
           "l": 20,
           "r": 20,
           "t": 40
          }
         }
        },
        "xaxis": {
         "anchor": "y",
         "domain": [
          0.0,
          0.2888888888888889
         ]
        },
        "yaxis": {
         "anchor": "x",
         "domain": [
          0.625,
          1.0
         ]
        },
        "xaxis2": {
         "anchor": "y2",
         "domain": [
          0.35555555555555557,
          0.6444444444444445
         ]
        },
        "yaxis2": {
         "anchor": "x2",
         "domain": [
          0.625,
          1.0
         ]
        },
        "xaxis3": {
         "anchor": "y3",
         "domain": [
          0.7111111111111111,
          1.0
         ]
        },
        "yaxis3": {
         "anchor": "x3",
         "domain": [
          0.625,
          1.0
         ]
        },
        "xaxis4": {
         "anchor": "y4",
         "domain": [
          0.0,
          0.2888888888888889
         ]
        },
        "yaxis4": {
         "anchor": "x4",
         "domain": [
          0.0,
          0.375
         ]
        },
        "xaxis5": {
         "anchor": "y5",
         "domain": [
          0.35555555555555557,
          0.6444444444444445
         ]
        },
        "yaxis5": {
         "anchor": "x5",
         "domain": [
          0.0,
          0.375
         ]
        },
        "xaxis6": {
         "anchor": "y6",
         "domain": [
          0.7111111111111111,
          1.0
         ]
        },
        "yaxis6": {
         "anchor": "x6",
         "domain": [
          0.0,
          0.375
         ]
        },
        "annotations": [
         {
          "font": {
           "size": 16
          },
          "showarrow": false,
          "text": "$\\sigma^2=0, MSE=0.0$",
          "x": 0.14444444444444446,
          "xanchor": "center",
          "xref": "paper",
          "y": 1.0,
          "yanchor": "bottom",
          "yref": "paper"
         },
         {
          "font": {
           "size": 16
          },
          "showarrow": false,
          "text": "$\\sigma^2=1, MSE=0.69$",
          "x": 0.5,
          "xanchor": "center",
          "xref": "paper",
          "y": 1.0,
          "yanchor": "bottom",
          "yref": "paper"
         },
         {
          "font": {
           "size": 16
          },
          "showarrow": false,
          "text": "$\\sigma^2=2, MSE=2.81$",
          "x": 0.8555555555555556,
          "xanchor": "center",
          "xref": "paper",
          "y": 1.0,
          "yanchor": "bottom",
          "yref": "paper"
         },
         {
          "font": {
           "size": 16
          },
          "showarrow": false,
          "text": "$\\sigma^2=3, MSE=11.47$",
          "x": 0.14444444444444446,
          "xanchor": "center",
          "xref": "paper",
          "y": 0.375,
          "yanchor": "bottom",
          "yref": "paper"
         },
         {
          "font": {
           "size": 16
          },
          "showarrow": false,
          "text": "$\\sigma^2=4, MSE=10.86$",
          "x": 0.5,
          "xanchor": "center",
          "xref": "paper",
          "y": 0.375,
          "yanchor": "bottom",
          "yref": "paper"
         },
         {
          "font": {
           "size": 16
          },
          "showarrow": false,
          "text": "$\\sigma^2=5, MSE=15.59$",
          "x": 0.8555555555555556,
          "xanchor": "center",
          "xref": "paper",
          "y": 0.375,
          "yanchor": "bottom",
          "yref": "paper"
         }
        ],
        "margin": {
         "t": 80
        },
        "title": {
         "text": "$\\text{(5) Simulated Data - Different Noise Scales}$"
        }
       },
       "config": {
        "plotlyServerURL": "https://plot.ly"
       }
      },
      "text/html": "<div>                            <div id=\"b9b8a059-6042-4146-a2ed-259d6101cb7f\" class=\"plotly-graph-div\" style=\"height:525px; width:100%;\"></div>            <script type=\"text/javascript\">                require([\"plotly\"], function(Plotly) {                    window.PLOTLYENV=window.PLOTLYENV || {};                                    if (document.getElementById(\"b9b8a059-6042-4146-a2ed-259d6101cb7f\")) {                    Plotly.newPlot(                        \"b9b8a059-6042-4146-a2ed-259d6101cb7f\",                        [{\"marker\":{\"color\":\"black\",\"opacity\":0.7},\"mode\":\"markers\",\"name\":\"Real Points\",\"showlegend\":false,\"x\":[-1.2,-1.0358974358974358,-0.8717948717948718,-0.7076923076923076,-0.5435897435897435,-0.37948717948717947,-0.21538461538461529,-0.05128205128205132,0.11282051282051286,0.27692307692307705,0.441025641025641,0.6051282051282052,0.7692307692307694,0.9333333333333333,1.0974358974358973,1.2615384615384617,1.4256410256410257,1.5897435897435896,1.753846153846154,1.917948717948718],\"y\":[5.8096,3.8381753317244733,2.522800884051074,1.7092797030916282,1.2608197821340592,1.058034061642376,0.9989404292566787,0.9989617197931566,0.9909257152440888,0.9250651447778439,0.7690176847388803,0.5078259586477458,0.14393753720107805,-0.3027950617283952,-0.7951143730918573,-1.278357984664403,-1.6804585370450331,-1.911943723656666,-1.8659362907461214,-1.418154037384138],\"type\":\"scatter\",\"xaxis\":\"x\",\"yaxis\":\"y\"},{\"marker\":{\"color\":\"red\",\"opacity\":0.7},\"mode\":\"markers\",\"name\":\"Observed Points\",\"showlegend\":false,\"x\":[-1.2,-1.0358974358974358,-0.8717948717948718,-0.7076923076923076,-0.5435897435897435,-0.37948717948717947,-0.21538461538461529,-0.05128205128205132,0.11282051282051286,0.27692307692307705,0.441025641025641,0.6051282051282052,0.7692307692307694,0.9333333333333333,1.0974358974358973,1.2615384615384617,1.4256410256410257,1.5897435897435896,1.753846153846154,1.917948717948718],\"y\":[5.8096,3.8381753317244733,2.522800884051074,1.7092797030916282,1.2608197821340592,1.058034061642376,0.9989404292566787,0.9989617197931566,0.9909257152440888,0.9250651447778439,0.7690176847388803,0.5078259586477458,0.14393753720107805,-0.3027950617283952,-0.7951143730918573,-1.278357984664403,-1.6804585370450331,-1.911943723656666,-1.8659362907461214,-1.418154037384138],\"type\":\"scatter\",\"xaxis\":\"x\",\"yaxis\":\"y\"},{\"marker\":{\"color\":\"blue\",\"opacity\":0.7},\"mode\":\"markers\",\"name\":\"Predicted Points\",\"showlegend\":false,\"x\":[-1.2,-1.0358974358974358,-0.8717948717948718,-0.7076923076923076,-0.5435897435897435,-0.37948717948717947,-0.21538461538461529,-0.05128205128205132,0.11282051282051286,0.27692307692307705,0.441025641025641,0.6051282051282052,0.7692307692307694,0.9333333333333333,1.0974358974358973,1.2615384615384617,1.4256410256410257,1.5897435897435896,1.753846153846154,1.917948717948718],\"y\":[5.809600000000005,3.838175331724477,2.5228008840510765,1.7092797030916298,1.26081978213406,1.0580340616423765,0.9989404292566788,0.9989617197931565,0.9909257152440889,0.9250651447778441,0.7690176847388805,0.507825958647746,0.1439375372010787,-0.3027950617283941,-0.7951143730918564,-1.2783579846644013,-1.6804585370450322,-1.9119437236566643,-1.86593629074612,-1.4181540373841361],\"type\":\"scatter\",\"xaxis\":\"x\",\"yaxis\":\"y\"},{\"marker\":{\"color\":\"black\",\"opacity\":0.7},\"mode\":\"markers\",\"name\":\"Real Points\",\"showlegend\":false,\"x\":[-1.2,-1.0358974358974358,-0.8717948717948718,-0.7076923076923076,-0.5435897435897435,-0.37948717948717947,-0.21538461538461529,-0.05128205128205132,0.11282051282051286,0.27692307692307705,0.441025641025641,0.6051282051282052,0.7692307692307694,0.9333333333333333,1.0974358974358973,1.2615384615384617,1.4256410256410257,1.5897435897435896,1.753846153846154,1.917948717948718],\"y\":[5.8096,3.8381753317244733,2.522800884051074,1.7092797030916282,1.2608197821340592,1.058034061642376,0.9989404292566787,0.9989617197931566,0.9909257152440888,0.9250651447778439,0.7690176847388803,0.5078259586477458,0.14393753720107805,-0.3027950617283952,-0.7951143730918573,-1.278357984664403,-1.6804585370450331,-1.911943723656666,-1.8659362907461214,-1.418154037384138],\"type\":\"scatter\",\"xaxis\":\"x2\",\"yaxis\":\"y2\"},{\"marker\":{\"color\":\"red\",\"opacity\":0.7},\"mode\":\"markers\",\"name\":\"Observed Points\",\"showlegend\":false,\"x\":[-1.2,-1.0358974358974358,-0.8717948717948718,-0.7076923076923076,-0.5435897435897435,-0.37948717948717947,-0.21538461538461529,-0.05128205128205132,0.11282051282051286,0.27692307692307705,0.441025641025641,0.6051282051282052,0.7692307692307694,0.9333333333333333,1.0974358974358973,1.2615384615384617,1.4256410256410257,1.5897435897435896,1.753846153846154,1.917948717948718],\"y\":[4.696327863627448,5.321621645042361,2.572675765537188,2.581457728140927,2.0368739635435142,0.8742455296284111,1.1897147670821264,0.2143648386676733,2.381560998591917,-0.2700729174352118,1.2953504015095145,0.585501346605095,0.18575623252762974,-1.8733671987155749,-1.0090918694240525,-0.2017408005469099,-1.0690173838908437,-3.0707797140596407,-0.7050831369991268,-1.5833939813336608],\"type\":\"scatter\",\"xaxis\":\"x2\",\"yaxis\":\"y2\"},{\"marker\":{\"color\":\"blue\",\"opacity\":0.7},\"mode\":\"markers\",\"name\":\"Predicted Points\",\"showlegend\":false,\"x\":[-1.2,-1.0358974358974358,-0.8717948717948718,-0.7076923076923076,-0.5435897435897435,-0.37948717948717947,-0.21538461538461529,-0.05128205128205132,0.11282051282051286,0.27692307692307705,0.441025641025641,0.6051282051282052,0.7692307692307694,0.9333333333333333,1.0974358974358973,1.2615384615384617,1.4256410256410257,1.5897435897435896,1.753846153846154,1.917948717948718],\"y\":[5.391434991045815,4.033875823025539,3.048421275466334,2.351075180573999,1.8673242531535568,1.5321380906092488,1.2899691729445373,1.0947528627621035,0.9099074052638492,0.7083339282508959,0.4724164421235854,0.19402183988147834,-0.12550010287664376,-0.475316727952779,-0.835112494549707,-1.1750889792709873,-1.4559648761209574,-1.6289759965047375,-1.6358752692282268,-1.4089327404981038],\"type\":\"scatter\",\"xaxis\":\"x2\",\"yaxis\":\"y2\"},{\"marker\":{\"color\":\"black\",\"opacity\":0.7},\"mode\":\"markers\",\"name\":\"Real Points\",\"showlegend\":false,\"x\":[-1.2,-1.0358974358974358,-0.8717948717948718,-0.7076923076923076,-0.5435897435897435,-0.37948717948717947,-0.21538461538461529,-0.05128205128205132,0.11282051282051286,0.27692307692307705,0.441025641025641,0.6051282051282052,0.7692307692307694,0.9333333333333333,1.0974358974358973,1.2615384615384617,1.4256410256410257,1.5897435897435896,1.753846153846154,1.917948717948718],\"y\":[5.8096,3.8381753317244733,2.522800884051074,1.7092797030916282,1.2608197821340592,1.058034061642376,0.9989404292566787,0.9989617197931566,0.9909257152440888,0.9250651447778439,0.7690176847388803,0.5078259586477458,0.14393753720107805,-0.3027950617283952,-0.7951143730918573,-1.278357984664403,-1.6804585370450331,-1.911943723656666,-1.8659362907461214,-1.418154037384138],\"type\":\"scatter\",\"xaxis\":\"x3\",\"yaxis\":\"y3\"},{\"marker\":{\"color\":\"red\",\"opacity\":0.7},\"mode\":\"markers\",\"name\":\"Observed Points\",\"showlegend\":false,\"x\":[-1.2,-1.0358974358974358,-0.8717948717948718,-0.7076923076923076,-0.5435897435897435,-0.37948717948717947,-0.21538461538461529,-0.05128205128205132,0.11282051282051286,0.27692307692307705,0.441025641025641,0.6051282051282052,0.7692307692307694,0.9333333333333333,1.0974358974358973,1.2615384615384617,1.4256410256410257,1.5897435897435896,1.753846153846154,1.917948717948718],\"y\":[5.658149813314279,2.1568858566179534,1.570814276304996,-1.2689454369170667,2.8511621276094714,3.541263761708743,2.7313800424091275,-1.071112411142582,2.090277543237004,-0.42746772102236485,4.007316201439928,1.8738426273355946,-1.0358697704439948,1.0377292344001965,0.9310866418463049,-2.0741017564364963,-3.4879965315402655,0.6652155072513235,0.00019366027105971462,-1.8023784342160507],\"type\":\"scatter\",\"xaxis\":\"x3\",\"yaxis\":\"y3\"},{\"marker\":{\"color\":\"blue\",\"opacity\":0.7},\"mode\":\"markers\",\"name\":\"Predicted Points\",\"showlegend\":false,\"x\":[-1.2,-1.0358974358974358,-0.8717948717948718,-0.7076923076923076,-0.5435897435897435,-0.37948717948717947,-0.21538461538461529,-0.05128205128205132,0.11282051282051286,0.27692307692307705,0.441025641025641,0.6051282051282052,0.7692307692307694,0.9333333333333333,1.0974358974358973,1.2615384615384617,1.4256410256410257,1.5897435897435896,1.753846153846154,1.917948717948718],\"y\":[4.705276476835529,2.93859469999588,1.8795173565838321,1.34619875935819,1.1783286154192876,1.2371320262089782,1.4053694875106368,1.5873368894491608,1.7088655164909694,1.7173220474440032,1.5816085554577246,1.292162508023118,0.8609567669726892,0.32149958848046767,-0.271165376937998,-0.8404590844256363,-1.2882670947838548,-1.4949395744725358,-1.3192912956100429,-0.5986016359732211],\"type\":\"scatter\",\"xaxis\":\"x3\",\"yaxis\":\"y3\"},{\"marker\":{\"color\":\"black\",\"opacity\":0.7},\"mode\":\"markers\",\"name\":\"Real Points\",\"showlegend\":false,\"x\":[-1.2,-1.0358974358974358,-0.8717948717948718,-0.7076923076923076,-0.5435897435897435,-0.37948717948717947,-0.21538461538461529,-0.05128205128205132,0.11282051282051286,0.27692307692307705,0.441025641025641,0.6051282051282052,0.7692307692307694,0.9333333333333333,1.0974358974358973,1.2615384615384617,1.4256410256410257,1.5897435897435896,1.753846153846154,1.917948717948718],\"y\":[5.8096,3.8381753317244733,2.522800884051074,1.7092797030916282,1.2608197821340592,1.058034061642376,0.9989404292566787,0.9989617197931566,0.9909257152440888,0.9250651447778439,0.7690176847388803,0.5078259586477458,0.14393753720107805,-0.3027950617283952,-0.7951143730918573,-1.278357984664403,-1.6804585370450331,-1.911943723656666,-1.8659362907461214,-1.418154037384138],\"type\":\"scatter\",\"xaxis\":\"x4\",\"yaxis\":\"y4\"},{\"marker\":{\"color\":\"red\",\"opacity\":0.7},\"mode\":\"markers\",\"name\":\"Observed Points\",\"showlegend\":false,\"x\":[-1.2,-1.0358974358974358,-0.8717948717948718,-0.7076923076923076,-0.5435897435897435,-0.37948717948717947,-0.21538461538461529,-0.05128205128205132,0.11282051282051286,0.27692307692307705,0.441025641025641,0.6051282051282052,0.7692307692307694,0.9333333333333333,1.0974358974358973,1.2615384615384617,1.4256410256410257,1.5897435897435896,1.753846153846154,1.917948717948718],\"y\":[7.827588702086805,6.68039553046023,3.926054803965953,-1.0143475487483984,-0.9707783534025485,-6.463249304073193,-3.803192712852973,-2.0585329934822227,3.255106384821454,-6.122523528026638,3.9181824494957116,0.27840453196064296,4.867236882829104,1.2700642840184833,-5.118743034952301,-3.5220645536864494,-5.726130146354726,3.8891227793483187,2.448852697377189,-3.721650665944061],\"type\":\"scatter\",\"xaxis\":\"x4\",\"yaxis\":\"y4\"},{\"marker\":{\"color\":\"blue\",\"opacity\":0.7},\"mode\":\"markers\",\"name\":\"Predicted Points\",\"showlegend\":false,\"x\":[-1.2,-1.0358974358974358,-0.8717948717948718,-0.7076923076923076,-0.5435897435897435,-0.37948717948717947,-0.21538461538461529,-0.05128205128205132,0.11282051282051286,0.27692307692307705,0.441025641025641,0.6051282051282052,0.7692307692307694,0.9333333333333333,1.0974358974358973,1.2615384615384617,1.4256410256410257,1.5897435897435896,1.753846153846154,1.917948717948718],\"y\":[9.973426200458702,4.791377286136756,1.309859288785849,-0.8234652851265887,-1.9252379489515312,-2.2764042358583927,-2.1222136988350115,-1.6722199106876547,-1.1002804640410182,-0.544556971338227,-0.10751506484083484,0.14407560337117853,0.17914136139940218,0.0023045175269973406,-0.34611663978130025,-0.7901078418791911,-1.2179588399387935,-1.4822634049506647,-1.3999193277237794,-0.7521284188855475],\"type\":\"scatter\",\"xaxis\":\"x4\",\"yaxis\":\"y4\"},{\"marker\":{\"color\":\"black\",\"opacity\":0.7},\"mode\":\"markers\",\"name\":\"Real Points\",\"showlegend\":false,\"x\":[-1.2,-1.0358974358974358,-0.8717948717948718,-0.7076923076923076,-0.5435897435897435,-0.37948717948717947,-0.21538461538461529,-0.05128205128205132,0.11282051282051286,0.27692307692307705,0.441025641025641,0.6051282051282052,0.7692307692307694,0.9333333333333333,1.0974358974358973,1.2615384615384617,1.4256410256410257,1.5897435897435896,1.753846153846154,1.917948717948718],\"y\":[5.8096,3.8381753317244733,2.522800884051074,1.7092797030916282,1.2608197821340592,1.058034061642376,0.9989404292566787,0.9989617197931566,0.9909257152440888,0.9250651447778439,0.7690176847388803,0.5078259586477458,0.14393753720107805,-0.3027950617283952,-0.7951143730918573,-1.278357984664403,-1.6804585370450331,-1.911943723656666,-1.8659362907461214,-1.418154037384138],\"type\":\"scatter\",\"xaxis\":\"x5\",\"yaxis\":\"y5\"},{\"marker\":{\"color\":\"red\",\"opacity\":0.7},\"mode\":\"markers\",\"name\":\"Observed Points\",\"showlegend\":false,\"x\":[-1.2,-1.0358974358974358,-0.8717948717948718,-0.7076923076923076,-0.5435897435897435,-0.37948717948717947,-0.21538461538461529,-0.05128205128205132,0.11282051282051286,0.27692307692307705,0.441025641025641,0.6051282051282052,0.7692307692307694,0.9333333333333333,1.0974358974358973,1.2615384615384617,1.4256410256410257,1.5897435897435896,1.753846153846154,1.917948717948718],\"y\":[10.158187190650185,-4.67125609257794,5.4508353549455375,0.48258055009159695,0.6168368926174318,2.420387119684709,3.896444679468021,-3.3270006777762187,-0.8387328681232972,-4.708041223799404,-3.6753636752677927,-2.7351942063363284,-7.357894556729137,0.7474948526885576,2.2352282095940064,2.988073934482581,-1.6609965148593622,2.7651698679910908,-0.5182943310782897,-1.7855976641707059],\"type\":\"scatter\",\"xaxis\":\"x5\",\"yaxis\":\"y5\"},{\"marker\":{\"color\":\"blue\",\"opacity\":0.7},\"mode\":\"markers\",\"name\":\"Predicted Points\",\"showlegend\":false,\"x\":[-1.2,-1.0358974358974358,-0.8717948717948718,-0.7076923076923076,-0.5435897435897435,-0.37948717948717947,-0.21538461538461529,-0.05128205128205132,0.11282051282051286,0.27692307692307705,0.441025641025641,0.6051282051282052,0.7692307692307694,0.9333333333333333,1.0974358974358973,1.2615384615384617,1.4256410256410257,1.5897435897435896,1.753846153846154,1.917948717948718],\"y\":[4.6690235286560045,4.26763263845757,3.4179744854178327,2.3071033971619386,1.0955072105837005,-0.08289272815441318,-1.1207415636212714,-1.9372509311170807,-2.4781989566733893,-2.7159302570530826,-2.649355939750384,-2.3039536029908585,-1.731767335731409,-1.011407717660278,-0.24805181919704467,0.42655679850737016,0.854108083570706,0.8497254933793705,0.2019659945884129,-1.3271799368784194],\"type\":\"scatter\",\"xaxis\":\"x5\",\"yaxis\":\"y5\"},{\"marker\":{\"color\":\"black\",\"opacity\":0.7},\"mode\":\"markers\",\"name\":\"Real Points\",\"showlegend\":false,\"x\":[-1.2,-1.0358974358974358,-0.8717948717948718,-0.7076923076923076,-0.5435897435897435,-0.37948717948717947,-0.21538461538461529,-0.05128205128205132,0.11282051282051286,0.27692307692307705,0.441025641025641,0.6051282051282052,0.7692307692307694,0.9333333333333333,1.0974358974358973,1.2615384615384617,1.4256410256410257,1.5897435897435896,1.753846153846154,1.917948717948718],\"y\":[5.8096,3.8381753317244733,2.522800884051074,1.7092797030916282,1.2608197821340592,1.058034061642376,0.9989404292566787,0.9989617197931566,0.9909257152440888,0.9250651447778439,0.7690176847388803,0.5078259586477458,0.14393753720107805,-0.3027950617283952,-0.7951143730918573,-1.278357984664403,-1.6804585370450331,-1.911943723656666,-1.8659362907461214,-1.418154037384138],\"type\":\"scatter\",\"xaxis\":\"x6\",\"yaxis\":\"y6\"},{\"marker\":{\"color\":\"red\",\"opacity\":0.7},\"mode\":\"markers\",\"name\":\"Observed Points\",\"showlegend\":false,\"x\":[-1.2,-1.0358974358974358,-0.8717948717948718,-0.7076923076923076,-0.5435897435897435,-0.37948717948717947,-0.21538461538461529,-0.05128205128205132,0.11282051282051286,0.27692307692307705,0.441025641025641,0.6051282051282052,0.7692307692307694,0.9333333333333333,1.0974358974358973,1.2615384615384617,1.4256410256410257,1.5897435897435896,1.753846153846154,1.917948717948718],\"y\":[9.628251383165443,11.169882828192485,5.922341996437499,-9.762206075316826,-1.0422147481962674,5.214807896899567,3.7679437491348335,0.15309340551058537,-0.19779012123881257,-2.5210279022785187,1.7136531814425697,-5.596781451466597,-4.5465140034240825,-1.3021213855597493,-3.5019466814095224,2.7720191726560417,4.828473750499147,0.8310024420730606,-1.2722316609180457,2.263904670500666],\"type\":\"scatter\",\"xaxis\":\"x6\",\"yaxis\":\"y6\"},{\"marker\":{\"color\":\"blue\",\"opacity\":0.7},\"mode\":\"markers\",\"name\":\"Predicted Points\",\"showlegend\":false,\"x\":[-1.2,-1.0358974358974358,-0.8717948717948718,-0.7076923076923076,-0.5435897435897435,-0.37948717948717947,-0.21538461538461529,-0.05128205128205132,0.11282051282051286,0.27692307692307705,0.441025641025641,0.6051282051282052,0.7692307692307694,0.9333333333333333,1.0974358974358973,1.2615384615384617,1.4256410256410257,1.5897435897435896,1.753846153846154,1.917948717948718],\"y\":[10.280722686414904,6.796593146606329,4.14953220699625,2.195101798974365,0.8030819226528187,-0.14252935313381587,-0.7435158908285292,-1.0874434841518754,-1.2476598581019753,-1.2832946689545126,-1.2392595042627372,-1.1462478828574643,-1.0207352548470723,-0.8649790016175058,-0.6670184358322742,-0.40067480143245005,-0.0255512736366732,0.5129670410588516,1.28371310488036,2.369737948776514],\"type\":\"scatter\",\"xaxis\":\"x6\",\"yaxis\":\"y6\"}],                        {\"template\":{\"data\":{\"barpolar\":[{\"marker\":{\"line\":{\"color\":\"white\",\"width\":0.5},\"pattern\":{\"fillmode\":\"overlay\",\"size\":10,\"solidity\":0.2}},\"type\":\"barpolar\"}],\"bar\":[{\"error_x\":{\"color\":\"rgb(36,36,36)\"},\"error_y\":{\"color\":\"rgb(36,36,36)\"},\"marker\":{\"line\":{\"color\":\"white\",\"width\":0.5},\"pattern\":{\"fillmode\":\"overlay\",\"size\":10,\"solidity\":0.2}},\"type\":\"bar\"}],\"carpet\":[{\"aaxis\":{\"endlinecolor\":\"rgb(36,36,36)\",\"gridcolor\":\"white\",\"linecolor\":\"white\",\"minorgridcolor\":\"white\",\"startlinecolor\":\"rgb(36,36,36)\"},\"baxis\":{\"endlinecolor\":\"rgb(36,36,36)\",\"gridcolor\":\"white\",\"linecolor\":\"white\",\"minorgridcolor\":\"white\",\"startlinecolor\":\"rgb(36,36,36)\"},\"type\":\"carpet\"}],\"choropleth\":[{\"colorbar\":{\"outlinewidth\":1,\"tickcolor\":\"rgb(36,36,36)\",\"ticks\":\"outside\"},\"type\":\"choropleth\"}],\"contourcarpet\":[{\"colorbar\":{\"outlinewidth\":1,\"tickcolor\":\"rgb(36,36,36)\",\"ticks\":\"outside\"},\"type\":\"contourcarpet\"}],\"contour\":[{\"colorbar\":{\"outlinewidth\":1,\"tickcolor\":\"rgb(36,36,36)\",\"ticks\":\"outside\"},\"colorscale\":[[0.0,\"#440154\"],[0.1111111111111111,\"#482878\"],[0.2222222222222222,\"#3e4989\"],[0.3333333333333333,\"#31688e\"],[0.4444444444444444,\"#26828e\"],[0.5555555555555556,\"#1f9e89\"],[0.6666666666666666,\"#35b779\"],[0.7777777777777778,\"#6ece58\"],[0.8888888888888888,\"#b5de2b\"],[1.0,\"#fde725\"]],\"type\":\"contour\"}],\"heatmapgl\":[{\"colorbar\":{\"outlinewidth\":1,\"tickcolor\":\"rgb(36,36,36)\",\"ticks\":\"outside\"},\"colorscale\":[[0.0,\"#440154\"],[0.1111111111111111,\"#482878\"],[0.2222222222222222,\"#3e4989\"],[0.3333333333333333,\"#31688e\"],[0.4444444444444444,\"#26828e\"],[0.5555555555555556,\"#1f9e89\"],[0.6666666666666666,\"#35b779\"],[0.7777777777777778,\"#6ece58\"],[0.8888888888888888,\"#b5de2b\"],[1.0,\"#fde725\"]],\"type\":\"heatmapgl\"}],\"heatmap\":[{\"colorbar\":{\"outlinewidth\":1,\"tickcolor\":\"rgb(36,36,36)\",\"ticks\":\"outside\"},\"colorscale\":[[0.0,\"#440154\"],[0.1111111111111111,\"#482878\"],[0.2222222222222222,\"#3e4989\"],[0.3333333333333333,\"#31688e\"],[0.4444444444444444,\"#26828e\"],[0.5555555555555556,\"#1f9e89\"],[0.6666666666666666,\"#35b779\"],[0.7777777777777778,\"#6ece58\"],[0.8888888888888888,\"#b5de2b\"],[1.0,\"#fde725\"]],\"type\":\"heatmap\"}],\"histogram2dcontour\":[{\"colorbar\":{\"outlinewidth\":1,\"tickcolor\":\"rgb(36,36,36)\",\"ticks\":\"outside\"},\"colorscale\":[[0.0,\"#440154\"],[0.1111111111111111,\"#482878\"],[0.2222222222222222,\"#3e4989\"],[0.3333333333333333,\"#31688e\"],[0.4444444444444444,\"#26828e\"],[0.5555555555555556,\"#1f9e89\"],[0.6666666666666666,\"#35b779\"],[0.7777777777777778,\"#6ece58\"],[0.8888888888888888,\"#b5de2b\"],[1.0,\"#fde725\"]],\"type\":\"histogram2dcontour\"}],\"histogram2d\":[{\"colorbar\":{\"outlinewidth\":1,\"tickcolor\":\"rgb(36,36,36)\",\"ticks\":\"outside\"},\"colorscale\":[[0.0,\"#440154\"],[0.1111111111111111,\"#482878\"],[0.2222222222222222,\"#3e4989\"],[0.3333333333333333,\"#31688e\"],[0.4444444444444444,\"#26828e\"],[0.5555555555555556,\"#1f9e89\"],[0.6666666666666666,\"#35b779\"],[0.7777777777777778,\"#6ece58\"],[0.8888888888888888,\"#b5de2b\"],[1.0,\"#fde725\"]],\"type\":\"histogram2d\"}],\"histogram\":[{\"marker\":{\"line\":{\"color\":\"white\",\"width\":0.6}},\"type\":\"histogram\"}],\"mesh3d\":[{\"colorbar\":{\"outlinewidth\":1,\"tickcolor\":\"rgb(36,36,36)\",\"ticks\":\"outside\"},\"type\":\"mesh3d\"}],\"parcoords\":[{\"line\":{\"colorbar\":{\"outlinewidth\":1,\"tickcolor\":\"rgb(36,36,36)\",\"ticks\":\"outside\"}},\"type\":\"parcoords\"}],\"pie\":[{\"automargin\":true,\"type\":\"pie\"}],\"scatter3d\":[{\"line\":{\"colorbar\":{\"outlinewidth\":1,\"tickcolor\":\"rgb(36,36,36)\",\"ticks\":\"outside\"}},\"marker\":{\"colorbar\":{\"outlinewidth\":1,\"tickcolor\":\"rgb(36,36,36)\",\"ticks\":\"outside\"}},\"type\":\"scatter3d\"}],\"scattercarpet\":[{\"marker\":{\"colorbar\":{\"outlinewidth\":1,\"tickcolor\":\"rgb(36,36,36)\",\"ticks\":\"outside\"}},\"type\":\"scattercarpet\"}],\"scattergeo\":[{\"marker\":{\"colorbar\":{\"outlinewidth\":1,\"tickcolor\":\"rgb(36,36,36)\",\"ticks\":\"outside\"}},\"type\":\"scattergeo\"}],\"scattergl\":[{\"marker\":{\"colorbar\":{\"outlinewidth\":1,\"tickcolor\":\"rgb(36,36,36)\",\"ticks\":\"outside\"}},\"type\":\"scattergl\"}],\"scattermapbox\":[{\"marker\":{\"colorbar\":{\"outlinewidth\":1,\"tickcolor\":\"rgb(36,36,36)\",\"ticks\":\"outside\"}},\"type\":\"scattermapbox\"}],\"scatterpolargl\":[{\"marker\":{\"colorbar\":{\"outlinewidth\":1,\"tickcolor\":\"rgb(36,36,36)\",\"ticks\":\"outside\"}},\"type\":\"scatterpolargl\"}],\"scatterpolar\":[{\"marker\":{\"colorbar\":{\"outlinewidth\":1,\"tickcolor\":\"rgb(36,36,36)\",\"ticks\":\"outside\"}},\"type\":\"scatterpolar\"}],\"scatter\":[{\"marker\":{\"colorbar\":{\"outlinewidth\":1,\"tickcolor\":\"rgb(36,36,36)\",\"ticks\":\"outside\"}},\"type\":\"scatter\"}],\"scatterternary\":[{\"marker\":{\"colorbar\":{\"outlinewidth\":1,\"tickcolor\":\"rgb(36,36,36)\",\"ticks\":\"outside\"}},\"type\":\"scatterternary\"}],\"surface\":[{\"colorbar\":{\"outlinewidth\":1,\"tickcolor\":\"rgb(36,36,36)\",\"ticks\":\"outside\"},\"colorscale\":[[0.0,\"#440154\"],[0.1111111111111111,\"#482878\"],[0.2222222222222222,\"#3e4989\"],[0.3333333333333333,\"#31688e\"],[0.4444444444444444,\"#26828e\"],[0.5555555555555556,\"#1f9e89\"],[0.6666666666666666,\"#35b779\"],[0.7777777777777778,\"#6ece58\"],[0.8888888888888888,\"#b5de2b\"],[1.0,\"#fde725\"]],\"type\":\"surface\"}],\"table\":[{\"cells\":{\"fill\":{\"color\":\"rgb(237,237,237)\"},\"line\":{\"color\":\"white\"}},\"header\":{\"fill\":{\"color\":\"rgb(217,217,217)\"},\"line\":{\"color\":\"white\"}},\"type\":\"table\"}]},\"layout\":{\"annotationdefaults\":{\"arrowhead\":0,\"arrowwidth\":1},\"autotypenumbers\":\"strict\",\"coloraxis\":{\"colorbar\":{\"outlinewidth\":1,\"tickcolor\":\"rgb(36,36,36)\",\"ticks\":\"outside\"}},\"colorscale\":{\"diverging\":[[0.0,\"rgb(103,0,31)\"],[0.1,\"rgb(178,24,43)\"],[0.2,\"rgb(214,96,77)\"],[0.3,\"rgb(244,165,130)\"],[0.4,\"rgb(253,219,199)\"],[0.5,\"rgb(247,247,247)\"],[0.6,\"rgb(209,229,240)\"],[0.7,\"rgb(146,197,222)\"],[0.8,\"rgb(67,147,195)\"],[0.9,\"rgb(33,102,172)\"],[1.0,\"rgb(5,48,97)\"]],\"sequential\":[[0.0,\"#440154\"],[0.1111111111111111,\"#482878\"],[0.2222222222222222,\"#3e4989\"],[0.3333333333333333,\"#31688e\"],[0.4444444444444444,\"#26828e\"],[0.5555555555555556,\"#1f9e89\"],[0.6666666666666666,\"#35b779\"],[0.7777777777777778,\"#6ece58\"],[0.8888888888888888,\"#b5de2b\"],[1.0,\"#fde725\"]],\"sequentialminus\":[[0.0,\"#440154\"],[0.1111111111111111,\"#482878\"],[0.2222222222222222,\"#3e4989\"],[0.3333333333333333,\"#31688e\"],[0.4444444444444444,\"#26828e\"],[0.5555555555555556,\"#1f9e89\"],[0.6666666666666666,\"#35b779\"],[0.7777777777777778,\"#6ece58\"],[0.8888888888888888,\"#b5de2b\"],[1.0,\"#fde725\"]]},\"colorway\":[\"#1F77B4\",\"#FF7F0E\",\"#2CA02C\",\"#D62728\",\"#9467BD\",\"#8C564B\",\"#E377C2\",\"#7F7F7F\",\"#BCBD22\",\"#17BECF\"],\"font\":{\"color\":\"rgb(36,36,36)\"},\"geo\":{\"bgcolor\":\"white\",\"lakecolor\":\"white\",\"landcolor\":\"white\",\"showlakes\":true,\"showland\":true,\"subunitcolor\":\"white\"},\"hoverlabel\":{\"align\":\"left\"},\"hovermode\":\"closest\",\"mapbox\":{\"style\":\"light\"},\"paper_bgcolor\":\"white\",\"plot_bgcolor\":\"white\",\"polar\":{\"angularaxis\":{\"gridcolor\":\"rgb(232,232,232)\",\"linecolor\":\"rgb(36,36,36)\",\"showgrid\":false,\"showline\":true,\"ticks\":\"outside\"},\"bgcolor\":\"white\",\"radialaxis\":{\"gridcolor\":\"rgb(232,232,232)\",\"linecolor\":\"rgb(36,36,36)\",\"showgrid\":false,\"showline\":true,\"ticks\":\"outside\"}},\"scene\":{\"xaxis\":{\"backgroundcolor\":\"white\",\"gridcolor\":\"rgb(232,232,232)\",\"gridwidth\":2,\"linecolor\":\"rgb(36,36,36)\",\"showbackground\":true,\"showgrid\":false,\"showline\":true,\"ticks\":\"outside\",\"zeroline\":false,\"zerolinecolor\":\"rgb(36,36,36)\"},\"yaxis\":{\"backgroundcolor\":\"white\",\"gridcolor\":\"rgb(232,232,232)\",\"gridwidth\":2,\"linecolor\":\"rgb(36,36,36)\",\"showbackground\":true,\"showgrid\":false,\"showline\":true,\"ticks\":\"outside\",\"zeroline\":false,\"zerolinecolor\":\"rgb(36,36,36)\"},\"zaxis\":{\"backgroundcolor\":\"white\",\"gridcolor\":\"rgb(232,232,232)\",\"gridwidth\":2,\"linecolor\":\"rgb(36,36,36)\",\"showbackground\":true,\"showgrid\":false,\"showline\":true,\"ticks\":\"outside\",\"zeroline\":false,\"zerolinecolor\":\"rgb(36,36,36)\"}},\"shapedefaults\":{\"fillcolor\":\"black\",\"line\":{\"width\":0},\"opacity\":0.3},\"ternary\":{\"aaxis\":{\"gridcolor\":\"rgb(232,232,232)\",\"linecolor\":\"rgb(36,36,36)\",\"showgrid\":false,\"showline\":true,\"ticks\":\"outside\"},\"baxis\":{\"gridcolor\":\"rgb(232,232,232)\",\"linecolor\":\"rgb(36,36,36)\",\"showgrid\":false,\"showline\":true,\"ticks\":\"outside\"},\"bgcolor\":\"white\",\"caxis\":{\"gridcolor\":\"rgb(232,232,232)\",\"linecolor\":\"rgb(36,36,36)\",\"showgrid\":false,\"showline\":true,\"ticks\":\"outside\"}},\"title\":{\"x\":0.05},\"xaxis\":{\"automargin\":true,\"gridcolor\":\"rgb(232,232,232)\",\"linecolor\":\"rgb(36,36,36)\",\"showgrid\":false,\"showline\":true,\"ticks\":\"outside\",\"title\":{\"standoff\":15},\"zeroline\":false,\"zerolinecolor\":\"rgb(36,36,36)\"},\"yaxis\":{\"automargin\":true,\"gridcolor\":\"rgb(232,232,232)\",\"linecolor\":\"rgb(36,36,36)\",\"showgrid\":false,\"showline\":true,\"ticks\":\"outside\",\"title\":{\"standoff\":15},\"zeroline\":false,\"zerolinecolor\":\"rgb(36,36,36)\"},\"margin\":{\"b\":0,\"l\":20,\"r\":20,\"t\":40}}},\"xaxis\":{\"anchor\":\"y\",\"domain\":[0.0,0.2888888888888889]},\"yaxis\":{\"anchor\":\"x\",\"domain\":[0.625,1.0]},\"xaxis2\":{\"anchor\":\"y2\",\"domain\":[0.35555555555555557,0.6444444444444445]},\"yaxis2\":{\"anchor\":\"x2\",\"domain\":[0.625,1.0]},\"xaxis3\":{\"anchor\":\"y3\",\"domain\":[0.7111111111111111,1.0]},\"yaxis3\":{\"anchor\":\"x3\",\"domain\":[0.625,1.0]},\"xaxis4\":{\"anchor\":\"y4\",\"domain\":[0.0,0.2888888888888889]},\"yaxis4\":{\"anchor\":\"x4\",\"domain\":[0.0,0.375]},\"xaxis5\":{\"anchor\":\"y5\",\"domain\":[0.35555555555555557,0.6444444444444445]},\"yaxis5\":{\"anchor\":\"x5\",\"domain\":[0.0,0.375]},\"xaxis6\":{\"anchor\":\"y6\",\"domain\":[0.7111111111111111,1.0]},\"yaxis6\":{\"anchor\":\"x6\",\"domain\":[0.0,0.375]},\"annotations\":[{\"font\":{\"size\":16},\"showarrow\":false,\"text\":\"$\\\\sigma^2=0, MSE=0.0$\",\"x\":0.14444444444444446,\"xanchor\":\"center\",\"xref\":\"paper\",\"y\":1.0,\"yanchor\":\"bottom\",\"yref\":\"paper\"},{\"font\":{\"size\":16},\"showarrow\":false,\"text\":\"$\\\\sigma^2=1, MSE=0.69$\",\"x\":0.5,\"xanchor\":\"center\",\"xref\":\"paper\",\"y\":1.0,\"yanchor\":\"bottom\",\"yref\":\"paper\"},{\"font\":{\"size\":16},\"showarrow\":false,\"text\":\"$\\\\sigma^2=2, MSE=2.81$\",\"x\":0.8555555555555556,\"xanchor\":\"center\",\"xref\":\"paper\",\"y\":1.0,\"yanchor\":\"bottom\",\"yref\":\"paper\"},{\"font\":{\"size\":16},\"showarrow\":false,\"text\":\"$\\\\sigma^2=3, MSE=11.47$\",\"x\":0.14444444444444446,\"xanchor\":\"center\",\"xref\":\"paper\",\"y\":0.375,\"yanchor\":\"bottom\",\"yref\":\"paper\"},{\"font\":{\"size\":16},\"showarrow\":false,\"text\":\"$\\\\sigma^2=4, MSE=10.86$\",\"x\":0.5,\"xanchor\":\"center\",\"xref\":\"paper\",\"y\":0.375,\"yanchor\":\"bottom\",\"yref\":\"paper\"},{\"font\":{\"size\":16},\"showarrow\":false,\"text\":\"$\\\\sigma^2=5, MSE=15.59$\",\"x\":0.8555555555555556,\"xanchor\":\"center\",\"xref\":\"paper\",\"y\":0.375,\"yanchor\":\"bottom\",\"yref\":\"paper\"}],\"margin\":{\"t\":80},\"title\":{\"text\":\"$\\\\text{(5) Simulated Data - Different Noise Scales}$\"}},                        {\"responsive\": true}                    ).then(function(){\n                            \nvar gd = document.getElementById('b9b8a059-6042-4146-a2ed-259d6101cb7f');\nvar x = new MutationObserver(function (mutations, observer) {{\n        var display = window.getComputedStyle(gd).display;\n        if (!display || display === 'none') {{\n            console.log([gd, 'removed!']);\n            Plotly.purge(gd);\n            observer.disconnect();\n        }}\n}});\n\n// Listen for the removal of the full notebook cells\nvar notebookContainer = gd.closest('#notebook-container');\nif (notebookContainer) {{\n    x.observe(notebookContainer, {childList: true});\n}}\n\n// Listen for the clearing of the current output cell\nvar outputEl = gd.closest('.output');\nif (outputEl) {{\n    x.observe(outputEl, {childList: true});\n}}\n\n                        })                };                });            </script>        </div>"
     },
     "metadata": {},
     "output_type": "display_data"
    }
   ],
   "source": [
    "scales = range(6)\n",
    "fig = make_subplots(2, 3, subplot_titles=list(map(str, scales)))\n",
    "for i, s in enumerate(scales):\n",
    "    r,c = i//3+1, i%3+1\n",
    "    \n",
    "    y = y_ + np.random.normal(scale=s, size=len(y_))\n",
    "    y_hat = make_pipeline(PolynomialFeatures(4), LinearRegression(fit_intercept=False)).fit(X, y).predict(X)\n",
    "\n",
    "    fig.add_traces([go.Scatter(x=x, y=y_, mode=\"markers\", name=\"Real Points\",  marker=dict(color=\"black\", opacity=.7), showlegend=False),\n",
    "                    go.Scatter(x=x, y=y, mode=\"markers\", name=\"Observed Points\",  marker=dict(color=\"red\", opacity=.7), showlegend=False),\n",
    "                    go.Scatter(x=x, y=y_hat, mode=\"markers\", name=\"Predicted Points\",  marker=dict(color=\"blue\", opacity=.7), showlegend=False)], rows=r, cols=c)\n",
    "    fig[\"layout\"][\"annotations\"][i][\"text\"] = rf\"$\\sigma^2={{0}}, MSE={{1}}$\".format(s, round(np.mean((y-y_hat)**2), 2))\n",
    "\n",
    "fig.update_layout(title=r\"$\\text{(5) Simulated Data - Different Noise Scales}$\", margin=dict(t=80)).show()"
   ]
  },
  {
   "cell_type": "markdown",
   "metadata": {
    "pycharm": {
     "name": "#%% md\n"
    }
   },
   "source": [
    "## The Influence Of $k$ And $\\sigma^2$ On Error\n",
    "\n",
    "Lastly, let us check how the error is influenced by both $k$ and $\\sigma^2$. For each value of $k$ and $\\sigma^2$ we will\n",
    "add noise drawn from $\\mathcal{N}\\left(0,\\sigma^2\\right)$ and then, based on the noisy data, let the learner select an\n",
    "hypothesis from $\\mathcal{H}_{poly}^k$. We repeat the process for each set of $\\left(k,\\sigma^2\\right)$ 10 times and report\n",
    "the mean MSE value. Results are seen in heatmap below: \n"
   ]
  },
  {
   "cell_type": "code",
   "execution_count": 20,
   "metadata": {
    "pycharm": {
     "name": "#%%\n"
    }
   },
   "outputs": [
    {
     "data": {
      "application/vnd.plotly.v1+json": {
       "data": [
        {
         "colorscale": [
          [
           0.0,
           "rgb(241, 236, 236)"
          ],
          [
           0.09090909090909091,
           "rgb(230, 209, 203)"
          ],
          [
           0.18181818181818182,
           "rgb(221, 182, 170)"
          ],
          [
           0.2727272727272727,
           "rgb(213, 156, 137)"
          ],
          [
           0.36363636363636365,
           "rgb(205, 129, 103)"
          ],
          [
           0.45454545454545453,
           "rgb(196, 102, 73)"
          ],
          [
           0.5454545454545454,
           "rgb(186, 74, 47)"
          ],
          [
           0.6363636363636364,
           "rgb(172, 44, 36)"
          ],
          [
           0.7272727272727273,
           "rgb(149, 19, 39)"
          ],
          [
           0.8181818181818182,
           "rgb(120, 14, 40)"
          ],
          [
           0.9090909090909091,
           "rgb(89, 13, 31)"
          ],
          [
           1.0,
           "rgb(60, 9, 17)"
          ]
         ],
         "x": [
          0,
          0,
          0,
          0,
          0,
          0,
          0,
          0,
          0,
          0,
          1,
          1,
          1,
          1,
          1,
          1,
          1,
          1,
          1,
          1,
          2,
          2,
          2,
          2,
          2,
          2,
          2,
          2,
          2,
          2,
          3,
          3,
          3,
          3,
          3,
          3,
          3,
          3,
          3,
          3,
          4,
          4,
          4,
          4,
          4,
          4,
          4,
          4,
          4,
          4,
          5,
          5,
          5,
          5,
          5,
          5,
          5,
          5,
          5,
          5,
          6,
          6,
          6,
          6,
          6,
          6,
          6,
          6,
          6,
          6,
          7,
          7,
          7,
          7,
          7,
          7,
          7,
          7,
          7,
          7,
          8,
          8,
          8,
          8,
          8,
          8,
          8,
          8,
          8,
          8,
          9,
          9,
          9,
          9,
          9,
          9,
          9,
          9,
          9,
          9
         ],
         "y": [
          0.0,
          0.5555555555555556,
          1.1111111111111112,
          1.6666666666666667,
          2.2222222222222223,
          2.7777777777777777,
          3.3333333333333335,
          3.8888888888888893,
          4.444444444444445,
          5.0,
          0.0,
          0.5555555555555556,
          1.1111111111111112,
          1.6666666666666667,
          2.2222222222222223,
          2.7777777777777777,
          3.3333333333333335,
          3.8888888888888893,
          4.444444444444445,
          5.0,
          0.0,
          0.5555555555555556,
          1.1111111111111112,
          1.6666666666666667,
          2.2222222222222223,
          2.7777777777777777,
          3.3333333333333335,
          3.8888888888888893,
          4.444444444444445,
          5.0,
          0.0,
          0.5555555555555556,
          1.1111111111111112,
          1.6666666666666667,
          2.2222222222222223,
          2.7777777777777777,
          3.3333333333333335,
          3.8888888888888893,
          4.444444444444445,
          5.0,
          0.0,
          0.5555555555555556,
          1.1111111111111112,
          1.6666666666666667,
          2.2222222222222223,
          2.7777777777777777,
          3.3333333333333335,
          3.8888888888888893,
          4.444444444444445,
          5.0,
          0.0,
          0.5555555555555556,
          1.1111111111111112,
          1.6666666666666667,
          2.2222222222222223,
          2.7777777777777777,
          3.3333333333333335,
          3.8888888888888893,
          4.444444444444445,
          5.0,
          0.0,
          0.5555555555555556,
          1.1111111111111112,
          1.6666666666666667,
          2.2222222222222223,
          2.7777777777777777,
          3.3333333333333335,
          3.8888888888888893,
          4.444444444444445,
          5.0,
          0.0,
          0.5555555555555556,
          1.1111111111111112,
          1.6666666666666667,
          2.2222222222222223,
          2.7777777777777777,
          3.3333333333333335,
          3.8888888888888893,
          4.444444444444445,
          5.0,
          0.0,
          0.5555555555555556,
          1.1111111111111112,
          1.6666666666666667,
          2.2222222222222223,
          2.7777777777777777,
          3.3333333333333335,
          3.8888888888888893,
          4.444444444444445,
          5.0,
          0.0,
          0.5555555555555556,
          1.1111111111111112,
          1.6666666666666667,
          2.2222222222222223,
          2.7777777777777777,
          3.3333333333333335,
          3.8888888888888893,
          4.444444444444445,
          5.0
         ],
         "z": [
          3.598576934700836,
          3.9301544086392597,
          5.104490611799108,
          6.19126514986804,
          7.4011038316725735,
          10.59220975021395,
          13.76537958897146,
          17.186422217396192,
          22.84493560047358,
          25.94985797224777,
          0.5232075621691131,
          0.7290861818883819,
          1.7554851772315074,
          2.5594614931404798,
          5.39715150961111,
          7.757978948792368,
          9.346844122359816,
          14.394342391282914,
          16.675090476109283,
          23.798642526449072,
          0.4200361063196548,
          0.6767639787518427,
          1.5149029157889742,
          2.4849262727499632,
          4.7580458042426965,
          8.331499975520597,
          8.934135406232635,
          14.14804995987509,
          18.449620995660997,
          22.237008641823234,
          0.28291788942033963,
          0.5746191925785652,
          1.4104337223727321,
          2.5145752314467567,
          4.3982048251525745,
          5.666261868075765,
          9.02061664337594,
          10.47793613048023,
          15.789655347623215,
          20.914183627508148,
          3.31013431401723E-30,
          0.19937655536272458,
          0.7967385184196195,
          2.043884825577087,
          4.493895362790125,
          4.933637837009199,
          8.25647569731709,
          10.649696826241371,
          12.119208467708129,
          15.973935966418106,
          3.8623369476719385E-30,
          0.21703592508702935,
          1.0906290751034686,
          1.6078133334595957,
          3.4129628539346655,
          5.766352462569134,
          6.784295577671183,
          9.808084408540024,
          12.748753322689168,
          18.29700388600068,
          1.2960084878311206E-27,
          0.21395459702000844,
          0.8135684798505392,
          1.43135257362725,
          3.160370982083998,
          3.5115362563042383,
          6.631839876254017,
          9.874916215405744,
          11.828797176356838,
          17.706116615953782,
          1.2190366175993448E-29,
          0.16364854677163493,
          0.7032551284555267,
          1.7967845010042356,
          3.333342399647351,
          4.722911472117806,
          6.971543992212607,
          13.145989407125603,
          12.016294919439263,
          15.70342313076451,
          2.2803045054209476E-26,
          0.16556312191488234,
          0.6226219415692528,
          1.1969454367839698,
          2.613290591352464,
          4.591285530800863,
          5.273215293092192,
          6.000753776809699,
          10.942188257203599,
          17.05428350045643,
          2.1992887369737826E-28,
          0.17082065766417814,
          0.574045503508733,
          1.3382290455821335,
          2.520912978769523,
          3.458074799254996,
          5.597108855462428,
          5.887646882516454,
          9.331241901850762,
          9.952339506752038
         ],
         "type": "heatmap"
        }
       ],
       "layout": {
        "title": {
         "text": "$\\text{(6) Average Train } MSE \\text{ As Function of } \\left(k,\\sigma^2\\right)$"
        },
        "xaxis": {
         "title": {
          "text": "$k$ - Fitted Polynomial Degree"
         }
        },
        "yaxis": {
         "title": {
          "text": "$\\sigma^2$ - Noise Levels"
         }
        },
        "template": {
         "data": {
          "barpolar": [
           {
            "marker": {
             "line": {
              "color": "white",
              "width": 0.5
             },
             "pattern": {
              "fillmode": "overlay",
              "size": 10,
              "solidity": 0.2
             }
            },
            "type": "barpolar"
           }
          ],
          "bar": [
           {
            "error_x": {
             "color": "rgb(36,36,36)"
            },
            "error_y": {
             "color": "rgb(36,36,36)"
            },
            "marker": {
             "line": {
              "color": "white",
              "width": 0.5
             },
             "pattern": {
              "fillmode": "overlay",
              "size": 10,
              "solidity": 0.2
             }
            },
            "type": "bar"
           }
          ],
          "carpet": [
           {
            "aaxis": {
             "endlinecolor": "rgb(36,36,36)",
             "gridcolor": "white",
             "linecolor": "white",
             "minorgridcolor": "white",
             "startlinecolor": "rgb(36,36,36)"
            },
            "baxis": {
             "endlinecolor": "rgb(36,36,36)",
             "gridcolor": "white",
             "linecolor": "white",
             "minorgridcolor": "white",
             "startlinecolor": "rgb(36,36,36)"
            },
            "type": "carpet"
           }
          ],
          "choropleth": [
           {
            "colorbar": {
             "outlinewidth": 1,
             "tickcolor": "rgb(36,36,36)",
             "ticks": "outside"
            },
            "type": "choropleth"
           }
          ],
          "contourcarpet": [
           {
            "colorbar": {
             "outlinewidth": 1,
             "tickcolor": "rgb(36,36,36)",
             "ticks": "outside"
            },
            "type": "contourcarpet"
           }
          ],
          "contour": [
           {
            "colorbar": {
             "outlinewidth": 1,
             "tickcolor": "rgb(36,36,36)",
             "ticks": "outside"
            },
            "colorscale": [
             [
              0.0,
              "#440154"
             ],
             [
              0.1111111111111111,
              "#482878"
             ],
             [
              0.2222222222222222,
              "#3e4989"
             ],
             [
              0.3333333333333333,
              "#31688e"
             ],
             [
              0.4444444444444444,
              "#26828e"
             ],
             [
              0.5555555555555556,
              "#1f9e89"
             ],
             [
              0.6666666666666666,
              "#35b779"
             ],
             [
              0.7777777777777778,
              "#6ece58"
             ],
             [
              0.8888888888888888,
              "#b5de2b"
             ],
             [
              1.0,
              "#fde725"
             ]
            ],
            "type": "contour"
           }
          ],
          "heatmapgl": [
           {
            "colorbar": {
             "outlinewidth": 1,
             "tickcolor": "rgb(36,36,36)",
             "ticks": "outside"
            },
            "colorscale": [
             [
              0.0,
              "#440154"
             ],
             [
              0.1111111111111111,
              "#482878"
             ],
             [
              0.2222222222222222,
              "#3e4989"
             ],
             [
              0.3333333333333333,
              "#31688e"
             ],
             [
              0.4444444444444444,
              "#26828e"
             ],
             [
              0.5555555555555556,
              "#1f9e89"
             ],
             [
              0.6666666666666666,
              "#35b779"
             ],
             [
              0.7777777777777778,
              "#6ece58"
             ],
             [
              0.8888888888888888,
              "#b5de2b"
             ],
             [
              1.0,
              "#fde725"
             ]
            ],
            "type": "heatmapgl"
           }
          ],
          "heatmap": [
           {
            "colorbar": {
             "outlinewidth": 1,
             "tickcolor": "rgb(36,36,36)",
             "ticks": "outside"
            },
            "colorscale": [
             [
              0.0,
              "#440154"
             ],
             [
              0.1111111111111111,
              "#482878"
             ],
             [
              0.2222222222222222,
              "#3e4989"
             ],
             [
              0.3333333333333333,
              "#31688e"
             ],
             [
              0.4444444444444444,
              "#26828e"
             ],
             [
              0.5555555555555556,
              "#1f9e89"
             ],
             [
              0.6666666666666666,
              "#35b779"
             ],
             [
              0.7777777777777778,
              "#6ece58"
             ],
             [
              0.8888888888888888,
              "#b5de2b"
             ],
             [
              1.0,
              "#fde725"
             ]
            ],
            "type": "heatmap"
           }
          ],
          "histogram2dcontour": [
           {
            "colorbar": {
             "outlinewidth": 1,
             "tickcolor": "rgb(36,36,36)",
             "ticks": "outside"
            },
            "colorscale": [
             [
              0.0,
              "#440154"
             ],
             [
              0.1111111111111111,
              "#482878"
             ],
             [
              0.2222222222222222,
              "#3e4989"
             ],
             [
              0.3333333333333333,
              "#31688e"
             ],
             [
              0.4444444444444444,
              "#26828e"
             ],
             [
              0.5555555555555556,
              "#1f9e89"
             ],
             [
              0.6666666666666666,
              "#35b779"
             ],
             [
              0.7777777777777778,
              "#6ece58"
             ],
             [
              0.8888888888888888,
              "#b5de2b"
             ],
             [
              1.0,
              "#fde725"
             ]
            ],
            "type": "histogram2dcontour"
           }
          ],
          "histogram2d": [
           {
            "colorbar": {
             "outlinewidth": 1,
             "tickcolor": "rgb(36,36,36)",
             "ticks": "outside"
            },
            "colorscale": [
             [
              0.0,
              "#440154"
             ],
             [
              0.1111111111111111,
              "#482878"
             ],
             [
              0.2222222222222222,
              "#3e4989"
             ],
             [
              0.3333333333333333,
              "#31688e"
             ],
             [
              0.4444444444444444,
              "#26828e"
             ],
             [
              0.5555555555555556,
              "#1f9e89"
             ],
             [
              0.6666666666666666,
              "#35b779"
             ],
             [
              0.7777777777777778,
              "#6ece58"
             ],
             [
              0.8888888888888888,
              "#b5de2b"
             ],
             [
              1.0,
              "#fde725"
             ]
            ],
            "type": "histogram2d"
           }
          ],
          "histogram": [
           {
            "marker": {
             "line": {
              "color": "white",
              "width": 0.6
             }
            },
            "type": "histogram"
           }
          ],
          "mesh3d": [
           {
            "colorbar": {
             "outlinewidth": 1,
             "tickcolor": "rgb(36,36,36)",
             "ticks": "outside"
            },
            "type": "mesh3d"
           }
          ],
          "parcoords": [
           {
            "line": {
             "colorbar": {
              "outlinewidth": 1,
              "tickcolor": "rgb(36,36,36)",
              "ticks": "outside"
             }
            },
            "type": "parcoords"
           }
          ],
          "pie": [
           {
            "automargin": true,
            "type": "pie"
           }
          ],
          "scatter3d": [
           {
            "line": {
             "colorbar": {
              "outlinewidth": 1,
              "tickcolor": "rgb(36,36,36)",
              "ticks": "outside"
             }
            },
            "marker": {
             "colorbar": {
              "outlinewidth": 1,
              "tickcolor": "rgb(36,36,36)",
              "ticks": "outside"
             }
            },
            "type": "scatter3d"
           }
          ],
          "scattercarpet": [
           {
            "marker": {
             "colorbar": {
              "outlinewidth": 1,
              "tickcolor": "rgb(36,36,36)",
              "ticks": "outside"
             }
            },
            "type": "scattercarpet"
           }
          ],
          "scattergeo": [
           {
            "marker": {
             "colorbar": {
              "outlinewidth": 1,
              "tickcolor": "rgb(36,36,36)",
              "ticks": "outside"
             }
            },
            "type": "scattergeo"
           }
          ],
          "scattergl": [
           {
            "marker": {
             "colorbar": {
              "outlinewidth": 1,
              "tickcolor": "rgb(36,36,36)",
              "ticks": "outside"
             }
            },
            "type": "scattergl"
           }
          ],
          "scattermapbox": [
           {
            "marker": {
             "colorbar": {
              "outlinewidth": 1,
              "tickcolor": "rgb(36,36,36)",
              "ticks": "outside"
             }
            },
            "type": "scattermapbox"
           }
          ],
          "scatterpolargl": [
           {
            "marker": {
             "colorbar": {
              "outlinewidth": 1,
              "tickcolor": "rgb(36,36,36)",
              "ticks": "outside"
             }
            },
            "type": "scatterpolargl"
           }
          ],
          "scatterpolar": [
           {
            "marker": {
             "colorbar": {
              "outlinewidth": 1,
              "tickcolor": "rgb(36,36,36)",
              "ticks": "outside"
             }
            },
            "type": "scatterpolar"
           }
          ],
          "scatter": [
           {
            "marker": {
             "colorbar": {
              "outlinewidth": 1,
              "tickcolor": "rgb(36,36,36)",
              "ticks": "outside"
             }
            },
            "type": "scatter"
           }
          ],
          "scatterternary": [
           {
            "marker": {
             "colorbar": {
              "outlinewidth": 1,
              "tickcolor": "rgb(36,36,36)",
              "ticks": "outside"
             }
            },
            "type": "scatterternary"
           }
          ],
          "surface": [
           {
            "colorbar": {
             "outlinewidth": 1,
             "tickcolor": "rgb(36,36,36)",
             "ticks": "outside"
            },
            "colorscale": [
             [
              0.0,
              "#440154"
             ],
             [
              0.1111111111111111,
              "#482878"
             ],
             [
              0.2222222222222222,
              "#3e4989"
             ],
             [
              0.3333333333333333,
              "#31688e"
             ],
             [
              0.4444444444444444,
              "#26828e"
             ],
             [
              0.5555555555555556,
              "#1f9e89"
             ],
             [
              0.6666666666666666,
              "#35b779"
             ],
             [
              0.7777777777777778,
              "#6ece58"
             ],
             [
              0.8888888888888888,
              "#b5de2b"
             ],
             [
              1.0,
              "#fde725"
             ]
            ],
            "type": "surface"
           }
          ],
          "table": [
           {
            "cells": {
             "fill": {
              "color": "rgb(237,237,237)"
             },
             "line": {
              "color": "white"
             }
            },
            "header": {
             "fill": {
              "color": "rgb(217,217,217)"
             },
             "line": {
              "color": "white"
             }
            },
            "type": "table"
           }
          ]
         },
         "layout": {
          "annotationdefaults": {
           "arrowhead": 0,
           "arrowwidth": 1
          },
          "autotypenumbers": "strict",
          "coloraxis": {
           "colorbar": {
            "outlinewidth": 1,
            "tickcolor": "rgb(36,36,36)",
            "ticks": "outside"
           }
          },
          "colorscale": {
           "diverging": [
            [
             0.0,
             "rgb(103,0,31)"
            ],
            [
             0.1,
             "rgb(178,24,43)"
            ],
            [
             0.2,
             "rgb(214,96,77)"
            ],
            [
             0.3,
             "rgb(244,165,130)"
            ],
            [
             0.4,
             "rgb(253,219,199)"
            ],
            [
             0.5,
             "rgb(247,247,247)"
            ],
            [
             0.6,
             "rgb(209,229,240)"
            ],
            [
             0.7,
             "rgb(146,197,222)"
            ],
            [
             0.8,
             "rgb(67,147,195)"
            ],
            [
             0.9,
             "rgb(33,102,172)"
            ],
            [
             1.0,
             "rgb(5,48,97)"
            ]
           ],
           "sequential": [
            [
             0.0,
             "#440154"
            ],
            [
             0.1111111111111111,
             "#482878"
            ],
            [
             0.2222222222222222,
             "#3e4989"
            ],
            [
             0.3333333333333333,
             "#31688e"
            ],
            [
             0.4444444444444444,
             "#26828e"
            ],
            [
             0.5555555555555556,
             "#1f9e89"
            ],
            [
             0.6666666666666666,
             "#35b779"
            ],
            [
             0.7777777777777778,
             "#6ece58"
            ],
            [
             0.8888888888888888,
             "#b5de2b"
            ],
            [
             1.0,
             "#fde725"
            ]
           ],
           "sequentialminus": [
            [
             0.0,
             "#440154"
            ],
            [
             0.1111111111111111,
             "#482878"
            ],
            [
             0.2222222222222222,
             "#3e4989"
            ],
            [
             0.3333333333333333,
             "#31688e"
            ],
            [
             0.4444444444444444,
             "#26828e"
            ],
            [
             0.5555555555555556,
             "#1f9e89"
            ],
            [
             0.6666666666666666,
             "#35b779"
            ],
            [
             0.7777777777777778,
             "#6ece58"
            ],
            [
             0.8888888888888888,
             "#b5de2b"
            ],
            [
             1.0,
             "#fde725"
            ]
           ]
          },
          "colorway": [
           "#1F77B4",
           "#FF7F0E",
           "#2CA02C",
           "#D62728",
           "#9467BD",
           "#8C564B",
           "#E377C2",
           "#7F7F7F",
           "#BCBD22",
           "#17BECF"
          ],
          "font": {
           "color": "rgb(36,36,36)"
          },
          "geo": {
           "bgcolor": "white",
           "lakecolor": "white",
           "landcolor": "white",
           "showlakes": true,
           "showland": true,
           "subunitcolor": "white"
          },
          "hoverlabel": {
           "align": "left"
          },
          "hovermode": "closest",
          "mapbox": {
           "style": "light"
          },
          "paper_bgcolor": "white",
          "plot_bgcolor": "white",
          "polar": {
           "angularaxis": {
            "gridcolor": "rgb(232,232,232)",
            "linecolor": "rgb(36,36,36)",
            "showgrid": false,
            "showline": true,
            "ticks": "outside"
           },
           "bgcolor": "white",
           "radialaxis": {
            "gridcolor": "rgb(232,232,232)",
            "linecolor": "rgb(36,36,36)",
            "showgrid": false,
            "showline": true,
            "ticks": "outside"
           }
          },
          "scene": {
           "xaxis": {
            "backgroundcolor": "white",
            "gridcolor": "rgb(232,232,232)",
            "gridwidth": 2,
            "linecolor": "rgb(36,36,36)",
            "showbackground": true,
            "showgrid": false,
            "showline": true,
            "ticks": "outside",
            "zeroline": false,
            "zerolinecolor": "rgb(36,36,36)"
           },
           "yaxis": {
            "backgroundcolor": "white",
            "gridcolor": "rgb(232,232,232)",
            "gridwidth": 2,
            "linecolor": "rgb(36,36,36)",
            "showbackground": true,
            "showgrid": false,
            "showline": true,
            "ticks": "outside",
            "zeroline": false,
            "zerolinecolor": "rgb(36,36,36)"
           },
           "zaxis": {
            "backgroundcolor": "white",
            "gridcolor": "rgb(232,232,232)",
            "gridwidth": 2,
            "linecolor": "rgb(36,36,36)",
            "showbackground": true,
            "showgrid": false,
            "showline": true,
            "ticks": "outside",
            "zeroline": false,
            "zerolinecolor": "rgb(36,36,36)"
           }
          },
          "shapedefaults": {
           "fillcolor": "black",
           "line": {
            "width": 0
           },
           "opacity": 0.3
          },
          "ternary": {
           "aaxis": {
            "gridcolor": "rgb(232,232,232)",
            "linecolor": "rgb(36,36,36)",
            "showgrid": false,
            "showline": true,
            "ticks": "outside"
           },
           "baxis": {
            "gridcolor": "rgb(232,232,232)",
            "linecolor": "rgb(36,36,36)",
            "showgrid": false,
            "showline": true,
            "ticks": "outside"
           },
           "bgcolor": "white",
           "caxis": {
            "gridcolor": "rgb(232,232,232)",
            "linecolor": "rgb(36,36,36)",
            "showgrid": false,
            "showline": true,
            "ticks": "outside"
           }
          },
          "title": {
           "x": 0.05
          },
          "xaxis": {
           "automargin": true,
           "gridcolor": "rgb(232,232,232)",
           "linecolor": "rgb(36,36,36)",
           "showgrid": false,
           "showline": true,
           "ticks": "outside",
           "title": {
            "standoff": 15
           },
           "zeroline": false,
           "zerolinecolor": "rgb(36,36,36)"
          },
          "yaxis": {
           "automargin": true,
           "gridcolor": "rgb(232,232,232)",
           "linecolor": "rgb(36,36,36)",
           "showgrid": false,
           "showline": true,
           "ticks": "outside",
           "title": {
            "standoff": 15
           },
           "zeroline": false,
           "zerolinecolor": "rgb(36,36,36)"
          },
          "margin": {
           "b": 0,
           "l": 20,
           "r": 20,
           "t": 40
          }
         }
        }
       },
       "config": {
        "plotlyServerURL": "https://plot.ly"
       }
      },
      "text/html": "<div>                            <div id=\"ccfee45c-be12-4e0a-9bfd-644e6d2b26e3\" class=\"plotly-graph-div\" style=\"height:525px; width:100%;\"></div>            <script type=\"text/javascript\">                require([\"plotly\"], function(Plotly) {                    window.PLOTLYENV=window.PLOTLYENV || {};                                    if (document.getElementById(\"ccfee45c-be12-4e0a-9bfd-644e6d2b26e3\")) {                    Plotly.newPlot(                        \"ccfee45c-be12-4e0a-9bfd-644e6d2b26e3\",                        [{\"colorscale\":[[0.0,\"rgb(241, 236, 236)\"],[0.09090909090909091,\"rgb(230, 209, 203)\"],[0.18181818181818182,\"rgb(221, 182, 170)\"],[0.2727272727272727,\"rgb(213, 156, 137)\"],[0.36363636363636365,\"rgb(205, 129, 103)\"],[0.45454545454545453,\"rgb(196, 102, 73)\"],[0.5454545454545454,\"rgb(186, 74, 47)\"],[0.6363636363636364,\"rgb(172, 44, 36)\"],[0.7272727272727273,\"rgb(149, 19, 39)\"],[0.8181818181818182,\"rgb(120, 14, 40)\"],[0.9090909090909091,\"rgb(89, 13, 31)\"],[1.0,\"rgb(60, 9, 17)\"]],\"x\":[0,0,0,0,0,0,0,0,0,0,1,1,1,1,1,1,1,1,1,1,2,2,2,2,2,2,2,2,2,2,3,3,3,3,3,3,3,3,3,3,4,4,4,4,4,4,4,4,4,4,5,5,5,5,5,5,5,5,5,5,6,6,6,6,6,6,6,6,6,6,7,7,7,7,7,7,7,7,7,7,8,8,8,8,8,8,8,8,8,8,9,9,9,9,9,9,9,9,9,9],\"y\":[0.0,0.5555555555555556,1.1111111111111112,1.6666666666666667,2.2222222222222223,2.7777777777777777,3.3333333333333335,3.8888888888888893,4.444444444444445,5.0,0.0,0.5555555555555556,1.1111111111111112,1.6666666666666667,2.2222222222222223,2.7777777777777777,3.3333333333333335,3.8888888888888893,4.444444444444445,5.0,0.0,0.5555555555555556,1.1111111111111112,1.6666666666666667,2.2222222222222223,2.7777777777777777,3.3333333333333335,3.8888888888888893,4.444444444444445,5.0,0.0,0.5555555555555556,1.1111111111111112,1.6666666666666667,2.2222222222222223,2.7777777777777777,3.3333333333333335,3.8888888888888893,4.444444444444445,5.0,0.0,0.5555555555555556,1.1111111111111112,1.6666666666666667,2.2222222222222223,2.7777777777777777,3.3333333333333335,3.8888888888888893,4.444444444444445,5.0,0.0,0.5555555555555556,1.1111111111111112,1.6666666666666667,2.2222222222222223,2.7777777777777777,3.3333333333333335,3.8888888888888893,4.444444444444445,5.0,0.0,0.5555555555555556,1.1111111111111112,1.6666666666666667,2.2222222222222223,2.7777777777777777,3.3333333333333335,3.8888888888888893,4.444444444444445,5.0,0.0,0.5555555555555556,1.1111111111111112,1.6666666666666667,2.2222222222222223,2.7777777777777777,3.3333333333333335,3.8888888888888893,4.444444444444445,5.0,0.0,0.5555555555555556,1.1111111111111112,1.6666666666666667,2.2222222222222223,2.7777777777777777,3.3333333333333335,3.8888888888888893,4.444444444444445,5.0,0.0,0.5555555555555556,1.1111111111111112,1.6666666666666667,2.2222222222222223,2.7777777777777777,3.3333333333333335,3.8888888888888893,4.444444444444445,5.0],\"z\":[3.598576934700836,3.9301544086392597,5.104490611799108,6.19126514986804,7.4011038316725735,10.59220975021395,13.76537958897146,17.186422217396192,22.84493560047358,25.94985797224777,0.5232075621691131,0.7290861818883819,1.7554851772315074,2.5594614931404798,5.39715150961111,7.757978948792368,9.346844122359816,14.394342391282914,16.675090476109283,23.798642526449072,0.4200361063196548,0.6767639787518427,1.5149029157889742,2.4849262727499632,4.7580458042426965,8.331499975520597,8.934135406232635,14.14804995987509,18.449620995660997,22.237008641823234,0.28291788942033963,0.5746191925785652,1.4104337223727321,2.5145752314467567,4.3982048251525745,5.666261868075765,9.02061664337594,10.47793613048023,15.789655347623215,20.914183627508148,3.31013431401723e-30,0.19937655536272458,0.7967385184196195,2.043884825577087,4.493895362790125,4.933637837009199,8.25647569731709,10.649696826241371,12.119208467708129,15.973935966418106,3.8623369476719385e-30,0.21703592508702935,1.0906290751034686,1.6078133334595957,3.4129628539346655,5.766352462569134,6.784295577671183,9.808084408540024,12.748753322689168,18.29700388600068,1.2960084878311206e-27,0.21395459702000844,0.8135684798505392,1.43135257362725,3.160370982083998,3.5115362563042383,6.631839876254017,9.874916215405744,11.828797176356838,17.706116615953782,1.2190366175993448e-29,0.16364854677163493,0.7032551284555267,1.7967845010042356,3.333342399647351,4.722911472117806,6.971543992212607,13.145989407125603,12.016294919439263,15.70342313076451,2.2803045054209476e-26,0.16556312191488234,0.6226219415692528,1.1969454367839698,2.613290591352464,4.591285530800863,5.273215293092192,6.000753776809699,10.942188257203599,17.05428350045643,2.1992887369737826e-28,0.17082065766417814,0.574045503508733,1.3382290455821335,2.520912978769523,3.458074799254996,5.597108855462428,5.887646882516454,9.331241901850762,9.952339506752038],\"type\":\"heatmap\"}],                        {\"title\":{\"text\":\"$\\\\text{(6) Average Train } MSE \\\\text{ As Function of } \\\\left(k,\\\\sigma^2\\\\right)$\"},\"xaxis\":{\"title\":{\"text\":\"$k$ - Fitted Polynomial Degree\"}},\"yaxis\":{\"title\":{\"text\":\"$\\\\sigma^2$ - Noise Levels\"}},\"template\":{\"data\":{\"barpolar\":[{\"marker\":{\"line\":{\"color\":\"white\",\"width\":0.5},\"pattern\":{\"fillmode\":\"overlay\",\"size\":10,\"solidity\":0.2}},\"type\":\"barpolar\"}],\"bar\":[{\"error_x\":{\"color\":\"rgb(36,36,36)\"},\"error_y\":{\"color\":\"rgb(36,36,36)\"},\"marker\":{\"line\":{\"color\":\"white\",\"width\":0.5},\"pattern\":{\"fillmode\":\"overlay\",\"size\":10,\"solidity\":0.2}},\"type\":\"bar\"}],\"carpet\":[{\"aaxis\":{\"endlinecolor\":\"rgb(36,36,36)\",\"gridcolor\":\"white\",\"linecolor\":\"white\",\"minorgridcolor\":\"white\",\"startlinecolor\":\"rgb(36,36,36)\"},\"baxis\":{\"endlinecolor\":\"rgb(36,36,36)\",\"gridcolor\":\"white\",\"linecolor\":\"white\",\"minorgridcolor\":\"white\",\"startlinecolor\":\"rgb(36,36,36)\"},\"type\":\"carpet\"}],\"choropleth\":[{\"colorbar\":{\"outlinewidth\":1,\"tickcolor\":\"rgb(36,36,36)\",\"ticks\":\"outside\"},\"type\":\"choropleth\"}],\"contourcarpet\":[{\"colorbar\":{\"outlinewidth\":1,\"tickcolor\":\"rgb(36,36,36)\",\"ticks\":\"outside\"},\"type\":\"contourcarpet\"}],\"contour\":[{\"colorbar\":{\"outlinewidth\":1,\"tickcolor\":\"rgb(36,36,36)\",\"ticks\":\"outside\"},\"colorscale\":[[0.0,\"#440154\"],[0.1111111111111111,\"#482878\"],[0.2222222222222222,\"#3e4989\"],[0.3333333333333333,\"#31688e\"],[0.4444444444444444,\"#26828e\"],[0.5555555555555556,\"#1f9e89\"],[0.6666666666666666,\"#35b779\"],[0.7777777777777778,\"#6ece58\"],[0.8888888888888888,\"#b5de2b\"],[1.0,\"#fde725\"]],\"type\":\"contour\"}],\"heatmapgl\":[{\"colorbar\":{\"outlinewidth\":1,\"tickcolor\":\"rgb(36,36,36)\",\"ticks\":\"outside\"},\"colorscale\":[[0.0,\"#440154\"],[0.1111111111111111,\"#482878\"],[0.2222222222222222,\"#3e4989\"],[0.3333333333333333,\"#31688e\"],[0.4444444444444444,\"#26828e\"],[0.5555555555555556,\"#1f9e89\"],[0.6666666666666666,\"#35b779\"],[0.7777777777777778,\"#6ece58\"],[0.8888888888888888,\"#b5de2b\"],[1.0,\"#fde725\"]],\"type\":\"heatmapgl\"}],\"heatmap\":[{\"colorbar\":{\"outlinewidth\":1,\"tickcolor\":\"rgb(36,36,36)\",\"ticks\":\"outside\"},\"colorscale\":[[0.0,\"#440154\"],[0.1111111111111111,\"#482878\"],[0.2222222222222222,\"#3e4989\"],[0.3333333333333333,\"#31688e\"],[0.4444444444444444,\"#26828e\"],[0.5555555555555556,\"#1f9e89\"],[0.6666666666666666,\"#35b779\"],[0.7777777777777778,\"#6ece58\"],[0.8888888888888888,\"#b5de2b\"],[1.0,\"#fde725\"]],\"type\":\"heatmap\"}],\"histogram2dcontour\":[{\"colorbar\":{\"outlinewidth\":1,\"tickcolor\":\"rgb(36,36,36)\",\"ticks\":\"outside\"},\"colorscale\":[[0.0,\"#440154\"],[0.1111111111111111,\"#482878\"],[0.2222222222222222,\"#3e4989\"],[0.3333333333333333,\"#31688e\"],[0.4444444444444444,\"#26828e\"],[0.5555555555555556,\"#1f9e89\"],[0.6666666666666666,\"#35b779\"],[0.7777777777777778,\"#6ece58\"],[0.8888888888888888,\"#b5de2b\"],[1.0,\"#fde725\"]],\"type\":\"histogram2dcontour\"}],\"histogram2d\":[{\"colorbar\":{\"outlinewidth\":1,\"tickcolor\":\"rgb(36,36,36)\",\"ticks\":\"outside\"},\"colorscale\":[[0.0,\"#440154\"],[0.1111111111111111,\"#482878\"],[0.2222222222222222,\"#3e4989\"],[0.3333333333333333,\"#31688e\"],[0.4444444444444444,\"#26828e\"],[0.5555555555555556,\"#1f9e89\"],[0.6666666666666666,\"#35b779\"],[0.7777777777777778,\"#6ece58\"],[0.8888888888888888,\"#b5de2b\"],[1.0,\"#fde725\"]],\"type\":\"histogram2d\"}],\"histogram\":[{\"marker\":{\"line\":{\"color\":\"white\",\"width\":0.6}},\"type\":\"histogram\"}],\"mesh3d\":[{\"colorbar\":{\"outlinewidth\":1,\"tickcolor\":\"rgb(36,36,36)\",\"ticks\":\"outside\"},\"type\":\"mesh3d\"}],\"parcoords\":[{\"line\":{\"colorbar\":{\"outlinewidth\":1,\"tickcolor\":\"rgb(36,36,36)\",\"ticks\":\"outside\"}},\"type\":\"parcoords\"}],\"pie\":[{\"automargin\":true,\"type\":\"pie\"}],\"scatter3d\":[{\"line\":{\"colorbar\":{\"outlinewidth\":1,\"tickcolor\":\"rgb(36,36,36)\",\"ticks\":\"outside\"}},\"marker\":{\"colorbar\":{\"outlinewidth\":1,\"tickcolor\":\"rgb(36,36,36)\",\"ticks\":\"outside\"}},\"type\":\"scatter3d\"}],\"scattercarpet\":[{\"marker\":{\"colorbar\":{\"outlinewidth\":1,\"tickcolor\":\"rgb(36,36,36)\",\"ticks\":\"outside\"}},\"type\":\"scattercarpet\"}],\"scattergeo\":[{\"marker\":{\"colorbar\":{\"outlinewidth\":1,\"tickcolor\":\"rgb(36,36,36)\",\"ticks\":\"outside\"}},\"type\":\"scattergeo\"}],\"scattergl\":[{\"marker\":{\"colorbar\":{\"outlinewidth\":1,\"tickcolor\":\"rgb(36,36,36)\",\"ticks\":\"outside\"}},\"type\":\"scattergl\"}],\"scattermapbox\":[{\"marker\":{\"colorbar\":{\"outlinewidth\":1,\"tickcolor\":\"rgb(36,36,36)\",\"ticks\":\"outside\"}},\"type\":\"scattermapbox\"}],\"scatterpolargl\":[{\"marker\":{\"colorbar\":{\"outlinewidth\":1,\"tickcolor\":\"rgb(36,36,36)\",\"ticks\":\"outside\"}},\"type\":\"scatterpolargl\"}],\"scatterpolar\":[{\"marker\":{\"colorbar\":{\"outlinewidth\":1,\"tickcolor\":\"rgb(36,36,36)\",\"ticks\":\"outside\"}},\"type\":\"scatterpolar\"}],\"scatter\":[{\"marker\":{\"colorbar\":{\"outlinewidth\":1,\"tickcolor\":\"rgb(36,36,36)\",\"ticks\":\"outside\"}},\"type\":\"scatter\"}],\"scatterternary\":[{\"marker\":{\"colorbar\":{\"outlinewidth\":1,\"tickcolor\":\"rgb(36,36,36)\",\"ticks\":\"outside\"}},\"type\":\"scatterternary\"}],\"surface\":[{\"colorbar\":{\"outlinewidth\":1,\"tickcolor\":\"rgb(36,36,36)\",\"ticks\":\"outside\"},\"colorscale\":[[0.0,\"#440154\"],[0.1111111111111111,\"#482878\"],[0.2222222222222222,\"#3e4989\"],[0.3333333333333333,\"#31688e\"],[0.4444444444444444,\"#26828e\"],[0.5555555555555556,\"#1f9e89\"],[0.6666666666666666,\"#35b779\"],[0.7777777777777778,\"#6ece58\"],[0.8888888888888888,\"#b5de2b\"],[1.0,\"#fde725\"]],\"type\":\"surface\"}],\"table\":[{\"cells\":{\"fill\":{\"color\":\"rgb(237,237,237)\"},\"line\":{\"color\":\"white\"}},\"header\":{\"fill\":{\"color\":\"rgb(217,217,217)\"},\"line\":{\"color\":\"white\"}},\"type\":\"table\"}]},\"layout\":{\"annotationdefaults\":{\"arrowhead\":0,\"arrowwidth\":1},\"autotypenumbers\":\"strict\",\"coloraxis\":{\"colorbar\":{\"outlinewidth\":1,\"tickcolor\":\"rgb(36,36,36)\",\"ticks\":\"outside\"}},\"colorscale\":{\"diverging\":[[0.0,\"rgb(103,0,31)\"],[0.1,\"rgb(178,24,43)\"],[0.2,\"rgb(214,96,77)\"],[0.3,\"rgb(244,165,130)\"],[0.4,\"rgb(253,219,199)\"],[0.5,\"rgb(247,247,247)\"],[0.6,\"rgb(209,229,240)\"],[0.7,\"rgb(146,197,222)\"],[0.8,\"rgb(67,147,195)\"],[0.9,\"rgb(33,102,172)\"],[1.0,\"rgb(5,48,97)\"]],\"sequential\":[[0.0,\"#440154\"],[0.1111111111111111,\"#482878\"],[0.2222222222222222,\"#3e4989\"],[0.3333333333333333,\"#31688e\"],[0.4444444444444444,\"#26828e\"],[0.5555555555555556,\"#1f9e89\"],[0.6666666666666666,\"#35b779\"],[0.7777777777777778,\"#6ece58\"],[0.8888888888888888,\"#b5de2b\"],[1.0,\"#fde725\"]],\"sequentialminus\":[[0.0,\"#440154\"],[0.1111111111111111,\"#482878\"],[0.2222222222222222,\"#3e4989\"],[0.3333333333333333,\"#31688e\"],[0.4444444444444444,\"#26828e\"],[0.5555555555555556,\"#1f9e89\"],[0.6666666666666666,\"#35b779\"],[0.7777777777777778,\"#6ece58\"],[0.8888888888888888,\"#b5de2b\"],[1.0,\"#fde725\"]]},\"colorway\":[\"#1F77B4\",\"#FF7F0E\",\"#2CA02C\",\"#D62728\",\"#9467BD\",\"#8C564B\",\"#E377C2\",\"#7F7F7F\",\"#BCBD22\",\"#17BECF\"],\"font\":{\"color\":\"rgb(36,36,36)\"},\"geo\":{\"bgcolor\":\"white\",\"lakecolor\":\"white\",\"landcolor\":\"white\",\"showlakes\":true,\"showland\":true,\"subunitcolor\":\"white\"},\"hoverlabel\":{\"align\":\"left\"},\"hovermode\":\"closest\",\"mapbox\":{\"style\":\"light\"},\"paper_bgcolor\":\"white\",\"plot_bgcolor\":\"white\",\"polar\":{\"angularaxis\":{\"gridcolor\":\"rgb(232,232,232)\",\"linecolor\":\"rgb(36,36,36)\",\"showgrid\":false,\"showline\":true,\"ticks\":\"outside\"},\"bgcolor\":\"white\",\"radialaxis\":{\"gridcolor\":\"rgb(232,232,232)\",\"linecolor\":\"rgb(36,36,36)\",\"showgrid\":false,\"showline\":true,\"ticks\":\"outside\"}},\"scene\":{\"xaxis\":{\"backgroundcolor\":\"white\",\"gridcolor\":\"rgb(232,232,232)\",\"gridwidth\":2,\"linecolor\":\"rgb(36,36,36)\",\"showbackground\":true,\"showgrid\":false,\"showline\":true,\"ticks\":\"outside\",\"zeroline\":false,\"zerolinecolor\":\"rgb(36,36,36)\"},\"yaxis\":{\"backgroundcolor\":\"white\",\"gridcolor\":\"rgb(232,232,232)\",\"gridwidth\":2,\"linecolor\":\"rgb(36,36,36)\",\"showbackground\":true,\"showgrid\":false,\"showline\":true,\"ticks\":\"outside\",\"zeroline\":false,\"zerolinecolor\":\"rgb(36,36,36)\"},\"zaxis\":{\"backgroundcolor\":\"white\",\"gridcolor\":\"rgb(232,232,232)\",\"gridwidth\":2,\"linecolor\":\"rgb(36,36,36)\",\"showbackground\":true,\"showgrid\":false,\"showline\":true,\"ticks\":\"outside\",\"zeroline\":false,\"zerolinecolor\":\"rgb(36,36,36)\"}},\"shapedefaults\":{\"fillcolor\":\"black\",\"line\":{\"width\":0},\"opacity\":0.3},\"ternary\":{\"aaxis\":{\"gridcolor\":\"rgb(232,232,232)\",\"linecolor\":\"rgb(36,36,36)\",\"showgrid\":false,\"showline\":true,\"ticks\":\"outside\"},\"baxis\":{\"gridcolor\":\"rgb(232,232,232)\",\"linecolor\":\"rgb(36,36,36)\",\"showgrid\":false,\"showline\":true,\"ticks\":\"outside\"},\"bgcolor\":\"white\",\"caxis\":{\"gridcolor\":\"rgb(232,232,232)\",\"linecolor\":\"rgb(36,36,36)\",\"showgrid\":false,\"showline\":true,\"ticks\":\"outside\"}},\"title\":{\"x\":0.05},\"xaxis\":{\"automargin\":true,\"gridcolor\":\"rgb(232,232,232)\",\"linecolor\":\"rgb(36,36,36)\",\"showgrid\":false,\"showline\":true,\"ticks\":\"outside\",\"title\":{\"standoff\":15},\"zeroline\":false,\"zerolinecolor\":\"rgb(36,36,36)\"},\"yaxis\":{\"automargin\":true,\"gridcolor\":\"rgb(232,232,232)\",\"linecolor\":\"rgb(36,36,36)\",\"showgrid\":false,\"showline\":true,\"ticks\":\"outside\",\"title\":{\"standoff\":15},\"zeroline\":false,\"zerolinecolor\":\"rgb(36,36,36)\"},\"margin\":{\"b\":0,\"l\":20,\"r\":20,\"t\":40}}}},                        {\"responsive\": true}                    ).then(function(){\n                            \nvar gd = document.getElementById('ccfee45c-be12-4e0a-9bfd-644e6d2b26e3');\nvar x = new MutationObserver(function (mutations, observer) {{\n        var display = window.getComputedStyle(gd).display;\n        if (!display || display === 'none') {{\n            console.log([gd, 'removed!']);\n            Plotly.purge(gd);\n            observer.disconnect();\n        }}\n}});\n\n// Listen for the removal of the full notebook cells\nvar notebookContainer = gd.closest('#notebook-container');\nif (notebookContainer) {{\n    x.observe(notebookContainer, {childList: true});\n}}\n\n// Listen for the clearing of the current output cell\nvar outputEl = gd.closest('.output');\nif (outputEl) {{\n    x.observe(outputEl, {childList: true});\n}}\n\n                        })                };                });            </script>        </div>"
     },
     "metadata": {},
     "output_type": "display_data"
    }
   ],
   "source": [
    "from sklearn.model_selection import ParameterGrid\n",
    "\n",
    "df = []\n",
    "for setting in ParameterGrid(dict(k=range(10), s=np.linspace(0, 5, 10), repetition=range(10))):\n",
    "    y = y_ + np.random.normal(scale=setting[\"s\"], size=len(y_))\n",
    "    y_hat = make_pipeline(PolynomialFeatures(setting[\"k\"]), LinearRegression(fit_intercept=False)).fit(X, y).predict(X)\n",
    "    \n",
    "    df.append([setting[\"k\"], setting[\"s\"], np.mean((y-y_hat)**2)])\n",
    "    \n",
    "df = pd.DataFrame.from_records(df, columns=[\"k\", \"sigma\",\"mse\"]).groupby([\"k\",\"sigma\"]).mean().reset_index()\n",
    "\n",
    "go.Figure(go.Heatmap(x=df.k, y=df.sigma, z=df.mse, colorscale=\"amp\"),\n",
    "          layout=go.Layout(title=r\"$\\text{(6) Average Train } MSE \\text{ As Function of } \\left(k,\\sigma^2\\right)$\", \n",
    "                           xaxis_title=r\"$k$ - Fitted Polynomial Degree\",\n",
    "                           yaxis_title=r\"$\\sigma^2$ - Noise Levels\")).show()\n"
   ]
  },
  {
   "cell_type": "markdown",
   "metadata": {
    "pycharm": {
     "name": "#%% md\n"
    }
   },
   "source": [
    "# Time To Think...\n",
    "\n",
    "In the above figure, we observe the following trends:\n",
    "- As already seen before, for the noise-free data, once we reach the correct $k$ we achieve zero MSE.\n",
    "- Across all values of $k$, as we increase $\\sigma^2$ we get higher MSE values.\n",
    "- For all noise levels, we manage to reduce MSE values by increasing $k$.\n",
    "\n",
    "So, by choosing a **richer** hypothesis class (i.e. larger and that can express more functions - polynomials of higher\n",
    "degree) we are able to choose an hypothesis that fits the **observed** data **better**, regardless to how noisy the data is.\n",
    "Try and think how the above heatmap would look if instead of calculating the MSE over the training samples (i.e train error)\n",
    "we would have calculated it over a **new** set of test samples drawn from the same distribution.\n",
    "\n",
    "Use the below code to create a test set. Change the code generating figure 6 such that the reported error is a test error. Do not forget to add the noise (that depends on $\\sigma^2$) to the test data. What has changed between what we observe for the train error to the test error? What happens for high/low values of $\\sigma^2$? What happens for high/low values of $k$?"
   ]
  },
  {
   "cell_type": "code",
   "execution_count": 22,
   "metadata": {
    "pycharm": {
     "name": "#%%\n"
    }
   },
   "outputs": [
    {
     "data": {
      "application/vnd.plotly.v1+json": {
       "data": [
        {
         "colorscale": [
          [
           0.0,
           "rgb(241, 236, 236)"
          ],
          [
           0.09090909090909091,
           "rgb(230, 209, 203)"
          ],
          [
           0.18181818181818182,
           "rgb(221, 182, 170)"
          ],
          [
           0.2727272727272727,
           "rgb(213, 156, 137)"
          ],
          [
           0.36363636363636365,
           "rgb(205, 129, 103)"
          ],
          [
           0.45454545454545453,
           "rgb(196, 102, 73)"
          ],
          [
           0.5454545454545454,
           "rgb(186, 74, 47)"
          ],
          [
           0.6363636363636364,
           "rgb(172, 44, 36)"
          ],
          [
           0.7272727272727273,
           "rgb(149, 19, 39)"
          ],
          [
           0.8181818181818182,
           "rgb(120, 14, 40)"
          ],
          [
           0.9090909090909091,
           "rgb(89, 13, 31)"
          ],
          [
           1.0,
           "rgb(60, 9, 17)"
          ]
         ],
         "x": [
          0,
          0,
          0,
          0,
          0,
          0,
          0,
          0,
          0,
          0,
          1,
          1,
          1,
          1,
          1,
          1,
          1,
          1,
          1,
          1,
          2,
          2,
          2,
          2,
          2,
          2,
          2,
          2,
          2,
          2,
          3,
          3,
          3,
          3,
          3,
          3,
          3,
          3,
          3,
          3,
          4,
          4,
          4,
          4,
          4,
          4,
          4,
          4,
          4,
          4,
          5,
          5,
          5,
          5,
          5,
          5,
          5,
          5,
          5,
          5,
          6,
          6,
          6,
          6,
          6,
          6,
          6,
          6,
          6,
          6,
          7,
          7,
          7,
          7,
          7,
          7,
          7,
          7,
          7,
          7,
          8,
          8,
          8,
          8,
          8,
          8,
          8,
          8,
          8,
          8,
          9,
          9,
          9,
          9,
          9,
          9,
          9,
          9,
          9,
          9
         ],
         "y": [
          0.0,
          0.5555555555555556,
          1.1111111111111112,
          1.6666666666666667,
          2.2222222222222223,
          2.7777777777777777,
          3.3333333333333335,
          3.8888888888888893,
          4.444444444444445,
          5.0,
          0.0,
          0.5555555555555556,
          1.1111111111111112,
          1.6666666666666667,
          2.2222222222222223,
          2.7777777777777777,
          3.3333333333333335,
          3.8888888888888893,
          4.444444444444445,
          5.0,
          0.0,
          0.5555555555555556,
          1.1111111111111112,
          1.6666666666666667,
          2.2222222222222223,
          2.7777777777777777,
          3.3333333333333335,
          3.8888888888888893,
          4.444444444444445,
          5.0,
          0.0,
          0.5555555555555556,
          1.1111111111111112,
          1.6666666666666667,
          2.2222222222222223,
          2.7777777777777777,
          3.3333333333333335,
          3.8888888888888893,
          4.444444444444445,
          5.0,
          0.0,
          0.5555555555555556,
          1.1111111111111112,
          1.6666666666666667,
          2.2222222222222223,
          2.7777777777777777,
          3.3333333333333335,
          3.8888888888888893,
          4.444444444444445,
          5.0,
          0.0,
          0.5555555555555556,
          1.1111111111111112,
          1.6666666666666667,
          2.2222222222222223,
          2.7777777777777777,
          3.3333333333333335,
          3.8888888888888893,
          4.444444444444445,
          5.0,
          0.0,
          0.5555555555555556,
          1.1111111111111112,
          1.6666666666666667,
          2.2222222222222223,
          2.7777777777777777,
          3.3333333333333335,
          3.8888888888888893,
          4.444444444444445,
          5.0,
          0.0,
          0.5555555555555556,
          1.1111111111111112,
          1.6666666666666667,
          2.2222222222222223,
          2.7777777777777777,
          3.3333333333333335,
          3.8888888888888893,
          4.444444444444445,
          5.0,
          0.0,
          0.5555555555555556,
          1.1111111111111112,
          1.6666666666666667,
          2.2222222222222223,
          2.7777777777777777,
          3.3333333333333335,
          3.8888888888888893,
          4.444444444444445,
          5.0,
          0.0,
          0.5555555555555556,
          1.1111111111111112,
          1.6666666666666667,
          2.2222222222222223,
          2.7777777777777777,
          3.3333333333333335,
          3.8888888888888893,
          4.444444444444445,
          5.0
         ],
         "z": [
          2.8173839575434734,
          3.1636346090466008,
          3.9619008898155004,
          5.861364154103614,
          7.429560379057172,
          12.101331923707871,
          13.959706105805372,
          18.80288445254663,
          22.78844066351156,
          34.09999018986929,
          5.861497739413243,
          6.062059482152853,
          7.373265013632088,
          8.396853814880142,
          11.154358626397276,
          13.769796192888283,
          20.229562724592043,
          22.56866508112059,
          30.48089389703648,
          32.60689100116742,
          5.749470994928735,
          5.959870439916569,
          6.835319202957711,
          9.108435996803552,
          11.371437118668142,
          14.097295529671836,
          19.212000417752076,
          24.09412218976285,
          26.234426294810213,
          29.81756088690783,
          5.863840499962984,
          6.330796993193575,
          7.55010696872682,
          9.155349404284665,
          10.254828726644456,
          17.300685977176013,
          17.456273997510174,
          24.261058040070317,
          27.183063272483814,
          42.210116036527644,
          5.570826609226685,
          6.028897525097454,
          6.857221205760254,
          8.867061492897045,
          13.371795696417664,
          15.77768195989699,
          20.701589373009245,
          21.902413589039497,
          27.618590751421767,
          40.648982945599286,
          5.570826609226685,
          5.730353654025678,
          6.976444574567876,
          8.617082920426354,
          11.290533962007215,
          16.518018467294382,
          20.306670298525404,
          21.461175644323504,
          35.2527970453982,
          35.910257688008585,
          5.570826609226757,
          5.875870705140636,
          7.438341141355421,
          8.41441218313904,
          14.294067072258605,
          15.515025413032287,
          23.335015933545208,
          27.306955253261645,
          34.112988799809045,
          45.058956261153995,
          5.570826609226693,
          5.915148740775686,
          6.931215192209382,
          10.264966465195405,
          12.05824685048382,
          19.58796825852746,
          25.580009775599553,
          28.57578834539308,
          30.419239996988306,
          34.36480402170473,
          5.570826609226401,
          6.4895838860744846,
          7.399289708092556,
          12.051761737497312,
          13.938298121846262,
          21.17861403368287,
          27.545292881197497,
          31.95543437237557,
          37.7026058426978,
          48.55138672699721,
          5.570826609226658,
          6.450733496564686,
          8.247132338020196,
          10.058762939188401,
          15.624857511816236,
          19.980819450976533,
          31.621307737776487,
          29.863772858538777,
          44.22828336571982,
          55.8124566756416
         ],
         "type": "heatmap"
        }
       ],
       "layout": {
        "title": {
         "text": "$\\text{(6) Average Train } MSE \\text{ As Function of } \\left(k,\\sigma^2\\right)$"
        },
        "xaxis": {
         "title": {
          "text": "$k$ - Fitted Polynomial Degree"
         }
        },
        "yaxis": {
         "title": {
          "text": "$\\sigma^2$ - Noise Levels"
         }
        },
        "template": {
         "data": {
          "barpolar": [
           {
            "marker": {
             "line": {
              "color": "white",
              "width": 0.5
             },
             "pattern": {
              "fillmode": "overlay",
              "size": 10,
              "solidity": 0.2
             }
            },
            "type": "barpolar"
           }
          ],
          "bar": [
           {
            "error_x": {
             "color": "rgb(36,36,36)"
            },
            "error_y": {
             "color": "rgb(36,36,36)"
            },
            "marker": {
             "line": {
              "color": "white",
              "width": 0.5
             },
             "pattern": {
              "fillmode": "overlay",
              "size": 10,
              "solidity": 0.2
             }
            },
            "type": "bar"
           }
          ],
          "carpet": [
           {
            "aaxis": {
             "endlinecolor": "rgb(36,36,36)",
             "gridcolor": "white",
             "linecolor": "white",
             "minorgridcolor": "white",
             "startlinecolor": "rgb(36,36,36)"
            },
            "baxis": {
             "endlinecolor": "rgb(36,36,36)",
             "gridcolor": "white",
             "linecolor": "white",
             "minorgridcolor": "white",
             "startlinecolor": "rgb(36,36,36)"
            },
            "type": "carpet"
           }
          ],
          "choropleth": [
           {
            "colorbar": {
             "outlinewidth": 1,
             "tickcolor": "rgb(36,36,36)",
             "ticks": "outside"
            },
            "type": "choropleth"
           }
          ],
          "contourcarpet": [
           {
            "colorbar": {
             "outlinewidth": 1,
             "tickcolor": "rgb(36,36,36)",
             "ticks": "outside"
            },
            "type": "contourcarpet"
           }
          ],
          "contour": [
           {
            "colorbar": {
             "outlinewidth": 1,
             "tickcolor": "rgb(36,36,36)",
             "ticks": "outside"
            },
            "colorscale": [
             [
              0.0,
              "#440154"
             ],
             [
              0.1111111111111111,
              "#482878"
             ],
             [
              0.2222222222222222,
              "#3e4989"
             ],
             [
              0.3333333333333333,
              "#31688e"
             ],
             [
              0.4444444444444444,
              "#26828e"
             ],
             [
              0.5555555555555556,
              "#1f9e89"
             ],
             [
              0.6666666666666666,
              "#35b779"
             ],
             [
              0.7777777777777778,
              "#6ece58"
             ],
             [
              0.8888888888888888,
              "#b5de2b"
             ],
             [
              1.0,
              "#fde725"
             ]
            ],
            "type": "contour"
           }
          ],
          "heatmapgl": [
           {
            "colorbar": {
             "outlinewidth": 1,
             "tickcolor": "rgb(36,36,36)",
             "ticks": "outside"
            },
            "colorscale": [
             [
              0.0,
              "#440154"
             ],
             [
              0.1111111111111111,
              "#482878"
             ],
             [
              0.2222222222222222,
              "#3e4989"
             ],
             [
              0.3333333333333333,
              "#31688e"
             ],
             [
              0.4444444444444444,
              "#26828e"
             ],
             [
              0.5555555555555556,
              "#1f9e89"
             ],
             [
              0.6666666666666666,
              "#35b779"
             ],
             [
              0.7777777777777778,
              "#6ece58"
             ],
             [
              0.8888888888888888,
              "#b5de2b"
             ],
             [
              1.0,
              "#fde725"
             ]
            ],
            "type": "heatmapgl"
           }
          ],
          "heatmap": [
           {
            "colorbar": {
             "outlinewidth": 1,
             "tickcolor": "rgb(36,36,36)",
             "ticks": "outside"
            },
            "colorscale": [
             [
              0.0,
              "#440154"
             ],
             [
              0.1111111111111111,
              "#482878"
             ],
             [
              0.2222222222222222,
              "#3e4989"
             ],
             [
              0.3333333333333333,
              "#31688e"
             ],
             [
              0.4444444444444444,
              "#26828e"
             ],
             [
              0.5555555555555556,
              "#1f9e89"
             ],
             [
              0.6666666666666666,
              "#35b779"
             ],
             [
              0.7777777777777778,
              "#6ece58"
             ],
             [
              0.8888888888888888,
              "#b5de2b"
             ],
             [
              1.0,
              "#fde725"
             ]
            ],
            "type": "heatmap"
           }
          ],
          "histogram2dcontour": [
           {
            "colorbar": {
             "outlinewidth": 1,
             "tickcolor": "rgb(36,36,36)",
             "ticks": "outside"
            },
            "colorscale": [
             [
              0.0,
              "#440154"
             ],
             [
              0.1111111111111111,
              "#482878"
             ],
             [
              0.2222222222222222,
              "#3e4989"
             ],
             [
              0.3333333333333333,
              "#31688e"
             ],
             [
              0.4444444444444444,
              "#26828e"
             ],
             [
              0.5555555555555556,
              "#1f9e89"
             ],
             [
              0.6666666666666666,
              "#35b779"
             ],
             [
              0.7777777777777778,
              "#6ece58"
             ],
             [
              0.8888888888888888,
              "#b5de2b"
             ],
             [
              1.0,
              "#fde725"
             ]
            ],
            "type": "histogram2dcontour"
           }
          ],
          "histogram2d": [
           {
            "colorbar": {
             "outlinewidth": 1,
             "tickcolor": "rgb(36,36,36)",
             "ticks": "outside"
            },
            "colorscale": [
             [
              0.0,
              "#440154"
             ],
             [
              0.1111111111111111,
              "#482878"
             ],
             [
              0.2222222222222222,
              "#3e4989"
             ],
             [
              0.3333333333333333,
              "#31688e"
             ],
             [
              0.4444444444444444,
              "#26828e"
             ],
             [
              0.5555555555555556,
              "#1f9e89"
             ],
             [
              0.6666666666666666,
              "#35b779"
             ],
             [
              0.7777777777777778,
              "#6ece58"
             ],
             [
              0.8888888888888888,
              "#b5de2b"
             ],
             [
              1.0,
              "#fde725"
             ]
            ],
            "type": "histogram2d"
           }
          ],
          "histogram": [
           {
            "marker": {
             "line": {
              "color": "white",
              "width": 0.6
             }
            },
            "type": "histogram"
           }
          ],
          "mesh3d": [
           {
            "colorbar": {
             "outlinewidth": 1,
             "tickcolor": "rgb(36,36,36)",
             "ticks": "outside"
            },
            "type": "mesh3d"
           }
          ],
          "parcoords": [
           {
            "line": {
             "colorbar": {
              "outlinewidth": 1,
              "tickcolor": "rgb(36,36,36)",
              "ticks": "outside"
             }
            },
            "type": "parcoords"
           }
          ],
          "pie": [
           {
            "automargin": true,
            "type": "pie"
           }
          ],
          "scatter3d": [
           {
            "line": {
             "colorbar": {
              "outlinewidth": 1,
              "tickcolor": "rgb(36,36,36)",
              "ticks": "outside"
             }
            },
            "marker": {
             "colorbar": {
              "outlinewidth": 1,
              "tickcolor": "rgb(36,36,36)",
              "ticks": "outside"
             }
            },
            "type": "scatter3d"
           }
          ],
          "scattercarpet": [
           {
            "marker": {
             "colorbar": {
              "outlinewidth": 1,
              "tickcolor": "rgb(36,36,36)",
              "ticks": "outside"
             }
            },
            "type": "scattercarpet"
           }
          ],
          "scattergeo": [
           {
            "marker": {
             "colorbar": {
              "outlinewidth": 1,
              "tickcolor": "rgb(36,36,36)",
              "ticks": "outside"
             }
            },
            "type": "scattergeo"
           }
          ],
          "scattergl": [
           {
            "marker": {
             "colorbar": {
              "outlinewidth": 1,
              "tickcolor": "rgb(36,36,36)",
              "ticks": "outside"
             }
            },
            "type": "scattergl"
           }
          ],
          "scattermapbox": [
           {
            "marker": {
             "colorbar": {
              "outlinewidth": 1,
              "tickcolor": "rgb(36,36,36)",
              "ticks": "outside"
             }
            },
            "type": "scattermapbox"
           }
          ],
          "scatterpolargl": [
           {
            "marker": {
             "colorbar": {
              "outlinewidth": 1,
              "tickcolor": "rgb(36,36,36)",
              "ticks": "outside"
             }
            },
            "type": "scatterpolargl"
           }
          ],
          "scatterpolar": [
           {
            "marker": {
             "colorbar": {
              "outlinewidth": 1,
              "tickcolor": "rgb(36,36,36)",
              "ticks": "outside"
             }
            },
            "type": "scatterpolar"
           }
          ],
          "scatter": [
           {
            "marker": {
             "colorbar": {
              "outlinewidth": 1,
              "tickcolor": "rgb(36,36,36)",
              "ticks": "outside"
             }
            },
            "type": "scatter"
           }
          ],
          "scatterternary": [
           {
            "marker": {
             "colorbar": {
              "outlinewidth": 1,
              "tickcolor": "rgb(36,36,36)",
              "ticks": "outside"
             }
            },
            "type": "scatterternary"
           }
          ],
          "surface": [
           {
            "colorbar": {
             "outlinewidth": 1,
             "tickcolor": "rgb(36,36,36)",
             "ticks": "outside"
            },
            "colorscale": [
             [
              0.0,
              "#440154"
             ],
             [
              0.1111111111111111,
              "#482878"
             ],
             [
              0.2222222222222222,
              "#3e4989"
             ],
             [
              0.3333333333333333,
              "#31688e"
             ],
             [
              0.4444444444444444,
              "#26828e"
             ],
             [
              0.5555555555555556,
              "#1f9e89"
             ],
             [
              0.6666666666666666,
              "#35b779"
             ],
             [
              0.7777777777777778,
              "#6ece58"
             ],
             [
              0.8888888888888888,
              "#b5de2b"
             ],
             [
              1.0,
              "#fde725"
             ]
            ],
            "type": "surface"
           }
          ],
          "table": [
           {
            "cells": {
             "fill": {
              "color": "rgb(237,237,237)"
             },
             "line": {
              "color": "white"
             }
            },
            "header": {
             "fill": {
              "color": "rgb(217,217,217)"
             },
             "line": {
              "color": "white"
             }
            },
            "type": "table"
           }
          ]
         },
         "layout": {
          "annotationdefaults": {
           "arrowhead": 0,
           "arrowwidth": 1
          },
          "autotypenumbers": "strict",
          "coloraxis": {
           "colorbar": {
            "outlinewidth": 1,
            "tickcolor": "rgb(36,36,36)",
            "ticks": "outside"
           }
          },
          "colorscale": {
           "diverging": [
            [
             0.0,
             "rgb(103,0,31)"
            ],
            [
             0.1,
             "rgb(178,24,43)"
            ],
            [
             0.2,
             "rgb(214,96,77)"
            ],
            [
             0.3,
             "rgb(244,165,130)"
            ],
            [
             0.4,
             "rgb(253,219,199)"
            ],
            [
             0.5,
             "rgb(247,247,247)"
            ],
            [
             0.6,
             "rgb(209,229,240)"
            ],
            [
             0.7,
             "rgb(146,197,222)"
            ],
            [
             0.8,
             "rgb(67,147,195)"
            ],
            [
             0.9,
             "rgb(33,102,172)"
            ],
            [
             1.0,
             "rgb(5,48,97)"
            ]
           ],
           "sequential": [
            [
             0.0,
             "#440154"
            ],
            [
             0.1111111111111111,
             "#482878"
            ],
            [
             0.2222222222222222,
             "#3e4989"
            ],
            [
             0.3333333333333333,
             "#31688e"
            ],
            [
             0.4444444444444444,
             "#26828e"
            ],
            [
             0.5555555555555556,
             "#1f9e89"
            ],
            [
             0.6666666666666666,
             "#35b779"
            ],
            [
             0.7777777777777778,
             "#6ece58"
            ],
            [
             0.8888888888888888,
             "#b5de2b"
            ],
            [
             1.0,
             "#fde725"
            ]
           ],
           "sequentialminus": [
            [
             0.0,
             "#440154"
            ],
            [
             0.1111111111111111,
             "#482878"
            ],
            [
             0.2222222222222222,
             "#3e4989"
            ],
            [
             0.3333333333333333,
             "#31688e"
            ],
            [
             0.4444444444444444,
             "#26828e"
            ],
            [
             0.5555555555555556,
             "#1f9e89"
            ],
            [
             0.6666666666666666,
             "#35b779"
            ],
            [
             0.7777777777777778,
             "#6ece58"
            ],
            [
             0.8888888888888888,
             "#b5de2b"
            ],
            [
             1.0,
             "#fde725"
            ]
           ]
          },
          "colorway": [
           "#1F77B4",
           "#FF7F0E",
           "#2CA02C",
           "#D62728",
           "#9467BD",
           "#8C564B",
           "#E377C2",
           "#7F7F7F",
           "#BCBD22",
           "#17BECF"
          ],
          "font": {
           "color": "rgb(36,36,36)"
          },
          "geo": {
           "bgcolor": "white",
           "lakecolor": "white",
           "landcolor": "white",
           "showlakes": true,
           "showland": true,
           "subunitcolor": "white"
          },
          "hoverlabel": {
           "align": "left"
          },
          "hovermode": "closest",
          "mapbox": {
           "style": "light"
          },
          "paper_bgcolor": "white",
          "plot_bgcolor": "white",
          "polar": {
           "angularaxis": {
            "gridcolor": "rgb(232,232,232)",
            "linecolor": "rgb(36,36,36)",
            "showgrid": false,
            "showline": true,
            "ticks": "outside"
           },
           "bgcolor": "white",
           "radialaxis": {
            "gridcolor": "rgb(232,232,232)",
            "linecolor": "rgb(36,36,36)",
            "showgrid": false,
            "showline": true,
            "ticks": "outside"
           }
          },
          "scene": {
           "xaxis": {
            "backgroundcolor": "white",
            "gridcolor": "rgb(232,232,232)",
            "gridwidth": 2,
            "linecolor": "rgb(36,36,36)",
            "showbackground": true,
            "showgrid": false,
            "showline": true,
            "ticks": "outside",
            "zeroline": false,
            "zerolinecolor": "rgb(36,36,36)"
           },
           "yaxis": {
            "backgroundcolor": "white",
            "gridcolor": "rgb(232,232,232)",
            "gridwidth": 2,
            "linecolor": "rgb(36,36,36)",
            "showbackground": true,
            "showgrid": false,
            "showline": true,
            "ticks": "outside",
            "zeroline": false,
            "zerolinecolor": "rgb(36,36,36)"
           },
           "zaxis": {
            "backgroundcolor": "white",
            "gridcolor": "rgb(232,232,232)",
            "gridwidth": 2,
            "linecolor": "rgb(36,36,36)",
            "showbackground": true,
            "showgrid": false,
            "showline": true,
            "ticks": "outside",
            "zeroline": false,
            "zerolinecolor": "rgb(36,36,36)"
           }
          },
          "shapedefaults": {
           "fillcolor": "black",
           "line": {
            "width": 0
           },
           "opacity": 0.3
          },
          "ternary": {
           "aaxis": {
            "gridcolor": "rgb(232,232,232)",
            "linecolor": "rgb(36,36,36)",
            "showgrid": false,
            "showline": true,
            "ticks": "outside"
           },
           "baxis": {
            "gridcolor": "rgb(232,232,232)",
            "linecolor": "rgb(36,36,36)",
            "showgrid": false,
            "showline": true,
            "ticks": "outside"
           },
           "bgcolor": "white",
           "caxis": {
            "gridcolor": "rgb(232,232,232)",
            "linecolor": "rgb(36,36,36)",
            "showgrid": false,
            "showline": true,
            "ticks": "outside"
           }
          },
          "title": {
           "x": 0.05
          },
          "xaxis": {
           "automargin": true,
           "gridcolor": "rgb(232,232,232)",
           "linecolor": "rgb(36,36,36)",
           "showgrid": false,
           "showline": true,
           "ticks": "outside",
           "title": {
            "standoff": 15
           },
           "zeroline": false,
           "zerolinecolor": "rgb(36,36,36)"
          },
          "yaxis": {
           "automargin": true,
           "gridcolor": "rgb(232,232,232)",
           "linecolor": "rgb(36,36,36)",
           "showgrid": false,
           "showline": true,
           "ticks": "outside",
           "title": {
            "standoff": 15
           },
           "zeroline": false,
           "zerolinecolor": "rgb(36,36,36)"
          },
          "margin": {
           "b": 0,
           "l": 20,
           "r": 20,
           "t": 40
          }
         }
        }
       },
       "config": {
        "plotlyServerURL": "https://plot.ly"
       }
      },
      "text/html": "<div>                            <div id=\"8944df48-81ac-4547-8e5e-6ddb0fb354d3\" class=\"plotly-graph-div\" style=\"height:525px; width:100%;\"></div>            <script type=\"text/javascript\">                require([\"plotly\"], function(Plotly) {                    window.PLOTLYENV=window.PLOTLYENV || {};                                    if (document.getElementById(\"8944df48-81ac-4547-8e5e-6ddb0fb354d3\")) {                    Plotly.newPlot(                        \"8944df48-81ac-4547-8e5e-6ddb0fb354d3\",                        [{\"colorscale\":[[0.0,\"rgb(241, 236, 236)\"],[0.09090909090909091,\"rgb(230, 209, 203)\"],[0.18181818181818182,\"rgb(221, 182, 170)\"],[0.2727272727272727,\"rgb(213, 156, 137)\"],[0.36363636363636365,\"rgb(205, 129, 103)\"],[0.45454545454545453,\"rgb(196, 102, 73)\"],[0.5454545454545454,\"rgb(186, 74, 47)\"],[0.6363636363636364,\"rgb(172, 44, 36)\"],[0.7272727272727273,\"rgb(149, 19, 39)\"],[0.8181818181818182,\"rgb(120, 14, 40)\"],[0.9090909090909091,\"rgb(89, 13, 31)\"],[1.0,\"rgb(60, 9, 17)\"]],\"x\":[0,0,0,0,0,0,0,0,0,0,1,1,1,1,1,1,1,1,1,1,2,2,2,2,2,2,2,2,2,2,3,3,3,3,3,3,3,3,3,3,4,4,4,4,4,4,4,4,4,4,5,5,5,5,5,5,5,5,5,5,6,6,6,6,6,6,6,6,6,6,7,7,7,7,7,7,7,7,7,7,8,8,8,8,8,8,8,8,8,8,9,9,9,9,9,9,9,9,9,9],\"y\":[0.0,0.5555555555555556,1.1111111111111112,1.6666666666666667,2.2222222222222223,2.7777777777777777,3.3333333333333335,3.8888888888888893,4.444444444444445,5.0,0.0,0.5555555555555556,1.1111111111111112,1.6666666666666667,2.2222222222222223,2.7777777777777777,3.3333333333333335,3.8888888888888893,4.444444444444445,5.0,0.0,0.5555555555555556,1.1111111111111112,1.6666666666666667,2.2222222222222223,2.7777777777777777,3.3333333333333335,3.8888888888888893,4.444444444444445,5.0,0.0,0.5555555555555556,1.1111111111111112,1.6666666666666667,2.2222222222222223,2.7777777777777777,3.3333333333333335,3.8888888888888893,4.444444444444445,5.0,0.0,0.5555555555555556,1.1111111111111112,1.6666666666666667,2.2222222222222223,2.7777777777777777,3.3333333333333335,3.8888888888888893,4.444444444444445,5.0,0.0,0.5555555555555556,1.1111111111111112,1.6666666666666667,2.2222222222222223,2.7777777777777777,3.3333333333333335,3.8888888888888893,4.444444444444445,5.0,0.0,0.5555555555555556,1.1111111111111112,1.6666666666666667,2.2222222222222223,2.7777777777777777,3.3333333333333335,3.8888888888888893,4.444444444444445,5.0,0.0,0.5555555555555556,1.1111111111111112,1.6666666666666667,2.2222222222222223,2.7777777777777777,3.3333333333333335,3.8888888888888893,4.444444444444445,5.0,0.0,0.5555555555555556,1.1111111111111112,1.6666666666666667,2.2222222222222223,2.7777777777777777,3.3333333333333335,3.8888888888888893,4.444444444444445,5.0,0.0,0.5555555555555556,1.1111111111111112,1.6666666666666667,2.2222222222222223,2.7777777777777777,3.3333333333333335,3.8888888888888893,4.444444444444445,5.0],\"z\":[2.8173839575434734,3.1636346090466008,3.9619008898155004,5.861364154103614,7.429560379057172,12.101331923707871,13.959706105805372,18.80288445254663,22.78844066351156,34.09999018986929,5.861497739413243,6.062059482152853,7.373265013632088,8.396853814880142,11.154358626397276,13.769796192888283,20.229562724592043,22.56866508112059,30.48089389703648,32.60689100116742,5.749470994928735,5.959870439916569,6.835319202957711,9.108435996803552,11.371437118668142,14.097295529671836,19.212000417752076,24.09412218976285,26.234426294810213,29.81756088690783,5.863840499962984,6.330796993193575,7.55010696872682,9.155349404284665,10.254828726644456,17.300685977176013,17.456273997510174,24.261058040070317,27.183063272483814,42.210116036527644,5.570826609226685,6.028897525097454,6.857221205760254,8.867061492897045,13.371795696417664,15.77768195989699,20.701589373009245,21.902413589039497,27.618590751421767,40.648982945599286,5.570826609226685,5.730353654025678,6.976444574567876,8.617082920426354,11.290533962007215,16.518018467294382,20.306670298525404,21.461175644323504,35.2527970453982,35.910257688008585,5.570826609226757,5.875870705140636,7.438341141355421,8.41441218313904,14.294067072258605,15.515025413032287,23.335015933545208,27.306955253261645,34.112988799809045,45.058956261153995,5.570826609226693,5.915148740775686,6.931215192209382,10.264966465195405,12.05824685048382,19.58796825852746,25.580009775599553,28.57578834539308,30.419239996988306,34.36480402170473,5.570826609226401,6.4895838860744846,7.399289708092556,12.051761737497312,13.938298121846262,21.17861403368287,27.545292881197497,31.95543437237557,37.7026058426978,48.55138672699721,5.570826609226658,6.450733496564686,8.247132338020196,10.058762939188401,15.624857511816236,19.980819450976533,31.621307737776487,29.863772858538777,44.22828336571982,55.8124566756416],\"type\":\"heatmap\"}],                        {\"title\":{\"text\":\"$\\\\text{(6) Average Train } MSE \\\\text{ As Function of } \\\\left(k,\\\\sigma^2\\\\right)$\"},\"xaxis\":{\"title\":{\"text\":\"$k$ - Fitted Polynomial Degree\"}},\"yaxis\":{\"title\":{\"text\":\"$\\\\sigma^2$ - Noise Levels\"}},\"template\":{\"data\":{\"barpolar\":[{\"marker\":{\"line\":{\"color\":\"white\",\"width\":0.5},\"pattern\":{\"fillmode\":\"overlay\",\"size\":10,\"solidity\":0.2}},\"type\":\"barpolar\"}],\"bar\":[{\"error_x\":{\"color\":\"rgb(36,36,36)\"},\"error_y\":{\"color\":\"rgb(36,36,36)\"},\"marker\":{\"line\":{\"color\":\"white\",\"width\":0.5},\"pattern\":{\"fillmode\":\"overlay\",\"size\":10,\"solidity\":0.2}},\"type\":\"bar\"}],\"carpet\":[{\"aaxis\":{\"endlinecolor\":\"rgb(36,36,36)\",\"gridcolor\":\"white\",\"linecolor\":\"white\",\"minorgridcolor\":\"white\",\"startlinecolor\":\"rgb(36,36,36)\"},\"baxis\":{\"endlinecolor\":\"rgb(36,36,36)\",\"gridcolor\":\"white\",\"linecolor\":\"white\",\"minorgridcolor\":\"white\",\"startlinecolor\":\"rgb(36,36,36)\"},\"type\":\"carpet\"}],\"choropleth\":[{\"colorbar\":{\"outlinewidth\":1,\"tickcolor\":\"rgb(36,36,36)\",\"ticks\":\"outside\"},\"type\":\"choropleth\"}],\"contourcarpet\":[{\"colorbar\":{\"outlinewidth\":1,\"tickcolor\":\"rgb(36,36,36)\",\"ticks\":\"outside\"},\"type\":\"contourcarpet\"}],\"contour\":[{\"colorbar\":{\"outlinewidth\":1,\"tickcolor\":\"rgb(36,36,36)\",\"ticks\":\"outside\"},\"colorscale\":[[0.0,\"#440154\"],[0.1111111111111111,\"#482878\"],[0.2222222222222222,\"#3e4989\"],[0.3333333333333333,\"#31688e\"],[0.4444444444444444,\"#26828e\"],[0.5555555555555556,\"#1f9e89\"],[0.6666666666666666,\"#35b779\"],[0.7777777777777778,\"#6ece58\"],[0.8888888888888888,\"#b5de2b\"],[1.0,\"#fde725\"]],\"type\":\"contour\"}],\"heatmapgl\":[{\"colorbar\":{\"outlinewidth\":1,\"tickcolor\":\"rgb(36,36,36)\",\"ticks\":\"outside\"},\"colorscale\":[[0.0,\"#440154\"],[0.1111111111111111,\"#482878\"],[0.2222222222222222,\"#3e4989\"],[0.3333333333333333,\"#31688e\"],[0.4444444444444444,\"#26828e\"],[0.5555555555555556,\"#1f9e89\"],[0.6666666666666666,\"#35b779\"],[0.7777777777777778,\"#6ece58\"],[0.8888888888888888,\"#b5de2b\"],[1.0,\"#fde725\"]],\"type\":\"heatmapgl\"}],\"heatmap\":[{\"colorbar\":{\"outlinewidth\":1,\"tickcolor\":\"rgb(36,36,36)\",\"ticks\":\"outside\"},\"colorscale\":[[0.0,\"#440154\"],[0.1111111111111111,\"#482878\"],[0.2222222222222222,\"#3e4989\"],[0.3333333333333333,\"#31688e\"],[0.4444444444444444,\"#26828e\"],[0.5555555555555556,\"#1f9e89\"],[0.6666666666666666,\"#35b779\"],[0.7777777777777778,\"#6ece58\"],[0.8888888888888888,\"#b5de2b\"],[1.0,\"#fde725\"]],\"type\":\"heatmap\"}],\"histogram2dcontour\":[{\"colorbar\":{\"outlinewidth\":1,\"tickcolor\":\"rgb(36,36,36)\",\"ticks\":\"outside\"},\"colorscale\":[[0.0,\"#440154\"],[0.1111111111111111,\"#482878\"],[0.2222222222222222,\"#3e4989\"],[0.3333333333333333,\"#31688e\"],[0.4444444444444444,\"#26828e\"],[0.5555555555555556,\"#1f9e89\"],[0.6666666666666666,\"#35b779\"],[0.7777777777777778,\"#6ece58\"],[0.8888888888888888,\"#b5de2b\"],[1.0,\"#fde725\"]],\"type\":\"histogram2dcontour\"}],\"histogram2d\":[{\"colorbar\":{\"outlinewidth\":1,\"tickcolor\":\"rgb(36,36,36)\",\"ticks\":\"outside\"},\"colorscale\":[[0.0,\"#440154\"],[0.1111111111111111,\"#482878\"],[0.2222222222222222,\"#3e4989\"],[0.3333333333333333,\"#31688e\"],[0.4444444444444444,\"#26828e\"],[0.5555555555555556,\"#1f9e89\"],[0.6666666666666666,\"#35b779\"],[0.7777777777777778,\"#6ece58\"],[0.8888888888888888,\"#b5de2b\"],[1.0,\"#fde725\"]],\"type\":\"histogram2d\"}],\"histogram\":[{\"marker\":{\"line\":{\"color\":\"white\",\"width\":0.6}},\"type\":\"histogram\"}],\"mesh3d\":[{\"colorbar\":{\"outlinewidth\":1,\"tickcolor\":\"rgb(36,36,36)\",\"ticks\":\"outside\"},\"type\":\"mesh3d\"}],\"parcoords\":[{\"line\":{\"colorbar\":{\"outlinewidth\":1,\"tickcolor\":\"rgb(36,36,36)\",\"ticks\":\"outside\"}},\"type\":\"parcoords\"}],\"pie\":[{\"automargin\":true,\"type\":\"pie\"}],\"scatter3d\":[{\"line\":{\"colorbar\":{\"outlinewidth\":1,\"tickcolor\":\"rgb(36,36,36)\",\"ticks\":\"outside\"}},\"marker\":{\"colorbar\":{\"outlinewidth\":1,\"tickcolor\":\"rgb(36,36,36)\",\"ticks\":\"outside\"}},\"type\":\"scatter3d\"}],\"scattercarpet\":[{\"marker\":{\"colorbar\":{\"outlinewidth\":1,\"tickcolor\":\"rgb(36,36,36)\",\"ticks\":\"outside\"}},\"type\":\"scattercarpet\"}],\"scattergeo\":[{\"marker\":{\"colorbar\":{\"outlinewidth\":1,\"tickcolor\":\"rgb(36,36,36)\",\"ticks\":\"outside\"}},\"type\":\"scattergeo\"}],\"scattergl\":[{\"marker\":{\"colorbar\":{\"outlinewidth\":1,\"tickcolor\":\"rgb(36,36,36)\",\"ticks\":\"outside\"}},\"type\":\"scattergl\"}],\"scattermapbox\":[{\"marker\":{\"colorbar\":{\"outlinewidth\":1,\"tickcolor\":\"rgb(36,36,36)\",\"ticks\":\"outside\"}},\"type\":\"scattermapbox\"}],\"scatterpolargl\":[{\"marker\":{\"colorbar\":{\"outlinewidth\":1,\"tickcolor\":\"rgb(36,36,36)\",\"ticks\":\"outside\"}},\"type\":\"scatterpolargl\"}],\"scatterpolar\":[{\"marker\":{\"colorbar\":{\"outlinewidth\":1,\"tickcolor\":\"rgb(36,36,36)\",\"ticks\":\"outside\"}},\"type\":\"scatterpolar\"}],\"scatter\":[{\"marker\":{\"colorbar\":{\"outlinewidth\":1,\"tickcolor\":\"rgb(36,36,36)\",\"ticks\":\"outside\"}},\"type\":\"scatter\"}],\"scatterternary\":[{\"marker\":{\"colorbar\":{\"outlinewidth\":1,\"tickcolor\":\"rgb(36,36,36)\",\"ticks\":\"outside\"}},\"type\":\"scatterternary\"}],\"surface\":[{\"colorbar\":{\"outlinewidth\":1,\"tickcolor\":\"rgb(36,36,36)\",\"ticks\":\"outside\"},\"colorscale\":[[0.0,\"#440154\"],[0.1111111111111111,\"#482878\"],[0.2222222222222222,\"#3e4989\"],[0.3333333333333333,\"#31688e\"],[0.4444444444444444,\"#26828e\"],[0.5555555555555556,\"#1f9e89\"],[0.6666666666666666,\"#35b779\"],[0.7777777777777778,\"#6ece58\"],[0.8888888888888888,\"#b5de2b\"],[1.0,\"#fde725\"]],\"type\":\"surface\"}],\"table\":[{\"cells\":{\"fill\":{\"color\":\"rgb(237,237,237)\"},\"line\":{\"color\":\"white\"}},\"header\":{\"fill\":{\"color\":\"rgb(217,217,217)\"},\"line\":{\"color\":\"white\"}},\"type\":\"table\"}]},\"layout\":{\"annotationdefaults\":{\"arrowhead\":0,\"arrowwidth\":1},\"autotypenumbers\":\"strict\",\"coloraxis\":{\"colorbar\":{\"outlinewidth\":1,\"tickcolor\":\"rgb(36,36,36)\",\"ticks\":\"outside\"}},\"colorscale\":{\"diverging\":[[0.0,\"rgb(103,0,31)\"],[0.1,\"rgb(178,24,43)\"],[0.2,\"rgb(214,96,77)\"],[0.3,\"rgb(244,165,130)\"],[0.4,\"rgb(253,219,199)\"],[0.5,\"rgb(247,247,247)\"],[0.6,\"rgb(209,229,240)\"],[0.7,\"rgb(146,197,222)\"],[0.8,\"rgb(67,147,195)\"],[0.9,\"rgb(33,102,172)\"],[1.0,\"rgb(5,48,97)\"]],\"sequential\":[[0.0,\"#440154\"],[0.1111111111111111,\"#482878\"],[0.2222222222222222,\"#3e4989\"],[0.3333333333333333,\"#31688e\"],[0.4444444444444444,\"#26828e\"],[0.5555555555555556,\"#1f9e89\"],[0.6666666666666666,\"#35b779\"],[0.7777777777777778,\"#6ece58\"],[0.8888888888888888,\"#b5de2b\"],[1.0,\"#fde725\"]],\"sequentialminus\":[[0.0,\"#440154\"],[0.1111111111111111,\"#482878\"],[0.2222222222222222,\"#3e4989\"],[0.3333333333333333,\"#31688e\"],[0.4444444444444444,\"#26828e\"],[0.5555555555555556,\"#1f9e89\"],[0.6666666666666666,\"#35b779\"],[0.7777777777777778,\"#6ece58\"],[0.8888888888888888,\"#b5de2b\"],[1.0,\"#fde725\"]]},\"colorway\":[\"#1F77B4\",\"#FF7F0E\",\"#2CA02C\",\"#D62728\",\"#9467BD\",\"#8C564B\",\"#E377C2\",\"#7F7F7F\",\"#BCBD22\",\"#17BECF\"],\"font\":{\"color\":\"rgb(36,36,36)\"},\"geo\":{\"bgcolor\":\"white\",\"lakecolor\":\"white\",\"landcolor\":\"white\",\"showlakes\":true,\"showland\":true,\"subunitcolor\":\"white\"},\"hoverlabel\":{\"align\":\"left\"},\"hovermode\":\"closest\",\"mapbox\":{\"style\":\"light\"},\"paper_bgcolor\":\"white\",\"plot_bgcolor\":\"white\",\"polar\":{\"angularaxis\":{\"gridcolor\":\"rgb(232,232,232)\",\"linecolor\":\"rgb(36,36,36)\",\"showgrid\":false,\"showline\":true,\"ticks\":\"outside\"},\"bgcolor\":\"white\",\"radialaxis\":{\"gridcolor\":\"rgb(232,232,232)\",\"linecolor\":\"rgb(36,36,36)\",\"showgrid\":false,\"showline\":true,\"ticks\":\"outside\"}},\"scene\":{\"xaxis\":{\"backgroundcolor\":\"white\",\"gridcolor\":\"rgb(232,232,232)\",\"gridwidth\":2,\"linecolor\":\"rgb(36,36,36)\",\"showbackground\":true,\"showgrid\":false,\"showline\":true,\"ticks\":\"outside\",\"zeroline\":false,\"zerolinecolor\":\"rgb(36,36,36)\"},\"yaxis\":{\"backgroundcolor\":\"white\",\"gridcolor\":\"rgb(232,232,232)\",\"gridwidth\":2,\"linecolor\":\"rgb(36,36,36)\",\"showbackground\":true,\"showgrid\":false,\"showline\":true,\"ticks\":\"outside\",\"zeroline\":false,\"zerolinecolor\":\"rgb(36,36,36)\"},\"zaxis\":{\"backgroundcolor\":\"white\",\"gridcolor\":\"rgb(232,232,232)\",\"gridwidth\":2,\"linecolor\":\"rgb(36,36,36)\",\"showbackground\":true,\"showgrid\":false,\"showline\":true,\"ticks\":\"outside\",\"zeroline\":false,\"zerolinecolor\":\"rgb(36,36,36)\"}},\"shapedefaults\":{\"fillcolor\":\"black\",\"line\":{\"width\":0},\"opacity\":0.3},\"ternary\":{\"aaxis\":{\"gridcolor\":\"rgb(232,232,232)\",\"linecolor\":\"rgb(36,36,36)\",\"showgrid\":false,\"showline\":true,\"ticks\":\"outside\"},\"baxis\":{\"gridcolor\":\"rgb(232,232,232)\",\"linecolor\":\"rgb(36,36,36)\",\"showgrid\":false,\"showline\":true,\"ticks\":\"outside\"},\"bgcolor\":\"white\",\"caxis\":{\"gridcolor\":\"rgb(232,232,232)\",\"linecolor\":\"rgb(36,36,36)\",\"showgrid\":false,\"showline\":true,\"ticks\":\"outside\"}},\"title\":{\"x\":0.05},\"xaxis\":{\"automargin\":true,\"gridcolor\":\"rgb(232,232,232)\",\"linecolor\":\"rgb(36,36,36)\",\"showgrid\":false,\"showline\":true,\"ticks\":\"outside\",\"title\":{\"standoff\":15},\"zeroline\":false,\"zerolinecolor\":\"rgb(36,36,36)\"},\"yaxis\":{\"automargin\":true,\"gridcolor\":\"rgb(232,232,232)\",\"linecolor\":\"rgb(36,36,36)\",\"showgrid\":false,\"showline\":true,\"ticks\":\"outside\",\"title\":{\"standoff\":15},\"zeroline\":false,\"zerolinecolor\":\"rgb(36,36,36)\"},\"margin\":{\"b\":0,\"l\":20,\"r\":20,\"t\":40}}}},                        {\"responsive\": true}                    ).then(function(){\n                            \nvar gd = document.getElementById('8944df48-81ac-4547-8e5e-6ddb0fb354d3');\nvar x = new MutationObserver(function (mutations, observer) {{\n        var display = window.getComputedStyle(gd).display;\n        if (!display || display === 'none') {{\n            console.log([gd, 'removed!']);\n            Plotly.purge(gd);\n            observer.disconnect();\n        }}\n}});\n\n// Listen for the removal of the full notebook cells\nvar notebookContainer = gd.closest('#notebook-container');\nif (notebookContainer) {{\n    x.observe(notebookContainer, {childList: true});\n}}\n\n// Listen for the clearing of the current output cell\nvar outputEl = gd.closest('.output');\nif (outputEl) {{\n    x.observe(outputEl, {childList: true});\n}}\n\n                        })                };                });            </script>        </div>"
     },
     "metadata": {},
     "output_type": "display_data"
    }
   ],
   "source": [
    "# Generate the x values of the test set\n",
    "testX = np.linspace(-1.2, 2, 40)[1::2].reshape(-1,1)\n",
    "\n",
    "# Generate the noisy y values of the test set. Set the noise level (the scale parameter) according to the specific setting\n",
    "\n",
    "df = []\n",
    "for setting in ParameterGrid(dict(k=range(10), s=np.linspace(0, 5, 10), repetition=range(10))):\n",
    "    y = y_ + np.random.normal(scale=setting[\"s\"], size=len(y_))\n",
    "    testY = response(testX) + np.random.normal(scale=setting[\"s\"], size=len(y_))\n",
    "    y_hat = make_pipeline(PolynomialFeatures(setting[\"k\"]), LinearRegression(fit_intercept=False)).fit(X, y).predict(testX)\n",
    "\n",
    "    df.append([setting[\"k\"], setting[\"s\"], np.mean((testY-y_hat)**2)])\n",
    "\n",
    "df = pd.DataFrame.from_records(df, columns=[\"k\", \"sigma\",\"mse\"]).groupby([\"k\",\"sigma\"]).mean().reset_index()\n",
    "\n",
    "go.Figure(go.Heatmap(x=df.k, y=df.sigma, z=df.mse, colorscale=\"amp\"),\n",
    "          layout=go.Layout(title=r\"$\\text{(6) Average Train } MSE \\text{ As Function of } \\left(k,\\sigma^2\\right)$\",\n",
    "                           xaxis_title=r\"$k$ - Fitted Polynomial Degree\",\n",
    "                           yaxis_title=r\"$\\sigma^2$ - Noise Levels\")).show()"
   ]
  }
 ],
 "metadata": {
  "kernelspec": {
   "display_name": "Python 3",
   "language": "python",
   "name": "python3"
  },
  "language_info": {
   "codemirror_mode": {
    "name": "ipython",
    "version": 3
   },
   "file_extension": ".py",
   "mimetype": "text/x-python",
   "name": "python",
   "nbconvert_exporter": "python",
   "pygments_lexer": "ipython3",
   "version": "3.7.10"
  }
 },
 "nbformat": 4,
 "nbformat_minor": 1
}